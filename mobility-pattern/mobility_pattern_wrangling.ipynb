{
 "cells": [
  {
   "cell_type": "markdown",
   "metadata": {},
   "source": [
    "# Applied Data Analysis - Fall 2016\n",
    "## Twitter-Swisscom Project\n",
    "\n",
    "### Mobility Pattern: Data Wrangling\n",
    "\n",
    "\n",
    "1 - [Load the data](#load_data)\n",
    "\n",
    "2 - [Cleaning](#cleaning)\n",
    "\n",
    "3 - [Exploratory and Analysis](#exploratory_analysis)"
   ]
  },
  {
   "cell_type": "code",
   "execution_count": 1,
   "metadata": {
    "collapsed": true
   },
   "outputs": [],
   "source": [
    "import pandas as pd\n",
    "import math\n",
    "import numpy as np\n",
    "from mobility_helper import *\n",
    "from collections import Counter\n",
    "import seaborn as sns\n",
    "import matplotlib.pyplot as plt\n",
    "import time\n",
    "from geopy.geocoders import Nominatim,Bing\n",
    "import datetime as dt\n",
    "import folium"
   ]
  },
  {
   "cell_type": "markdown",
   "metadata": {},
   "source": [
    "### 1 - <a id='load_data'>Load the data</a> \n",
    "\n",
    "Contains subset of the original schema. Already removed useless columns for mobility pattern at preprocessing:\n",
    "1. id\n",
    "2. userID\n",
    "3. createdAt\n",
    "4. longitude\n",
    "5. latitude\n",
    "6. placeID\n",
    "7. placeLatitude\n",
    "8. placeLongitude\n",
    "9. sourceName\n",
    "10. userLocation"
   ]
  },
  {
   "cell_type": "code",
   "execution_count": 2,
   "metadata": {
    "collapsed": false
   },
   "outputs": [],
   "source": [
    "src = '../twitter-swisscom/mobility/twex_mobility_corrected.tsv'\n",
    "columns = ['ID', 'userID', 'createdAt', 'longitude', 'latitude', 'placeID','placeLatitude','placeLongitude','sourceName', 'userLocation']\n",
    "dtypes = {'ID': 'int', 'createdAt': 'str', 'longitude': 'float', 'latitude': 'float', 'placeID': 'str', 'placeLatitude': 'float', 'placeLongitude': 'float', 'sourceName': 'str', 'userLocation': 'str'}\n",
    "\n",
    "chunk_size = 10**6\n",
    "df = pd.read_csv(src, sep='\\t', names=columns, na_values=['\\\\N'],dtype=dtypes, encoding='utf-8')"
   ]
  },
  {
   "cell_type": "markdown",
   "metadata": {},
   "source": [
    "### 2 - <a id='cleaning'>Cleaning</a>\n",
    "\n",
    "We check the number of rows with null latitude."
   ]
  },
  {
   "cell_type": "code",
   "execution_count": 3,
   "metadata": {
    "collapsed": false
   },
   "outputs": [
    {
     "name": "stdout",
     "output_type": "stream",
     "text": [
      "6308709\n"
     ]
    }
   ],
   "source": [
    "print(len(df[pd.isnull(df.latitude)]))"
   ]
  },
  {
   "cell_type": "markdown",
   "metadata": {},
   "source": [
    "Number of null longitude."
   ]
  },
  {
   "cell_type": "code",
   "execution_count": 4,
   "metadata": {
    "collapsed": false
   },
   "outputs": [
    {
     "name": "stdout",
     "output_type": "stream",
     "text": [
      "6308709\n"
     ]
    }
   ],
   "source": [
    "print(len(df[pd.isnull(df.longitude)]))"
   ]
  },
  {
   "cell_type": "markdown",
   "metadata": {},
   "source": [
    "Number of tweets with both latitude and longitude null."
   ]
  },
  {
   "cell_type": "code",
   "execution_count": 5,
   "metadata": {
    "collapsed": false
   },
   "outputs": [
    {
     "name": "stdout",
     "output_type": "stream",
     "text": [
      "6308709\n"
     ]
    }
   ],
   "source": [
    "no_coord = np.logical_and(pd.isnull(df.latitude), pd.isnull(df.longitude))\n",
    "tw_wo_coord = df[no_coord]\n",
    "print(len(tw_wo_coord))"
   ]
  },
  {
   "cell_type": "markdown",
   "metadata": {},
   "source": [
    "We get the same numbers. Thus one is never null without the second also null.\n",
    "\n",
    "We now check if the place coordinates exists in case of null original coordinates."
   ]
  },
  {
   "cell_type": "code",
   "execution_count": 6,
   "metadata": {
    "collapsed": false
   },
   "outputs": [
    {
     "data": {
      "text/plain": [
       "6308709"
      ]
     },
     "execution_count": 6,
     "metadata": {},
     "output_type": "execute_result"
    }
   ],
   "source": [
    "has_place_coord = tw_wo_coord[~np.logical_and(pd.isnull(tw_wo_coord.placeLatitude), pd.isnull(tw_wo_coord.placeLongitude))]\n",
    "len(has_place_coord)"
   ]
  },
  {
   "cell_type": "markdown",
   "metadata": {},
   "source": [
    "We see that they always exist. This imply that we can replace the original coordinates by the place coordinates in case of nullity."
   ]
  },
  {
   "cell_type": "code",
   "execution_count": 7,
   "metadata": {
    "collapsed": true
   },
   "outputs": [],
   "source": [
    "df['latitude'] = df.apply(replaceLatitude, axis=1)\n",
    "df['longitude'] = df.apply(replaceLongitude, axis=1)"
   ]
  },
  {
   "cell_type": "markdown",
   "metadata": {},
   "source": [
    "We check the number of tweets with no coordinates now."
   ]
  },
  {
   "cell_type": "code",
   "execution_count": 8,
   "metadata": {
    "collapsed": false
   },
   "outputs": [
    {
     "data": {
      "text/plain": [
       "0"
      ]
     },
     "execution_count": 8,
     "metadata": {},
     "output_type": "execute_result"
    }
   ],
   "source": [
    "no_coord = np.logical_and(pd.isnull(df.latitude), pd.isnull(df.longitude))\n",
    "len(df[no_coord])"
   ]
  },
  {
   "cell_type": "markdown",
   "metadata": {},
   "source": [
    "We do not have NaN coordinates. We can now safely drop the place coordinates columns since they are no longer of use to us."
   ]
  },
  {
   "cell_type": "code",
   "execution_count": 9,
   "metadata": {
    "collapsed": false
   },
   "outputs": [
    {
     "data": {
      "text/html": [
       "<div>\n",
       "<table border=\"1\" class=\"dataframe\">\n",
       "  <thead>\n",
       "    <tr style=\"text-align: right;\">\n",
       "      <th></th>\n",
       "      <th>ID</th>\n",
       "      <th>userID</th>\n",
       "      <th>createdAt</th>\n",
       "      <th>longitude</th>\n",
       "      <th>latitude</th>\n",
       "      <th>sourceName</th>\n",
       "      <th>userLocation</th>\n",
       "    </tr>\n",
       "  </thead>\n",
       "  <tbody>\n",
       "    <tr>\n",
       "      <th>0</th>\n",
       "      <td>924163322</td>\n",
       "      <td>17341045</td>\n",
       "      <td>2010-02-23 05:55:51</td>\n",
       "      <td>7.43926</td>\n",
       "      <td>46.9489</td>\n",
       "      <td>TwitBird</td>\n",
       "      <td>Bern, Switzerland</td>\n",
       "    </tr>\n",
       "    <tr>\n",
       "      <th>1</th>\n",
       "      <td>924911820</td>\n",
       "      <td>7198282</td>\n",
       "      <td>2010-02-23 06:22:40</td>\n",
       "      <td>8.53781</td>\n",
       "      <td>47.3678</td>\n",
       "      <td>Gowalla</td>\n",
       "      <td>Zurich, Switzerland</td>\n",
       "    </tr>\n",
       "    <tr>\n",
       "      <th>2</th>\n",
       "      <td>926639767</td>\n",
       "      <td>14657884</td>\n",
       "      <td>2010-02-23 07:34:25</td>\n",
       "      <td>6.13396</td>\n",
       "      <td>46.1951</td>\n",
       "      <td>foursquare</td>\n",
       "      <td>Geneva, Switzerland</td>\n",
       "    </tr>\n",
       "    <tr>\n",
       "      <th>3</th>\n",
       "      <td>927018013</td>\n",
       "      <td>14703863</td>\n",
       "      <td>2010-02-23 07:51:47</td>\n",
       "      <td>8.81749</td>\n",
       "      <td>47.2288</td>\n",
       "      <td>Twittelator</td>\n",
       "      <td>Zürich, Switzerland</td>\n",
       "    </tr>\n",
       "    <tr>\n",
       "      <th>4</th>\n",
       "      <td>927264351</td>\n",
       "      <td>14393717</td>\n",
       "      <td>2010-02-23 08:02:57</td>\n",
       "      <td>6.63254</td>\n",
       "      <td>46.5199</td>\n",
       "      <td>foursquare</td>\n",
       "      <td>Lausanne, Suisse</td>\n",
       "    </tr>\n",
       "  </tbody>\n",
       "</table>\n",
       "</div>"
      ],
      "text/plain": [
       "          ID    userID            createdAt  longitude  latitude   sourceName  \\\n",
       "0  924163322  17341045  2010-02-23 05:55:51    7.43926   46.9489     TwitBird   \n",
       "1  924911820   7198282  2010-02-23 06:22:40    8.53781   47.3678      Gowalla   \n",
       "2  926639767  14657884  2010-02-23 07:34:25    6.13396   46.1951   foursquare   \n",
       "3  927018013  14703863  2010-02-23 07:51:47    8.81749   47.2288  Twittelator   \n",
       "4  927264351  14393717  2010-02-23 08:02:57    6.63254   46.5199   foursquare   \n",
       "\n",
       "          userLocation  \n",
       "0    Bern, Switzerland  \n",
       "1  Zurich, Switzerland  \n",
       "2  Geneva, Switzerland  \n",
       "3  Zürich, Switzerland  \n",
       "4     Lausanne, Suisse  "
      ]
     },
     "execution_count": 9,
     "metadata": {},
     "output_type": "execute_result"
    }
   ],
   "source": [
    "df = df.drop(['placeID', 'placeLatitude', 'placeLongitude'], axis=1)\n",
    "df.head()"
   ]
  },
  {
   "cell_type": "markdown",
   "metadata": {},
   "source": [
    "We now look at timestamps. We start by checking the nullity of each row."
   ]
  },
  {
   "cell_type": "code",
   "execution_count": 10,
   "metadata": {
    "collapsed": false
   },
   "outputs": [
    {
     "name": "stdout",
     "output_type": "stream",
     "text": [
      "0\n"
     ]
    }
   ],
   "source": [
    "print(len(df[pd.isnull(df.createdAt)]))"
   ]
  },
  {
   "cell_type": "markdown",
   "metadata": {},
   "source": [
    "There are no tweets without timestamp.\n",
    "\n",
    "We now want to have tweets in the area of Switzerland with pieces of the neighboring countries. We thus filter by latitude and longitude. we define the following bounds:\n",
    "- 45 <= latitude <= 48\n",
    "- 4 <= longitude <= 13\n",
    "We remove the potential outliers."
   ]
  },
  {
   "cell_type": "code",
   "execution_count": 11,
   "metadata": {
    "collapsed": false
   },
   "outputs": [
    {
     "name": "stdout",
     "output_type": "stream",
     "text": [
      "16089761\n",
      "1826\n"
     ]
    }
   ],
   "source": [
    "print(len(df))\n",
    "lat_inbound = ((45 <= df.latitude) & (df.latitude <= 48))\n",
    "long_inbound = ((4 <= df.longitude) & (df.longitude <= 13))\n",
    "inbound = np.logical_and(lat_inbound, long_inbound)\n",
    "print(len(df[~inbound]))\n",
    "df = df[inbound]"
   ]
  },
  {
   "cell_type": "markdown",
   "metadata": {},
   "source": [
    "We decide to remove the sourceName field. We wanted to see if we could emphasize on the source of the sending: Desktop or mobile. Since the majority of sources are coming from mobile apps it is of no use to us. We remove the corresponding column"
   ]
  },
  {
   "cell_type": "code",
   "execution_count": 12,
   "metadata": {
    "collapsed": false
   },
   "outputs": [
    {
     "data": {
      "text/html": [
       "<div>\n",
       "<table border=\"1\" class=\"dataframe\">\n",
       "  <thead>\n",
       "    <tr style=\"text-align: right;\">\n",
       "      <th></th>\n",
       "      <th>ID</th>\n",
       "      <th>userID</th>\n",
       "      <th>createdAt</th>\n",
       "      <th>longitude</th>\n",
       "      <th>latitude</th>\n",
       "      <th>userLocation</th>\n",
       "    </tr>\n",
       "  </thead>\n",
       "  <tbody>\n",
       "    <tr>\n",
       "      <th>0</th>\n",
       "      <td>924163322</td>\n",
       "      <td>17341045</td>\n",
       "      <td>2010-02-23 05:55:51</td>\n",
       "      <td>7.43926</td>\n",
       "      <td>46.9489</td>\n",
       "      <td>Bern, Switzerland</td>\n",
       "    </tr>\n",
       "    <tr>\n",
       "      <th>1</th>\n",
       "      <td>924911820</td>\n",
       "      <td>7198282</td>\n",
       "      <td>2010-02-23 06:22:40</td>\n",
       "      <td>8.53781</td>\n",
       "      <td>47.3678</td>\n",
       "      <td>Zurich, Switzerland</td>\n",
       "    </tr>\n",
       "    <tr>\n",
       "      <th>2</th>\n",
       "      <td>926639767</td>\n",
       "      <td>14657884</td>\n",
       "      <td>2010-02-23 07:34:25</td>\n",
       "      <td>6.13396</td>\n",
       "      <td>46.1951</td>\n",
       "      <td>Geneva, Switzerland</td>\n",
       "    </tr>\n",
       "    <tr>\n",
       "      <th>3</th>\n",
       "      <td>927018013</td>\n",
       "      <td>14703863</td>\n",
       "      <td>2010-02-23 07:51:47</td>\n",
       "      <td>8.81749</td>\n",
       "      <td>47.2288</td>\n",
       "      <td>Zürich, Switzerland</td>\n",
       "    </tr>\n",
       "    <tr>\n",
       "      <th>4</th>\n",
       "      <td>927264351</td>\n",
       "      <td>14393717</td>\n",
       "      <td>2010-02-23 08:02:57</td>\n",
       "      <td>6.63254</td>\n",
       "      <td>46.5199</td>\n",
       "      <td>Lausanne, Suisse</td>\n",
       "    </tr>\n",
       "  </tbody>\n",
       "</table>\n",
       "</div>"
      ],
      "text/plain": [
       "          ID    userID            createdAt  longitude  latitude  \\\n",
       "0  924163322  17341045  2010-02-23 05:55:51    7.43926   46.9489   \n",
       "1  924911820   7198282  2010-02-23 06:22:40    8.53781   47.3678   \n",
       "2  926639767  14657884  2010-02-23 07:34:25    6.13396   46.1951   \n",
       "3  927018013  14703863  2010-02-23 07:51:47    8.81749   47.2288   \n",
       "4  927264351  14393717  2010-02-23 08:02:57    6.63254   46.5199   \n",
       "\n",
       "          userLocation  \n",
       "0    Bern, Switzerland  \n",
       "1  Zurich, Switzerland  \n",
       "2  Geneva, Switzerland  \n",
       "3  Zürich, Switzerland  \n",
       "4     Lausanne, Suisse  "
      ]
     },
     "execution_count": 12,
     "metadata": {},
     "output_type": "execute_result"
    }
   ],
   "source": [
    "df = df.drop(['sourceName'], axis=1)\n",
    "df.head()"
   ]
  },
  {
   "cell_type": "markdown",
   "metadata": {},
   "source": [
    "### 3 - <a id='exploratory_analysis'>Data exploration and Analysis</a> \n",
    "\n",
    "We first want to look at the distribution of our coordinates."
   ]
  },
  {
   "cell_type": "code",
   "execution_count": 13,
   "metadata": {
    "collapsed": false
   },
   "outputs": [
    {
     "data": {
      "image/png": "[encoded data removed]",
      "text/plain": [
       "<matplotlib.figure.Figure at 0x1891ec2e208>"
      ]
     },
     "metadata": {},
     "output_type": "display_data"
    }
   ],
   "source": [
    "main_cities = {\n",
    "    'Zurich': [47.36667, 8.55000],\n",
    "    'Geneva':[46.2,6.1667],\n",
    "    'Basel': [47.5667,7.6],\n",
    "    'Bern' : [46.9167,7.4667],\n",
    "    'Lausanne': [46.5333,6.6667],\n",
    "    'Sion': [46.2333,7.35],\n",
    "    'Varese': [45.8176,8.8264],\n",
    "    'Mulhouse': [47.75, 7.3333],\n",
    "}\n",
    "g = sns.jointplot(x=df.longitude, y=df.latitude, kind=\"hex\", color=\"k\");\n",
    "for city, coord in main_cities.items():\n",
    "    g.ax_joint.scatter(coord[1], coord[0], marker='o', c='r', s=5)\n",
    "    g.ax_joint.annotate(city, xy=(coord[1], coord[0]), xytext=(coord[1], coord[0]))\n",
    "plt.show()"
   ]
  },
  {
   "cell_type": "markdown",
   "metadata": {},
   "source": [
    "We can see that our coordinate are mostly concentrated in the big cities of Switzerland as well as some  bordering cities.\n",
    "\n",
    "After looking at the user location we see that this information is messy and frequently useless to us. It is too difficult to detect and use this field when it adds good information. We remove the column."
   ]
  },
  {
   "cell_type": "code",
   "execution_count": 14,
   "metadata": {
    "collapsed": false
   },
   "outputs": [
    {
     "data": {
      "text/html": [
       "<div>\n",
       "<table border=\"1\" class=\"dataframe\">\n",
       "  <thead>\n",
       "    <tr style=\"text-align: right;\">\n",
       "      <th></th>\n",
       "      <th>ID</th>\n",
       "      <th>userID</th>\n",
       "      <th>createdAt</th>\n",
       "      <th>longitude</th>\n",
       "      <th>latitude</th>\n",
       "    </tr>\n",
       "  </thead>\n",
       "  <tbody>\n",
       "    <tr>\n",
       "      <th>0</th>\n",
       "      <td>924163322</td>\n",
       "      <td>17341045</td>\n",
       "      <td>2010-02-23 05:55:51</td>\n",
       "      <td>7.43926</td>\n",
       "      <td>46.9489</td>\n",
       "    </tr>\n",
       "    <tr>\n",
       "      <th>1</th>\n",
       "      <td>924911820</td>\n",
       "      <td>7198282</td>\n",
       "      <td>2010-02-23 06:22:40</td>\n",
       "      <td>8.53781</td>\n",
       "      <td>47.3678</td>\n",
       "    </tr>\n",
       "    <tr>\n",
       "      <th>2</th>\n",
       "      <td>926639767</td>\n",
       "      <td>14657884</td>\n",
       "      <td>2010-02-23 07:34:25</td>\n",
       "      <td>6.13396</td>\n",
       "      <td>46.1951</td>\n",
       "    </tr>\n",
       "    <tr>\n",
       "      <th>3</th>\n",
       "      <td>927018013</td>\n",
       "      <td>14703863</td>\n",
       "      <td>2010-02-23 07:51:47</td>\n",
       "      <td>8.81749</td>\n",
       "      <td>47.2288</td>\n",
       "    </tr>\n",
       "    <tr>\n",
       "      <th>4</th>\n",
       "      <td>927264351</td>\n",
       "      <td>14393717</td>\n",
       "      <td>2010-02-23 08:02:57</td>\n",
       "      <td>6.63254</td>\n",
       "      <td>46.5199</td>\n",
       "    </tr>\n",
       "  </tbody>\n",
       "</table>\n",
       "</div>"
      ],
      "text/plain": [
       "          ID    userID            createdAt  longitude  latitude\n",
       "0  924163322  17341045  2010-02-23 05:55:51    7.43926   46.9489\n",
       "1  924911820   7198282  2010-02-23 06:22:40    8.53781   47.3678\n",
       "2  926639767  14657884  2010-02-23 07:34:25    6.13396   46.1951\n",
       "3  927018013  14703863  2010-02-23 07:51:47    8.81749   47.2288\n",
       "4  927264351  14393717  2010-02-23 08:02:57    6.63254   46.5199"
      ]
     },
     "execution_count": 14,
     "metadata": {},
     "output_type": "execute_result"
    }
   ],
   "source": [
    "df = df.drop(['userLocation'], axis=1)\n",
    "df.head()"
   ]
  },
  {
   "cell_type": "markdown",
   "metadata": {},
   "source": [
    "We group our tweets by users and check the distribution of tweets per user."
   ]
  },
  {
   "cell_type": "code",
   "execution_count": 15,
   "metadata": {
    "collapsed": false
   },
   "outputs": [
    {
     "data": {
      "image/png": "[encoded data removed]",
      "text/plain": [
       "<matplotlib.figure.Figure at 0x188e7bf7630>"
      ]
     },
     "metadata": {},
     "output_type": "display_data"
    }
   ],
   "source": [
    "count_users = pd.DataFrame(df.groupby(['userID']).size())\n",
    "count_users.columns = ['count']\n",
    "count_users = count_users.sort_values(by=['count'], ascending=True)\n",
    "count_users = count_users.reset_index()\n",
    "\n",
    "count_users.plot(y='count', use_index=True)\n",
    "plt.show()"
   ]
  },
  {
   "cell_type": "markdown",
   "metadata": {},
   "source": [
    "We observe than 5% of our users wrote more than 90% of our tweets. This means that our number of users will drastically be inferior to the number of tweets we have. Also, this also mean that we have a lot of users that wrote very few tweets. Since we want to do statistics about users locations and movement we should remove those users.\n",
    "\n",
    "We remove users who wrote less than 100 of tweets. We will loose a high number of users but the ones we keep will have enough data to obtain statistics of minimum quality."
   ]
  },
  {
   "cell_type": "code",
   "execution_count": 16,
   "metadata": {
    "collapsed": false
   },
   "outputs": [
    {
     "name": "stdout",
     "output_type": "stream",
     "text": [
      "Percentage of user loss:  95.34406577590921\n"
     ]
    },
    {
     "data": {
      "text/plain": [
       "13186324"
      ]
     },
     "execution_count": 16,
     "metadata": {},
     "output_type": "execute_result"
    }
   ],
   "source": [
    "threshold = 100\n",
    "before = len(count_users)\n",
    "count_users = count_users[count_users['count'] >= threshold]\n",
    "after = len(count_users)\n",
    "print('Percentage of user loss: ',(before-after)*100/before)\n",
    "\n",
    "#list of ids to keep\n",
    "#DataFrame 'tweets' is the filtered version of our first 'df'\n",
    "ids_to_keep = list(count_users.userID)\n",
    "tweets = df[df.userID.isin(ids_to_keep)]\n",
    "len(tweets)"
   ]
  },
  {
   "cell_type": "markdown",
   "metadata": {},
   "source": [
    "We now check our timestamps. We want to know if we have tweets without timestamps and we want to convert those into datetime objects for future uses.\n",
    "\n",
    "Check the types:"
   ]
  },
  {
   "cell_type": "code",
   "execution_count": 17,
   "metadata": {
    "collapsed": false
   },
   "outputs": [
    {
     "data": {
      "text/plain": [
       "ID             int32\n",
       "userID         int64\n",
       "createdAt     object\n",
       "longitude    float64\n",
       "latitude     float64\n",
       "dtype: object"
      ]
     },
     "execution_count": 17,
     "metadata": {},
     "output_type": "execute_result"
    }
   ],
   "source": [
    "tweets.dtypes"
   ]
  },
  {
   "cell_type": "markdown",
   "metadata": {},
   "source": [
    "Let's convert them."
   ]
  },
  {
   "cell_type": "code",
   "execution_count": 18,
   "metadata": {
    "collapsed": false
   },
   "outputs": [
    {
     "name": "stderr",
     "output_type": "stream",
     "text": [
      "C:\\Users\\Alain\\Anaconda3\\lib\\site-packages\\ipykernel\\__main__.py:1: SettingWithCopyWarning: \n",
      "A value is trying to be set on a copy of a slice from a DataFrame.\n",
      "Try using .loc[row_indexer,col_indexer] = value instead\n",
      "\n",
      "See the caveats in the documentation: http://pandas.pydata.org/pandas-docs/stable/indexing.html#indexing-view-versus-copy\n",
      "  if __name__ == '__main__':\n"
     ]
    },
    {
     "data": {
      "text/plain": [
       "ID                    int32\n",
       "userID                int64\n",
       "createdAt    datetime64[ns]\n",
       "longitude           float64\n",
       "latitude            float64\n",
       "dtype: object"
      ]
     },
     "execution_count": 18,
     "metadata": {},
     "output_type": "execute_result"
    }
   ],
   "source": [
    "tweets['createdAt'] = pd.DatetimeIndex(tweets['createdAt'])\n",
    "tweets.dtypes"
   ]
  },
  {
   "cell_type": "code",
   "execution_count": 19,
   "metadata": {
    "collapsed": false
   },
   "outputs": [
    {
     "data": {
      "text/html": [
       "<div>\n",
       "<table border=\"1\" class=\"dataframe\">\n",
       "  <thead>\n",
       "    <tr style=\"text-align: right;\">\n",
       "      <th></th>\n",
       "      <th>ID</th>\n",
       "      <th>userID</th>\n",
       "      <th>createdAt</th>\n",
       "      <th>longitude</th>\n",
       "      <th>latitude</th>\n",
       "    </tr>\n",
       "  </thead>\n",
       "  <tbody>\n",
       "    <tr>\n",
       "      <th>0</th>\n",
       "      <td>924163322</td>\n",
       "      <td>17341045</td>\n",
       "      <td>2010-02-23 05:55:51</td>\n",
       "      <td>7.43926</td>\n",
       "      <td>46.9489</td>\n",
       "    </tr>\n",
       "    <tr>\n",
       "      <th>1</th>\n",
       "      <td>924911820</td>\n",
       "      <td>7198282</td>\n",
       "      <td>2010-02-23 06:22:40</td>\n",
       "      <td>8.53781</td>\n",
       "      <td>47.3678</td>\n",
       "    </tr>\n",
       "    <tr>\n",
       "      <th>2</th>\n",
       "      <td>926639767</td>\n",
       "      <td>14657884</td>\n",
       "      <td>2010-02-23 07:34:25</td>\n",
       "      <td>6.13396</td>\n",
       "      <td>46.1951</td>\n",
       "    </tr>\n",
       "    <tr>\n",
       "      <th>3</th>\n",
       "      <td>927264351</td>\n",
       "      <td>14393717</td>\n",
       "      <td>2010-02-23 08:02:57</td>\n",
       "      <td>6.63254</td>\n",
       "      <td>46.5199</td>\n",
       "    </tr>\n",
       "    <tr>\n",
       "      <th>4</th>\n",
       "      <td>928080163</td>\n",
       "      <td>14393717</td>\n",
       "      <td>2010-02-23 08:40:13</td>\n",
       "      <td>6.63428</td>\n",
       "      <td>46.5191</td>\n",
       "    </tr>\n",
       "  </tbody>\n",
       "</table>\n",
       "</div>"
      ],
      "text/plain": [
       "          ID    userID           createdAt  longitude  latitude\n",
       "0  924163322  17341045 2010-02-23 05:55:51    7.43926   46.9489\n",
       "1  924911820   7198282 2010-02-23 06:22:40    8.53781   47.3678\n",
       "2  926639767  14657884 2010-02-23 07:34:25    6.13396   46.1951\n",
       "3  927264351  14393717 2010-02-23 08:02:57    6.63254   46.5199\n",
       "4  928080163  14393717 2010-02-23 08:40:13    6.63428   46.5191"
      ]
     },
     "execution_count": 19,
     "metadata": {},
     "output_type": "execute_result"
    }
   ],
   "source": [
    "tweets = tweets.reset_index(drop=True)\n",
    "tweets.head()"
   ]
  },
  {
   "cell_type": "markdown",
   "metadata": {},
   "source": [
    "We cleaned our dataset and save the obtained dataframe."
   ]
  },
  {
   "cell_type": "code",
   "execution_count": 20,
   "metadata": {
    "collapsed": true
   },
   "outputs": [],
   "source": [
    "tweets.to_csv('./data/tweets_processed.csv', encoding='utf-8', index=False)"
   ]
  }
 ],
 "metadata": {
  "anaconda-cloud": {},
  "kernelspec": {
   "display_name": "Python [conda root]",
   "language": "python",
   "name": "conda-root-py"
  },
  "language_info": {
   "codemirror_mode": {
    "name": "ipython",
    "version": 3
   },
   "file_extension": ".py",
   "mimetype": "text/x-python",
   "name": "python",
   "nbconvert_exporter": "python",
   "pygments_lexer": "ipython3",
   "version": "3.5.2"
  }
 },
 "nbformat": 4,
 "nbformat_minor": 1
}
