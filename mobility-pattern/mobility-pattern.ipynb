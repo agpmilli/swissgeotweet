{
 "cells": [
  {
   "cell_type": "code",
   "execution_count": 32,
   "metadata": {
    "collapsed": false
   },
   "outputs": [],
   "source": [
    "import pandas as pd\n",
    "import math\n",
    "import numpy as np\n",
    "from mobility_helper import *\n",
    "from collections import Counter\n",
    "import seaborn as sns\n",
    "import matplotlib.pyplot as plt\n",
    "import time\n",
    "from geopy.geocoders import Nominatim,Bing\n",
    "import datetime as dt\n"
   ]
  },
  {
   "cell_type": "markdown",
   "metadata": {},
   "source": [
    "# 1. Load the data\n",
    "\n",
    "Contains subset of the original schema. Already removed useless columns for mobility pattern at preprocessing:\n",
    "1. id\n",
    "2. userID\n",
    "3. createdAt\n",
    "4. longitude\n",
    "5. latitude\n",
    "6. placeID\n",
    "7. placeLatitude\n",
    "8. placeLongitude\n",
    "9. sourceName\n",
    "10. userLocation"
   ]
  },
  {
   "cell_type": "code",
   "execution_count": null,
   "metadata": {
    "collapsed": false
   },
   "outputs": [],
   "source": [
    "src = '../twitter-swisscom/twex_mobility_corrected.tsv'\n",
    "columns = ['ID', 'userID', 'createdAt', 'longitude', 'latitude', 'placeID','placeLatitude','placeLongitude','sourceName', 'userLocation']\n",
    "dtypes = {'ID': 'int', 'createdAt': 'str', 'longitude': 'float', 'latitude': 'float', 'placeID': 'str', 'placeLatitude': 'float', 'placeLongitude': 'float', 'sourceName': 'str', 'userLocation': 'str'}\n",
    "\n",
    "chunk_size = 10**6\n",
    "df = pd.read_csv(src, sep='\\t', names=columns, na_values=['\\\\N'],dtype=dtypes, encoding='utf-8')"
   ]
  },
  {
   "cell_type": "markdown",
   "metadata": {},
   "source": [
    "# 2. Cleaning"
   ]
  },
  {
   "cell_type": "code",
   "execution_count": null,
   "metadata": {
    "collapsed": false
   },
   "outputs": [],
   "source": [
    "\"\"\"\n",
    "df = pd.DataFrame()\n",
    "for chunk in tweet_chunks:\n",
    "    df = chunk.copy()\n",
    "    del chunk\n",
    "    break\n",
    "\"\"\""
   ]
  },
  {
   "cell_type": "code",
   "execution_count": null,
   "metadata": {
    "collapsed": false
   },
   "outputs": [],
   "source": [
    "#tweets with null latitude\n",
    "print(len(df[pd.isnull(df.latitude)]))\n",
    "#tweets with null longitude\n",
    "print(len(df[pd.isnull(df.longitude)]))\n",
    "#tweets with both null latitude and null longitude\n",
    "no_coord = np.logical_and(pd.isnull(df.latitude), pd.isnull(df.longitude))\n",
    "tw_wo_coord = df[no_coord]\n",
    "print(len(tw_wo_coord))\n",
    "#if one coordinate is null the other one too"
   ]
  },
  {
   "cell_type": "code",
   "execution_count": null,
   "metadata": {
    "collapsed": false
   },
   "outputs": [],
   "source": [
    "#check place coordinate existance when no original coordinate\n",
    "has_place_coord = tw_wo_coord[~np.logical_and(pd.isnull(tw_wo_coord.placeLatitude), pd.isnull(tw_wo_coord.placeLongitude))]\n",
    "len(has_place_coord)"
   ]
  },
  {
   "cell_type": "code",
   "execution_count": null,
   "metadata": {
    "collapsed": false
   },
   "outputs": [],
   "source": [
    "#Can always replace by place coordinates when no original coordinates provided.\n",
    "#Do replacement\n",
    "df['latitude'] = df.apply(replaceLatitude, axis=1)\n",
    "df['longitude'] = df.apply(replaceLongitude, axis=1)\n",
    "#tweets without coordinate\n",
    "no_coord = np.logical_and(pd.isnull(df.latitude), pd.isnull(df.longitude))\n",
    "len(df[no_coord])"
   ]
  },
  {
   "cell_type": "code",
   "execution_count": null,
   "metadata": {
    "collapsed": false
   },
   "outputs": [],
   "source": [
    "#no more NaN coordinates.\n",
    "#delete place coordinates columns\n",
    "df = df.drop(['placeID', 'placeLatitude', 'placeLongitude'], axis=1)\n",
    "df.head()"
   ]
  },
  {
   "cell_type": "code",
   "execution_count": null,
   "metadata": {
    "collapsed": false
   },
   "outputs": [],
   "source": [
    "#check tweets with no timestamps\n",
    "print(len(df[pd.isnull(df.createdAt)]))"
   ]
  },
  {
   "cell_type": "code",
   "execution_count": null,
   "metadata": {
    "collapsed": false
   },
   "outputs": [],
   "source": [
    "#Nice. \n",
    "#Want coordinates in area of Switzerland as well as  part of neighboring countries. \n",
    "#This area is approximately defined in the following  coordinate intervals:\n",
    "# - latitude: [45, 48]\n",
    "# - longitude: [4,13]\n",
    "#Remove geographical outliers\n",
    "print(len(df))\n",
    "lat_inbound = ((45 <= df.latitude) & (df.latitude <= 48))\n",
    "long_inbound = ((4 <= df.longitude) & (df.longitude <= 13))\n",
    "inbound = np.logical_and(lat_inbound, long_inbound)\n",
    "print(len(df[~inbound]))\n",
    "df = df[inbound]"
   ]
  },
  {
   "cell_type": "code",
   "execution_count": null,
   "metadata": {
    "collapsed": false
   },
   "outputs": [],
   "source": [
    "#Check sourceName possibilities.\n",
    "if 0:\n",
    "    df.sourceName.unique()"
   ]
  },
  {
   "cell_type": "code",
   "execution_count": null,
   "metadata": {
    "collapsed": true
   },
   "outputs": [],
   "source": [
    "if 0:\n",
    "    keywords = ['iOS', 'App', 'app', 'Android', 'APP', 'application', 'Phone', 'iPhone']\n",
    "    is_portable = lambda s: any(k in s for k in keywords)\n",
    "    df['sourceName'] = df.apply(lambda row: 'portable' if is_portable(row.sourceName) else row.sourceName, axis=1)                            "
   ]
  },
  {
   "cell_type": "code",
   "execution_count": null,
   "metadata": {
    "collapsed": false
   },
   "outputs": [],
   "source": [
    "if 0:\n",
    "    df.sourceName.unique()"
   ]
  },
  {
   "cell_type": "code",
   "execution_count": null,
   "metadata": {
    "collapsed": false
   },
   "outputs": [],
   "source": [
    "#no real additional information from those values. (Desktop/portable)\n",
    "#drop sourceName\n",
    "df = df.drop(['sourceName'], axis=1)\n",
    "df.head()"
   ]
  },
  {
   "cell_type": "markdown",
   "metadata": {},
   "source": [
    "# 3. Data Exploration/Analysis"
   ]
  },
  {
   "cell_type": "code",
   "execution_count": 2,
   "metadata": {
    "collapsed": true
   },
   "outputs": [],
   "source": [
    "#Check distribution of coordinates latitude, longitude\n",
    "main_cities = {\n",
    "    'Zurich': [47.36667, 8.55000],\n",
    "    'Geneva':[46.2,6.1667],\n",
    "    'Basel': [47.5667,7.6],\n",
    "    'Bern' : [46.9167,7.4667],\n",
    "    'Lausanne': [46.5333,6.6667],\n",
    "    'Luzern': [47.0833,8.2667],\n",
    "    'Sion': [46.2333,7.35],\n",
    "    'Varese': [45.8176,8.8264],\n",
    "    'Mulhouse': [47.75, 7.3333],\n",
    "    'Annecy': [45.9,6.1167],\n",
    "    'Annemasse': [46.1944, 6.2377],\n",
    "    'Pontarlier': [46.9035,6.3554],\n",
    "    'Aoste': [45.5833, 5.6]\n",
    "}"
   ]
  },
  {
   "cell_type": "code",
   "execution_count": null,
   "metadata": {
    "collapsed": false
   },
   "outputs": [],
   "source": [
    "g = sns.jointplot(x=df.longitude, y=df.latitude, kind=\"hex\", color=\"k\");\n",
    "for city, coord in main_cities.items():\n",
    "    g.ax_joint.scatter(coord[1], coord[0], marker='o', c='r', s=5)\n",
    "    g.ax_joint.annotate(city, xy=(coord[1], coord[0]), xytext=(coord[1], coord[0]))\n",
    "plt.show()"
   ]
  },
  {
   "cell_type": "code",
   "execution_count": null,
   "metadata": {
    "collapsed": false
   },
   "outputs": [],
   "source": [
    "#UserLocation is not reliable information. \n",
    "#Takes too much resource to find a way to filter useless and helphful information.\n",
    "#we reverse query our coordinates\n",
    "df = df.drop(['userLocation'], axis=1)\n",
    "df.head()"
   ]
  },
  {
   "cell_type": "code",
   "execution_count": null,
   "metadata": {
    "collapsed": false
   },
   "outputs": [],
   "source": [
    "count_users = pd.DataFrame(df.groupby(['userID']).size())\n",
    "count_users.columns = ['count']\n",
    "count_users = count_users.sort_values(by=['count'], ascending=True)\n",
    "count_users = count_users.reset_index()"
   ]
  },
  {
   "cell_type": "code",
   "execution_count": null,
   "metadata": {
    "collapsed": false
   },
   "outputs": [],
   "source": [
    "#plot distribution of tweets per user (add legend)\n",
    "count_users.plot(y='count', use_index=True)\n",
    "plt.show()"
   ]
  },
  {
   "cell_type": "code",
   "execution_count": null,
   "metadata": {
    "collapsed": false
   },
   "outputs": [],
   "source": [
    "#5% of users have more than 70% of tweets. \n",
    "#we remove users with a number of tweets below a certain threshold.\n",
    "threshold = 100\n",
    "before = len(count_users)\n",
    "count_users = count_users[count_users['count'] >= threshold]\n",
    "after = len(count_users)\n",
    "print('Percentage of user loss: ',(before-after)*100/before)"
   ]
  },
  {
   "cell_type": "code",
   "execution_count": null,
   "metadata": {
    "collapsed": false
   },
   "outputs": [],
   "source": [
    "ids_to_keep = list(count_users.userID)\n",
    "tweets = df[df.userID.isin(ids_to_keep)]\n",
    "len(tweets)"
   ]
  },
  {
   "cell_type": "code",
   "execution_count": null,
   "metadata": {
    "collapsed": false
   },
   "outputs": [],
   "source": [
    "#check types\n",
    "tweets.dtypes"
   ]
  },
  {
   "cell_type": "code",
   "execution_count": null,
   "metadata": {
    "collapsed": false
   },
   "outputs": [],
   "source": [
    "#convert createdAt to date\n",
    "tweets['createdAt'] = pd.DatetimeIndex(tweets['createdAt'])\n",
    "#tweets['createdAt'] = pd.to_datetime(tweets['createdAt'])\n",
    "print(tweets.dtypes)"
   ]
  },
  {
   "cell_type": "code",
   "execution_count": null,
   "metadata": {
    "collapsed": false
   },
   "outputs": [],
   "source": [
    "tweets = tweets.reset_index(drop=True)\n",
    "tweets.head()"
   ]
  },
  {
   "cell_type": "markdown",
   "metadata": {},
   "source": [
    "# 4. Mobility Pattern"
   ]
  },
  {
   "cell_type": "code",
   "execution_count": null,
   "metadata": {
    "collapsed": false
   },
   "outputs": [],
   "source": [
    "#location too precise. Need to compare areas/spots between them. Lower coordinate precision.\n",
    "#https://en.wikipedia.org/wiki/Decimal_degrees\n",
    "#precision to 3 decimals: equateur => 80m \n",
    "#precision to 2 decimals: equateur => 780m \n",
    "\n",
    "tweets['areaLat'] = tweets.apply(lambda r: float('%.2f' % r.latitude), axis=1)\n",
    "tweets['areaLong'] = tweets.apply(lambda r: float('%.2f' % r.longitude), axis=1)\n",
    "tweets.head()"
   ]
  },
  {
   "cell_type": "code",
   "execution_count": null,
   "metadata": {
    "collapsed": false
   },
   "outputs": [],
   "source": [
    "#Indicate if tweet during work hour or not\n",
    "#set work hours being 8:00-18:00\n",
    "tweets['@workHour'] = (tweets['createdAt'].dt.hour <= 18) & (tweets['createdAt'].dt.hour >= 8)\n",
    "tweets.head()"
   ]
  },
  {
   "cell_type": "markdown",
   "metadata": {},
   "source": [
    "## 4.1 Home and Work Place Extraction"
   ]
  },
  {
   "cell_type": "markdown",
   "metadata": {},
   "source": [
    "### 4.1.1 Work place detection"
   ]
  },
  {
   "cell_type": "code",
   "execution_count": null,
   "metadata": {
    "collapsed": false
   },
   "outputs": [],
   "source": [
    "at_work = tweets[tweets['@workHour']]\n",
    "at_work.head()"
   ]
  },
  {
   "cell_type": "code",
   "execution_count": null,
   "metadata": {
    "collapsed": false
   },
   "outputs": [],
   "source": [
    "def place_24hdiff(name, most_freq, place):\n",
    "    if place == \"work\":\n",
    "        tw = at_work[(at_work.userID == name) & (at_work.areaLong == most_freq[1]) & (at_work.areaLat == most_freq[0])]\n",
    "    else:\n",
    "        tw = nat_work[(nat_work.userID == name) & (nat_work.areaLong == most_freq[1]) & (nat_work.areaLat == most_freq[0])]\n",
    "    #return true if day distance >=1        \n",
    "    for i1, row1 in tw.iterrows():\n",
    "        for i2, row2 in tw.iterrows():\n",
    "            d = row1.createdAt - row2.createdAt\n",
    "            if abs(d.days) >= 1:\n",
    "                return True\n",
    "    return False\n",
    "\n",
    "def most_freq_coord(group, threshold, place):\n",
    "    lat_long = list(zip(group.areaLat, group.areaLong))\n",
    "    c = Counter(lat_long)\n",
    "    most_freq = list(c)[0]\n",
    "    n = c[most_freq]\n",
    "    while not place_24hdiff(group.name, most_freq, place):\n",
    "        c.pop(most_freq, 0)\n",
    "        if len(c) == 0:\n",
    "            #no places with valid diff: return last one with frequence 0 which will be deleted with threshold\n",
    "            return pd.Series({'freqLat': most_freq[0], 'freqLong': most_freq[1], 'frequence': 0})\n",
    "        else:\n",
    "            most_freq = list(c)[0]\n",
    "            n = c[most_freq]\n",
    "    #out of while loop: means we have a valid place (1 day diff)\n",
    "    return pd.Series({'freqLat': most_freq[0], 'freqLong': most_freq[1], 'frequence': n})"
   ]
  },
  {
   "cell_type": "code",
   "execution_count": null,
   "metadata": {
    "collapsed": true
   },
   "outputs": [],
   "source": [
    "threshold = 10"
   ]
  },
  {
   "cell_type": "code",
   "execution_count": null,
   "metadata": {
    "collapsed": false
   },
   "outputs": [],
   "source": [
    "work_freq = at_work.groupby(['userID']).apply(lambda g : most_freq_coord(g,threshold, \"work\"))\n",
    "print(len(work_freq))\n",
    "work_freq.head()"
   ]
  },
  {
   "cell_type": "code",
   "execution_count": null,
   "metadata": {
    "collapsed": false
   },
   "outputs": [],
   "source": [
    "#apply threshold on frequence\n",
    "len(work_freq[work_freq.frequence < threshold])"
   ]
  },
  {
   "cell_type": "code",
   "execution_count": null,
   "metadata": {
    "collapsed": false
   },
   "outputs": [],
   "source": [
    "#we would loose 950 users that tweeted less than threshold tweets from their potential work\n",
    "#save index of to_remove users\n",
    "work_to_remove = work_freq[work_freq.frequence < threshold].index.values.tolist()\n",
    "len(work_to_remove)"
   ]
  },
  {
   "cell_type": "markdown",
   "metadata": {},
   "source": [
    "### 4.1.2 Home detection"
   ]
  },
  {
   "cell_type": "code",
   "execution_count": null,
   "metadata": {
    "collapsed": false
   },
   "outputs": [],
   "source": [
    "nat_work = tweets[~tweets['@workHour']]\n",
    "nat_work.head()"
   ]
  },
  {
   "cell_type": "code",
   "execution_count": null,
   "metadata": {
    "collapsed": true
   },
   "outputs": [],
   "source": [
    "threshold = 10"
   ]
  },
  {
   "cell_type": "code",
   "execution_count": null,
   "metadata": {
    "collapsed": false
   },
   "outputs": [],
   "source": [
    "home_freq = nat_work.groupby(['userID']).apply(lambda g: most_freq_coord(g, threshold, \"home\"))\n",
    "print(len(home_freq))\n",
    "home_freq.head()"
   ]
  },
  {
   "cell_type": "code",
   "execution_count": null,
   "metadata": {
    "collapsed": false
   },
   "outputs": [],
   "source": [
    "#apply threshold on frequence\n",
    "len(home_freq[home_freq.frequence < threshold])"
   ]
  },
  {
   "cell_type": "code",
   "execution_count": null,
   "metadata": {
    "collapsed": false
   },
   "outputs": [],
   "source": [
    "#we would loose 843 users that tweeted less than 10 tweets from their potential home\n",
    "#save index of to_remove users\n",
    "home_to_remove = home_freq[home_freq.frequence < threshold].index.values.tolist()\n",
    "len(home_to_remove)"
   ]
  },
  {
   "cell_type": "markdown",
   "metadata": {
    "collapsed": true
   },
   "source": [
    "### 4.1.3 Data Merge: Home | Work"
   ]
  },
  {
   "cell_type": "code",
   "execution_count": null,
   "metadata": {
    "collapsed": false
   },
   "outputs": [],
   "source": [
    "#for now do not remove places with frequence = 1\n",
    "#we do not separate analysis over the years\n",
    "count_users = count_users.set_index(['userID'])"
   ]
  },
  {
   "cell_type": "code",
   "execution_count": null,
   "metadata": {
    "collapsed": false
   },
   "outputs": [],
   "source": [
    "#join 3 dataframes: work_freq, home_freq, count_users\n",
    "users = pd.merge(work_freq, home_freq,how='inner', left_index=True, right_index=True, )\n",
    "columns = ['workLat', 'workLong', 'workTweets', 'homeLat', 'homeLong', 'homeTweets']\n",
    "users = pd.merge(users, count_users, how='inner', left_index=True, right_index=True, suffixes=('_x', '_y'))\n",
    "columns.append('#tweets')\n",
    "users.columns = columns\n",
    "users.head()"
   ]
  },
  {
   "cell_type": "code",
   "execution_count": null,
   "metadata": {
    "collapsed": false
   },
   "outputs": [],
   "source": [
    "users['userID'] = users.index.values\n",
    "users = users.reset_index(drop=True)\n",
    "#users = users[users.columns[-1:]+users.columns[:-1]]\n",
    "users.head()"
   ]
  },
  {
   "cell_type": "code",
   "execution_count": null,
   "metadata": {
    "collapsed": false
   },
   "outputs": [],
   "source": [
    "#remove users that did not validate conditions on work/home tweet frequence threshold\n",
    "to_remove = home_to_remove + work_to_remove\n",
    "print(len(users))\n",
    "users = users[~users.userID.isin(to_remove)]\n",
    "print(len(users))"
   ]
  },
  {
   "cell_type": "code",
   "execution_count": null,
   "metadata": {
    "collapsed": true
   },
   "outputs": [],
   "source": [
    "#save dataframe\n",
    "users.to_csv('users_merged.csv', index=False)"
   ]
  },
  {
   "cell_type": "markdown",
   "metadata": {},
   "source": [
    "## 4.2 Home-Work route evaluation"
   ]
  },
  {
   "cell_type": "markdown",
   "metadata": {},
   "source": [
    "### 4.2.1 Administrative locations detection"
   ]
  },
  {
   "cell_type": "code",
   "execution_count": 59,
   "metadata": {
    "collapsed": false
   },
   "outputs": [
    {
     "data": {
      "text/html": [
       "<div>\n",
       "<table border=\"1\" class=\"dataframe\">\n",
       "  <thead>\n",
       "    <tr style=\"text-align: right;\">\n",
       "      <th></th>\n",
       "      <th>workLat</th>\n",
       "      <th>workLong</th>\n",
       "      <th>workTweets</th>\n",
       "      <th>homeLat</th>\n",
       "      <th>homeLong</th>\n",
       "      <th>homeTweets</th>\n",
       "      <th>#tweets</th>\n",
       "      <th>userID</th>\n",
       "    </tr>\n",
       "  </thead>\n",
       "  <tbody>\n",
       "    <tr>\n",
       "      <th>0</th>\n",
       "      <td>47.08</td>\n",
       "      <td>8.27</td>\n",
       "      <td>25.0</td>\n",
       "      <td>47.08</td>\n",
       "      <td>8.27</td>\n",
       "      <td>73.0</td>\n",
       "      <td>100</td>\n",
       "      <td>701522231</td>\n",
       "    </tr>\n",
       "    <tr>\n",
       "      <th>1</th>\n",
       "      <td>46.81</td>\n",
       "      <td>8.22</td>\n",
       "      <td>22.0</td>\n",
       "      <td>46.81</td>\n",
       "      <td>8.22</td>\n",
       "      <td>78.0</td>\n",
       "      <td>100</td>\n",
       "      <td>1525719553</td>\n",
       "    </tr>\n",
       "    <tr>\n",
       "      <th>2</th>\n",
       "      <td>46.80</td>\n",
       "      <td>7.15</td>\n",
       "      <td>72.0</td>\n",
       "      <td>46.80</td>\n",
       "      <td>7.15</td>\n",
       "      <td>17.0</td>\n",
       "      <td>100</td>\n",
       "      <td>565009197</td>\n",
       "    </tr>\n",
       "    <tr>\n",
       "      <th>3</th>\n",
       "      <td>46.00</td>\n",
       "      <td>8.75</td>\n",
       "      <td>76.0</td>\n",
       "      <td>46.00</td>\n",
       "      <td>8.75</td>\n",
       "      <td>14.0</td>\n",
       "      <td>100</td>\n",
       "      <td>407885922</td>\n",
       "    </tr>\n",
       "    <tr>\n",
       "      <th>4</th>\n",
       "      <td>45.80</td>\n",
       "      <td>8.88</td>\n",
       "      <td>28.0</td>\n",
       "      <td>45.80</td>\n",
       "      <td>8.88</td>\n",
       "      <td>72.0</td>\n",
       "      <td>101</td>\n",
       "      <td>23280133</td>\n",
       "    </tr>\n",
       "  </tbody>\n",
       "</table>\n",
       "</div>"
      ],
      "text/plain": [
       "   workLat  workLong  workTweets  homeLat  homeLong  homeTweets  #tweets  \\\n",
       "0    47.08      8.27        25.0    47.08      8.27        73.0      100   \n",
       "1    46.81      8.22        22.0    46.81      8.22        78.0      100   \n",
       "2    46.80      7.15        72.0    46.80      7.15        17.0      100   \n",
       "3    46.00      8.75        76.0    46.00      8.75        14.0      100   \n",
       "4    45.80      8.88        28.0    45.80      8.88        72.0      101   \n",
       "\n",
       "       userID  \n",
       "0   701522231  \n",
       "1  1525719553  \n",
       "2   565009197  \n",
       "3   407885922  \n",
       "4    23280133  "
      ]
     },
     "execution_count": 59,
     "metadata": {},
     "output_type": "execute_result"
    }
   ],
   "source": [
    "users = pd.read_csv('users_merged.csv', sep=',')\n",
    "users.head()"
   ]
  },
  {
   "cell_type": "markdown",
   "metadata": {},
   "source": [
    "- Country  "
   ]
  },
  {
   "cell_type": "code",
   "execution_count": 60,
   "metadata": {
    "collapsed": false
   },
   "outputs": [],
   "source": [
    "geolocator = Nominatim()\n",
    "countries = []\n",
    "cache = {}\n",
    "for i, row in users.iterrows():\n",
    "    w = 0\n",
    "    h = 0\n",
    "    if cache.get((row.homeLat, row.homeLong)):\n",
    "        home = cache[(row.homeLat, row.homeLong)]\n",
    "        h = home.address.split(', ')[-1]\n",
    "    else:\n",
    "        home = geolocator.reverse(str(row.homeLat)+\", \"+str(row.homeLong))#.address.split(', ')[-1]\n",
    "        cache[(row.homeLat, row.homeLong)] = home\n",
    "        h = home.address.split(', ')[-1]\n",
    "        time.sleep(0.5)\n",
    "    if cache.get((row.workLat, row.workLong)):\n",
    "        work = cache[(row.workLat, row.workLong)]\n",
    "        w = work.address.split(', ')[-1]\n",
    "    else:\n",
    "        work = geolocator.reverse(str(row.workLat)+\", \"+str(row.workLong))#.address.split(', ')[-1]\n",
    "        cache[(row.workLat, row.workLong)] = work\n",
    "        w = work.address.split(', ')[-1]\n",
    "        time.sleep(0.5)\n",
    "    if w == \"Svizra\":\n",
    "        w = \"Suisse\"\n",
    "    if h == \"Svizra\":\n",
    "        h = \"Suisse\"\n",
    "    countries.append((h,w))"
   ]
  },
  {
   "cell_type": "code",
   "execution_count": 61,
   "metadata": {
    "collapsed": false
   },
   "outputs": [
    {
     "data": {
      "text/plain": [
       "[('Suisse', 'Suisse'),\n",
       " ('Suisse', 'Suisse'),\n",
       " ('Suisse', 'Suisse'),\n",
       " ('Italia', 'Italia'),\n",
       " ('Italia', 'Italia'),\n",
       " ('France', 'France'),\n",
       " ('Suisse', 'Suisse'),\n",
       " ('Italia', 'Italia'),\n",
       " ('France', 'France'),\n",
       " ('Suisse', 'Suisse')]"
      ]
     },
     "execution_count": 61,
     "metadata": {},
     "output_type": "execute_result"
    }
   ],
   "source": [
    "countries[:10]"
   ]
  },
  {
   "cell_type": "code",
   "execution_count": 62,
   "metadata": {
    "collapsed": false
   },
   "outputs": [
    {
     "data": {
      "text/html": [
       "<div>\n",
       "<table border=\"1\" class=\"dataframe\">\n",
       "  <thead>\n",
       "    <tr style=\"text-align: right;\">\n",
       "      <th></th>\n",
       "      <th>workLat</th>\n",
       "      <th>workLong</th>\n",
       "      <th>workTweets</th>\n",
       "      <th>homeLat</th>\n",
       "      <th>homeLong</th>\n",
       "      <th>homeTweets</th>\n",
       "      <th>#tweets</th>\n",
       "      <th>userID</th>\n",
       "      <th>homeCountry</th>\n",
       "      <th>workCountry</th>\n",
       "    </tr>\n",
       "  </thead>\n",
       "  <tbody>\n",
       "    <tr>\n",
       "      <th>0</th>\n",
       "      <td>47.08</td>\n",
       "      <td>8.27</td>\n",
       "      <td>25.0</td>\n",
       "      <td>47.08</td>\n",
       "      <td>8.27</td>\n",
       "      <td>73.0</td>\n",
       "      <td>100</td>\n",
       "      <td>701522231</td>\n",
       "      <td>Suisse</td>\n",
       "      <td>Suisse</td>\n",
       "    </tr>\n",
       "    <tr>\n",
       "      <th>1</th>\n",
       "      <td>46.81</td>\n",
       "      <td>8.22</td>\n",
       "      <td>22.0</td>\n",
       "      <td>46.81</td>\n",
       "      <td>8.22</td>\n",
       "      <td>78.0</td>\n",
       "      <td>100</td>\n",
       "      <td>1525719553</td>\n",
       "      <td>Suisse</td>\n",
       "      <td>Suisse</td>\n",
       "    </tr>\n",
       "    <tr>\n",
       "      <th>2</th>\n",
       "      <td>46.80</td>\n",
       "      <td>7.15</td>\n",
       "      <td>72.0</td>\n",
       "      <td>46.80</td>\n",
       "      <td>7.15</td>\n",
       "      <td>17.0</td>\n",
       "      <td>100</td>\n",
       "      <td>565009197</td>\n",
       "      <td>Suisse</td>\n",
       "      <td>Suisse</td>\n",
       "    </tr>\n",
       "    <tr>\n",
       "      <th>3</th>\n",
       "      <td>46.00</td>\n",
       "      <td>8.75</td>\n",
       "      <td>76.0</td>\n",
       "      <td>46.00</td>\n",
       "      <td>8.75</td>\n",
       "      <td>14.0</td>\n",
       "      <td>100</td>\n",
       "      <td>407885922</td>\n",
       "      <td>Italia</td>\n",
       "      <td>Italia</td>\n",
       "    </tr>\n",
       "    <tr>\n",
       "      <th>4</th>\n",
       "      <td>45.80</td>\n",
       "      <td>8.88</td>\n",
       "      <td>28.0</td>\n",
       "      <td>45.80</td>\n",
       "      <td>8.88</td>\n",
       "      <td>72.0</td>\n",
       "      <td>101</td>\n",
       "      <td>23280133</td>\n",
       "      <td>Italia</td>\n",
       "      <td>Italia</td>\n",
       "    </tr>\n",
       "  </tbody>\n",
       "</table>\n",
       "</div>"
      ],
      "text/plain": [
       "   workLat  workLong  workTweets  homeLat  homeLong  homeTweets  #tweets  \\\n",
       "0    47.08      8.27        25.0    47.08      8.27        73.0      100   \n",
       "1    46.81      8.22        22.0    46.81      8.22        78.0      100   \n",
       "2    46.80      7.15        72.0    46.80      7.15        17.0      100   \n",
       "3    46.00      8.75        76.0    46.00      8.75        14.0      100   \n",
       "4    45.80      8.88        28.0    45.80      8.88        72.0      101   \n",
       "\n",
       "       userID homeCountry workCountry  \n",
       "0   701522231      Suisse      Suisse  \n",
       "1  1525719553      Suisse      Suisse  \n",
       "2   565009197      Suisse      Suisse  \n",
       "3   407885922      Italia      Italia  \n",
       "4    23280133      Italia      Italia  "
      ]
     },
     "execution_count": 62,
     "metadata": {},
     "output_type": "execute_result"
    }
   ],
   "source": [
    "#add countries to users\n",
    "c = pd.DataFrame(countries, columns=['homeCountry', 'workCountry'])\n",
    "users = pd.concat([users, c], axis=1)\n",
    "users.head()"
   ]
  },
  {
   "cell_type": "markdown",
   "metadata": {},
   "source": [
    "- Cantons"
   ]
  },
  {
   "cell_type": "code",
   "execution_count": 63,
   "metadata": {
    "collapsed": false
   },
   "outputs": [],
   "source": [
    "#detect Cantons\n",
    "def get_cantons(row):\n",
    "    if row.homeCountry == \"Suisse\":\n",
    "        homecant = cache[(row.homeLat, row.homeLong)].address.split(', ')[-6]\n",
    "    else:\n",
    "        homecant = \"-\"\n",
    "    if row.workCountry == \"Suisse\":\n",
    "        workcant = cache[(row.workLat, row.workLong)].address.split(', ')[-6]\n",
    "    else:\n",
    "        workcant = \"-\"\n",
    "    return (homecant, workcant)\n",
    "\n",
    "#add cantons to users\n",
    "cantons = list(users.apply(get_cantons, axis=1))\n",
    "cantons = pd.DataFrame(cantons, columns=['homeCanton', 'workCanton'])\n",
    "users = pd.concat([users, cantons], axis=1)"
   ]
  },
  {
   "cell_type": "code",
   "execution_count": 64,
   "metadata": {
    "collapsed": false
   },
   "outputs": [
    {
     "data": {
      "text/html": [
       "<div>\n",
       "<table border=\"1\" class=\"dataframe\">\n",
       "  <thead>\n",
       "    <tr style=\"text-align: right;\">\n",
       "      <th></th>\n",
       "      <th>workLat</th>\n",
       "      <th>workLong</th>\n",
       "      <th>workTweets</th>\n",
       "      <th>homeLat</th>\n",
       "      <th>homeLong</th>\n",
       "      <th>homeTweets</th>\n",
       "      <th>#tweets</th>\n",
       "      <th>userID</th>\n",
       "      <th>homeCountry</th>\n",
       "      <th>workCountry</th>\n",
       "      <th>homeCanton</th>\n",
       "      <th>workCanton</th>\n",
       "    </tr>\n",
       "  </thead>\n",
       "  <tbody>\n",
       "    <tr>\n",
       "      <th>0</th>\n",
       "      <td>47.08</td>\n",
       "      <td>8.27</td>\n",
       "      <td>25.0</td>\n",
       "      <td>47.08</td>\n",
       "      <td>8.27</td>\n",
       "      <td>73.0</td>\n",
       "      <td>100</td>\n",
       "      <td>701522231</td>\n",
       "      <td>Suisse</td>\n",
       "      <td>Suisse</td>\n",
       "      <td>Luzern</td>\n",
       "      <td>Luzern</td>\n",
       "    </tr>\n",
       "    <tr>\n",
       "      <th>1</th>\n",
       "      <td>46.81</td>\n",
       "      <td>8.22</td>\n",
       "      <td>22.0</td>\n",
       "      <td>46.81</td>\n",
       "      <td>8.22</td>\n",
       "      <td>78.0</td>\n",
       "      <td>100</td>\n",
       "      <td>1525719553</td>\n",
       "      <td>Suisse</td>\n",
       "      <td>Suisse</td>\n",
       "      <td>Obwalden</td>\n",
       "      <td>Obwalden</td>\n",
       "    </tr>\n",
       "    <tr>\n",
       "      <th>2</th>\n",
       "      <td>46.80</td>\n",
       "      <td>7.15</td>\n",
       "      <td>72.0</td>\n",
       "      <td>46.80</td>\n",
       "      <td>7.15</td>\n",
       "      <td>17.0</td>\n",
       "      <td>100</td>\n",
       "      <td>565009197</td>\n",
       "      <td>Suisse</td>\n",
       "      <td>Suisse</td>\n",
       "      <td>Fribourg - Freiburg</td>\n",
       "      <td>Fribourg - Freiburg</td>\n",
       "    </tr>\n",
       "    <tr>\n",
       "      <th>3</th>\n",
       "      <td>46.00</td>\n",
       "      <td>8.75</td>\n",
       "      <td>76.0</td>\n",
       "      <td>46.00</td>\n",
       "      <td>8.75</td>\n",
       "      <td>14.0</td>\n",
       "      <td>100</td>\n",
       "      <td>407885922</td>\n",
       "      <td>Italia</td>\n",
       "      <td>Italia</td>\n",
       "      <td>-</td>\n",
       "      <td>-</td>\n",
       "    </tr>\n",
       "    <tr>\n",
       "      <th>4</th>\n",
       "      <td>45.80</td>\n",
       "      <td>8.88</td>\n",
       "      <td>28.0</td>\n",
       "      <td>45.80</td>\n",
       "      <td>8.88</td>\n",
       "      <td>72.0</td>\n",
       "      <td>101</td>\n",
       "      <td>23280133</td>\n",
       "      <td>Italia</td>\n",
       "      <td>Italia</td>\n",
       "      <td>-</td>\n",
       "      <td>-</td>\n",
       "    </tr>\n",
       "  </tbody>\n",
       "</table>\n",
       "</div>"
      ],
      "text/plain": [
       "   workLat  workLong  workTweets  homeLat  homeLong  homeTweets  #tweets  \\\n",
       "0    47.08      8.27        25.0    47.08      8.27        73.0      100   \n",
       "1    46.81      8.22        22.0    46.81      8.22        78.0      100   \n",
       "2    46.80      7.15        72.0    46.80      7.15        17.0      100   \n",
       "3    46.00      8.75        76.0    46.00      8.75        14.0      100   \n",
       "4    45.80      8.88        28.0    45.80      8.88        72.0      101   \n",
       "\n",
       "       userID homeCountry workCountry           homeCanton  \\\n",
       "0   701522231      Suisse      Suisse               Luzern   \n",
       "1  1525719553      Suisse      Suisse             Obwalden   \n",
       "2   565009197      Suisse      Suisse  Fribourg - Freiburg   \n",
       "3   407885922      Italia      Italia                    -   \n",
       "4    23280133      Italia      Italia                    -   \n",
       "\n",
       "            workCanton  \n",
       "0               Luzern  \n",
       "1             Obwalden  \n",
       "2  Fribourg - Freiburg  \n",
       "3                    -  \n",
       "4                    -  "
      ]
     },
     "execution_count": 64,
     "metadata": {},
     "output_type": "execute_result"
    }
   ],
   "source": [
    "users.head()"
   ]
  },
  {
   "cell_type": "code",
   "execution_count": 65,
   "metadata": {
    "collapsed": true
   },
   "outputs": [],
   "source": [
    "users.to_csv('users_locations.csv', index=False)"
   ]
  },
  {
   "cell_type": "markdown",
   "metadata": {
    "collapsed": true
   },
   "source": [
    "### 4.2.2 Distance Home-Work"
   ]
  },
  {
   "cell_type": "code",
   "execution_count": 66,
   "metadata": {
    "collapsed": false
   },
   "outputs": [
    {
     "data": {
      "text/html": [
       "<div>\n",
       "<table border=\"1\" class=\"dataframe\">\n",
       "  <thead>\n",
       "    <tr style=\"text-align: right;\">\n",
       "      <th></th>\n",
       "      <th>workLat</th>\n",
       "      <th>workLong</th>\n",
       "      <th>workTweets</th>\n",
       "      <th>homeLat</th>\n",
       "      <th>homeLong</th>\n",
       "      <th>homeTweets</th>\n",
       "      <th>#tweets</th>\n",
       "      <th>userID</th>\n",
       "      <th>homeCountry</th>\n",
       "      <th>workCountry</th>\n",
       "      <th>homeCanton</th>\n",
       "      <th>workCanton</th>\n",
       "    </tr>\n",
       "  </thead>\n",
       "  <tbody>\n",
       "    <tr>\n",
       "      <th>0</th>\n",
       "      <td>47.08</td>\n",
       "      <td>8.27</td>\n",
       "      <td>25.0</td>\n",
       "      <td>47.08</td>\n",
       "      <td>8.27</td>\n",
       "      <td>73.0</td>\n",
       "      <td>100</td>\n",
       "      <td>701522231</td>\n",
       "      <td>Suisse</td>\n",
       "      <td>Suisse</td>\n",
       "      <td>Luzern</td>\n",
       "      <td>Luzern</td>\n",
       "    </tr>\n",
       "    <tr>\n",
       "      <th>1</th>\n",
       "      <td>46.81</td>\n",
       "      <td>8.22</td>\n",
       "      <td>22.0</td>\n",
       "      <td>46.81</td>\n",
       "      <td>8.22</td>\n",
       "      <td>78.0</td>\n",
       "      <td>100</td>\n",
       "      <td>1525719553</td>\n",
       "      <td>Suisse</td>\n",
       "      <td>Suisse</td>\n",
       "      <td>Obwalden</td>\n",
       "      <td>Obwalden</td>\n",
       "    </tr>\n",
       "    <tr>\n",
       "      <th>2</th>\n",
       "      <td>46.80</td>\n",
       "      <td>7.15</td>\n",
       "      <td>72.0</td>\n",
       "      <td>46.80</td>\n",
       "      <td>7.15</td>\n",
       "      <td>17.0</td>\n",
       "      <td>100</td>\n",
       "      <td>565009197</td>\n",
       "      <td>Suisse</td>\n",
       "      <td>Suisse</td>\n",
       "      <td>Fribourg - Freiburg</td>\n",
       "      <td>Fribourg - Freiburg</td>\n",
       "    </tr>\n",
       "    <tr>\n",
       "      <th>3</th>\n",
       "      <td>46.00</td>\n",
       "      <td>8.75</td>\n",
       "      <td>76.0</td>\n",
       "      <td>46.00</td>\n",
       "      <td>8.75</td>\n",
       "      <td>14.0</td>\n",
       "      <td>100</td>\n",
       "      <td>407885922</td>\n",
       "      <td>Italia</td>\n",
       "      <td>Italia</td>\n",
       "      <td>-</td>\n",
       "      <td>-</td>\n",
       "    </tr>\n",
       "    <tr>\n",
       "      <th>4</th>\n",
       "      <td>45.80</td>\n",
       "      <td>8.88</td>\n",
       "      <td>28.0</td>\n",
       "      <td>45.80</td>\n",
       "      <td>8.88</td>\n",
       "      <td>72.0</td>\n",
       "      <td>101</td>\n",
       "      <td>23280133</td>\n",
       "      <td>Italia</td>\n",
       "      <td>Italia</td>\n",
       "      <td>-</td>\n",
       "      <td>-</td>\n",
       "    </tr>\n",
       "  </tbody>\n",
       "</table>\n",
       "</div>"
      ],
      "text/plain": [
       "   workLat  workLong  workTweets  homeLat  homeLong  homeTweets  #tweets  \\\n",
       "0    47.08      8.27        25.0    47.08      8.27        73.0      100   \n",
       "1    46.81      8.22        22.0    46.81      8.22        78.0      100   \n",
       "2    46.80      7.15        72.0    46.80      7.15        17.0      100   \n",
       "3    46.00      8.75        76.0    46.00      8.75        14.0      100   \n",
       "4    45.80      8.88        28.0    45.80      8.88        72.0      101   \n",
       "\n",
       "       userID homeCountry workCountry           homeCanton  \\\n",
       "0   701522231      Suisse      Suisse               Luzern   \n",
       "1  1525719553      Suisse      Suisse             Obwalden   \n",
       "2   565009197      Suisse      Suisse  Fribourg - Freiburg   \n",
       "3   407885922      Italia      Italia                    -   \n",
       "4    23280133      Italia      Italia                    -   \n",
       "\n",
       "            workCanton  \n",
       "0               Luzern  \n",
       "1             Obwalden  \n",
       "2  Fribourg - Freiburg  \n",
       "3                    -  \n",
       "4                    -  "
      ]
     },
     "execution_count": 66,
     "metadata": {},
     "output_type": "execute_result"
    }
   ],
   "source": [
    "users = pd.read_csv('users_locations.csv')\n",
    "users.head()"
   ]
  },
  {
   "cell_type": "code",
   "execution_count": 67,
   "metadata": {
    "collapsed": true
   },
   "outputs": [],
   "source": [
    "from math import radians, cos, sin, asin, sqrt\n",
    "def haversine(lon1, lat1, lon2, lat2):\n",
    "    \"\"\"\n",
    "    Calculate the great circle distance between two points \n",
    "    on the earth (specified in decimal degrees)\n",
    "    \"\"\"\n",
    "    # convert decimal degrees to radians \n",
    "    lon1, lat1, lon2, lat2 = map(radians, [lon1, lat1, lon2, lat2])\n",
    "    # haversine formula \n",
    "    dlon = lon2 - lon1 \n",
    "    dlat = lat2 - lat1 \n",
    "    a = sin(dlat/2)**2 + cos(lat1) * cos(lat2) * sin(dlon/2)**2\n",
    "    c = 2 * asin(sqrt(a)) \n",
    "    km = 6367 * c\n",
    "    return km\n",
    "\n",
    "def dist(row):\n",
    "    if (row.workLat == row.homeLat) and (row.workLong == row.homeLong):\n",
    "        return 0\n",
    "    else:\n",
    "        return haversine(row.workLong, row.workLat, row.homeLong, row.homeLat)"
   ]
  },
  {
   "cell_type": "code",
   "execution_count": 68,
   "metadata": {
    "collapsed": false
   },
   "outputs": [],
   "source": [
    "users['distance'] = users.apply(dist, axis=1)"
   ]
  },
  {
   "cell_type": "code",
   "execution_count": 69,
   "metadata": {
    "collapsed": false
   },
   "outputs": [
    {
     "data": {
      "text/html": [
       "<div>\n",
       "<table border=\"1\" class=\"dataframe\">\n",
       "  <thead>\n",
       "    <tr style=\"text-align: right;\">\n",
       "      <th></th>\n",
       "      <th>workLat</th>\n",
       "      <th>workLong</th>\n",
       "      <th>workTweets</th>\n",
       "      <th>homeLat</th>\n",
       "      <th>homeLong</th>\n",
       "      <th>homeTweets</th>\n",
       "      <th>#tweets</th>\n",
       "      <th>userID</th>\n",
       "      <th>homeCountry</th>\n",
       "      <th>workCountry</th>\n",
       "      <th>homeCanton</th>\n",
       "      <th>workCanton</th>\n",
       "      <th>distance</th>\n",
       "    </tr>\n",
       "  </thead>\n",
       "  <tbody>\n",
       "    <tr>\n",
       "      <th>13</th>\n",
       "      <td>47.37</td>\n",
       "      <td>8.54</td>\n",
       "      <td>15.0</td>\n",
       "      <td>47.36</td>\n",
       "      <td>8.52</td>\n",
       "      <td>26.0</td>\n",
       "      <td>102</td>\n",
       "      <td>15519831</td>\n",
       "      <td>Suisse</td>\n",
       "      <td>Suisse</td>\n",
       "      <td>Zürich</td>\n",
       "      <td>Zürich</td>\n",
       "      <td>1.871091</td>\n",
       "    </tr>\n",
       "    <tr>\n",
       "      <th>17</th>\n",
       "      <td>47.09</td>\n",
       "      <td>8.28</td>\n",
       "      <td>17.0</td>\n",
       "      <td>47.18</td>\n",
       "      <td>8.55</td>\n",
       "      <td>27.0</td>\n",
       "      <td>102</td>\n",
       "      <td>322220690</td>\n",
       "      <td>Suisse</td>\n",
       "      <td>Suisse</td>\n",
       "      <td>Zug</td>\n",
       "      <td>Luzern</td>\n",
       "      <td>22.729363</td>\n",
       "    </tr>\n",
       "    <tr>\n",
       "      <th>19</th>\n",
       "      <td>47.37</td>\n",
       "      <td>8.54</td>\n",
       "      <td>11.0</td>\n",
       "      <td>47.36</td>\n",
       "      <td>8.52</td>\n",
       "      <td>27.0</td>\n",
       "      <td>102</td>\n",
       "      <td>45321360</td>\n",
       "      <td>Suisse</td>\n",
       "      <td>Suisse</td>\n",
       "      <td>Zürich</td>\n",
       "      <td>Zürich</td>\n",
       "      <td>1.871091</td>\n",
       "    </tr>\n",
       "    <tr>\n",
       "      <th>23</th>\n",
       "      <td>47.38</td>\n",
       "      <td>8.54</td>\n",
       "      <td>56.0</td>\n",
       "      <td>47.43</td>\n",
       "      <td>8.67</td>\n",
       "      <td>16.0</td>\n",
       "      <td>103</td>\n",
       "      <td>19081386</td>\n",
       "      <td>Suisse</td>\n",
       "      <td>Suisse</td>\n",
       "      <td>Zürich</td>\n",
       "      <td>Zürich</td>\n",
       "      <td>11.245866</td>\n",
       "    </tr>\n",
       "    <tr>\n",
       "      <th>24</th>\n",
       "      <td>45.94</td>\n",
       "      <td>6.08</td>\n",
       "      <td>10.0</td>\n",
       "      <td>46.07</td>\n",
       "      <td>6.31</td>\n",
       "      <td>53.0</td>\n",
       "      <td>104</td>\n",
       "      <td>2308044749</td>\n",
       "      <td>France</td>\n",
       "      <td>France</td>\n",
       "      <td>-</td>\n",
       "      <td>-</td>\n",
       "      <td>22.888059</td>\n",
       "    </tr>\n",
       "  </tbody>\n",
       "</table>\n",
       "</div>"
      ],
      "text/plain": [
       "    workLat  workLong  workTweets  homeLat  homeLong  homeTweets  #tweets  \\\n",
       "13    47.37      8.54        15.0    47.36      8.52        26.0      102   \n",
       "17    47.09      8.28        17.0    47.18      8.55        27.0      102   \n",
       "19    47.37      8.54        11.0    47.36      8.52        27.0      102   \n",
       "23    47.38      8.54        56.0    47.43      8.67        16.0      103   \n",
       "24    45.94      6.08        10.0    46.07      6.31        53.0      104   \n",
       "\n",
       "        userID homeCountry workCountry homeCanton workCanton   distance  \n",
       "13    15519831      Suisse      Suisse     Zürich     Zürich   1.871091  \n",
       "17   322220690      Suisse      Suisse        Zug     Luzern  22.729363  \n",
       "19    45321360      Suisse      Suisse     Zürich     Zürich   1.871091  \n",
       "23    19081386      Suisse      Suisse     Zürich     Zürich  11.245866  \n",
       "24  2308044749      France      France          -          -  22.888059  "
      ]
     },
     "execution_count": 69,
     "metadata": {},
     "output_type": "execute_result"
    }
   ],
   "source": [
    "users[users.distance != 0.0].head()"
   ]
  },
  {
   "cell_type": "markdown",
   "metadata": {},
   "source": [
    "### 4.2.3 Detect closer main cities (work/home)"
   ]
  },
  {
   "cell_type": "code",
   "execution_count": 70,
   "metadata": {
    "collapsed": true
   },
   "outputs": [],
   "source": [
    "def get_closer(row, where):\n",
    "    if where == 'work':\n",
    "        lat = row.workLat\n",
    "        long = row.workLong\n",
    "    else:\n",
    "        lat = row.homeLat\n",
    "        long = row.homeLong\n",
    "    d = 10000\n",
    "    closer = \"\"\n",
    "    for city, coord in main_cities.items():\n",
    "        new = haversine(long, lat, coord[1], coord[0])\n",
    "        if new < d:\n",
    "            d = new\n",
    "            closer = city\n",
    "    return (closer, d)\n",
    "\n",
    "\n",
    "users['closer to home'] = users.apply(lambda r: get_closer(r, \"home\"), axis=1)\n",
    "users['closer to work'] = users.apply(lambda r: get_closer(r, \"work\"), axis=1)"
   ]
  },
  {
   "cell_type": "code",
   "execution_count": 71,
   "metadata": {
    "collapsed": false
   },
   "outputs": [
    {
     "data": {
      "text/html": [
       "<div>\n",
       "<table border=\"1\" class=\"dataframe\">\n",
       "  <thead>\n",
       "    <tr style=\"text-align: right;\">\n",
       "      <th></th>\n",
       "      <th>workLat</th>\n",
       "      <th>workLong</th>\n",
       "      <th>workTweets</th>\n",
       "      <th>homeLat</th>\n",
       "      <th>homeLong</th>\n",
       "      <th>homeTweets</th>\n",
       "      <th>#tweets</th>\n",
       "      <th>userID</th>\n",
       "      <th>homeCountry</th>\n",
       "      <th>workCountry</th>\n",
       "      <th>homeCanton</th>\n",
       "      <th>workCanton</th>\n",
       "      <th>distance</th>\n",
       "      <th>closer to home</th>\n",
       "      <th>closer to work</th>\n",
       "    </tr>\n",
       "  </thead>\n",
       "  <tbody>\n",
       "    <tr>\n",
       "      <th>41</th>\n",
       "      <td>47.52</td>\n",
       "      <td>7.69</td>\n",
       "      <td>10.0</td>\n",
       "      <td>47.75</td>\n",
       "      <td>7.33</td>\n",
       "      <td>49.0</td>\n",
       "      <td>106</td>\n",
       "      <td>1013556217</td>\n",
       "      <td>France</td>\n",
       "      <td>Suisse</td>\n",
       "      <td>-</td>\n",
       "      <td>Basel-Landschaft</td>\n",
       "      <td>37.147665</td>\n",
       "      <td>(Mulhouse, 0.2465655646310726)</td>\n",
       "      <td>(Basel, 8.515260951487871)</td>\n",
       "    </tr>\n",
       "    <tr>\n",
       "      <th>190</th>\n",
       "      <td>46.17</td>\n",
       "      <td>6.20</td>\n",
       "      <td>13.0</td>\n",
       "      <td>46.19</td>\n",
       "      <td>6.20</td>\n",
       "      <td>50.0</td>\n",
       "      <td>154</td>\n",
       "      <td>458592244</td>\n",
       "      <td>Suisse</td>\n",
       "      <td>France</td>\n",
       "      <td>Genève</td>\n",
       "      <td>-</td>\n",
       "      <td>2.222502</td>\n",
       "      <td>(Geneva, 2.7921473981247624)</td>\n",
       "      <td>(Annemasse, 3.9705850360446107)</td>\n",
       "    </tr>\n",
       "    <tr>\n",
       "      <th>319</th>\n",
       "      <td>47.80</td>\n",
       "      <td>7.33</td>\n",
       "      <td>104.0</td>\n",
       "      <td>47.61</td>\n",
       "      <td>7.61</td>\n",
       "      <td>24.0</td>\n",
       "      <td>234</td>\n",
       "      <td>133924793</td>\n",
       "      <td>Deutschland</td>\n",
       "      <td>France</td>\n",
       "      <td>-</td>\n",
       "      <td>-</td>\n",
       "      <td>29.735875</td>\n",
       "      <td>(Basel, 4.869738576853841)</td>\n",
       "      <td>(Mulhouse, 5.561718553371034)</td>\n",
       "    </tr>\n",
       "    <tr>\n",
       "      <th>370</th>\n",
       "      <td>46.21</td>\n",
       "      <td>6.12</td>\n",
       "      <td>29.0</td>\n",
       "      <td>46.14</td>\n",
       "      <td>6.01</td>\n",
       "      <td>244.0</td>\n",
       "      <td>284</td>\n",
       "      <td>558706651</td>\n",
       "      <td>France</td>\n",
       "      <td>Suisse</td>\n",
       "      <td>-</td>\n",
       "      <td>Genève</td>\n",
       "      <td>11.495904</td>\n",
       "      <td>(Geneva, 13.779584185744847)</td>\n",
       "      <td>(Geneva, 3.759564287855678)</td>\n",
       "    </tr>\n",
       "    <tr>\n",
       "      <th>484</th>\n",
       "      <td>46.14</td>\n",
       "      <td>6.04</td>\n",
       "      <td>13.0</td>\n",
       "      <td>46.14</td>\n",
       "      <td>6.02</td>\n",
       "      <td>111.0</td>\n",
       "      <td>646</td>\n",
       "      <td>833235133</td>\n",
       "      <td>France</td>\n",
       "      <td>Suisse</td>\n",
       "      <td>-</td>\n",
       "      <td>Genève</td>\n",
       "      <td>1.539969</td>\n",
       "      <td>(Geneva, 13.1113959409452)</td>\n",
       "      <td>(Geneva, 11.81209558163891)</td>\n",
       "    </tr>\n",
       "    <tr>\n",
       "      <th>527</th>\n",
       "      <td>47.14</td>\n",
       "      <td>8.58</td>\n",
       "      <td>425.0</td>\n",
       "      <td>47.65</td>\n",
       "      <td>9.54</td>\n",
       "      <td>36.0</td>\n",
       "      <td>1062</td>\n",
       "      <td>2245859163</td>\n",
       "      <td>Deutschland</td>\n",
       "      <td>Suisse</td>\n",
       "      <td>-</td>\n",
       "      <td>Zug</td>\n",
       "      <td>91.797911</td>\n",
       "      <td>(Zurich, 80.70644229514339)</td>\n",
       "      <td>(Luzern, 24.517871097219224)</td>\n",
       "    </tr>\n",
       "    <tr>\n",
       "      <th>528</th>\n",
       "      <td>47.34</td>\n",
       "      <td>9.58</td>\n",
       "      <td>624.0</td>\n",
       "      <td>47.41</td>\n",
       "      <td>9.74</td>\n",
       "      <td>11.0</td>\n",
       "      <td>1083</td>\n",
       "      <td>1505970014</td>\n",
       "      <td>Österreich</td>\n",
       "      <td>Suisse</td>\n",
       "      <td>-</td>\n",
       "      <td>Sankt Gallen</td>\n",
       "      <td>14.334728</td>\n",
       "      <td>(Zurich, 89.65764741187124)</td>\n",
       "      <td>(Zurich, 77.59909949920166)</td>\n",
       "    </tr>\n",
       "  </tbody>\n",
       "</table>\n",
       "</div>"
      ],
      "text/plain": [
       "     workLat  workLong  workTweets  homeLat  homeLong  homeTweets  #tweets  \\\n",
       "41     47.52      7.69        10.0    47.75      7.33        49.0      106   \n",
       "190    46.17      6.20        13.0    46.19      6.20        50.0      154   \n",
       "319    47.80      7.33       104.0    47.61      7.61        24.0      234   \n",
       "370    46.21      6.12        29.0    46.14      6.01       244.0      284   \n",
       "484    46.14      6.04        13.0    46.14      6.02       111.0      646   \n",
       "527    47.14      8.58       425.0    47.65      9.54        36.0     1062   \n",
       "528    47.34      9.58       624.0    47.41      9.74        11.0     1083   \n",
       "\n",
       "         userID  homeCountry workCountry homeCanton        workCanton  \\\n",
       "41   1013556217       France      Suisse          -  Basel-Landschaft   \n",
       "190   458592244       Suisse      France     Genève                 -   \n",
       "319   133924793  Deutschland      France          -                 -   \n",
       "370   558706651       France      Suisse          -            Genève   \n",
       "484   833235133       France      Suisse          -            Genève   \n",
       "527  2245859163  Deutschland      Suisse          -               Zug   \n",
       "528  1505970014   Österreich      Suisse          -      Sankt Gallen   \n",
       "\n",
       "      distance                  closer to home  \\\n",
       "41   37.147665  (Mulhouse, 0.2465655646310726)   \n",
       "190   2.222502    (Geneva, 2.7921473981247624)   \n",
       "319  29.735875      (Basel, 4.869738576853841)   \n",
       "370  11.495904    (Geneva, 13.779584185744847)   \n",
       "484   1.539969      (Geneva, 13.1113959409452)   \n",
       "527  91.797911     (Zurich, 80.70644229514339)   \n",
       "528  14.334728     (Zurich, 89.65764741187124)   \n",
       "\n",
       "                      closer to work  \n",
       "41        (Basel, 8.515260951487871)  \n",
       "190  (Annemasse, 3.9705850360446107)  \n",
       "319    (Mulhouse, 5.561718553371034)  \n",
       "370      (Geneva, 3.759564287855678)  \n",
       "484      (Geneva, 11.81209558163891)  \n",
       "527     (Luzern, 24.517871097219224)  \n",
       "528      (Zurich, 77.59909949920166)  "
      ]
     },
     "execution_count": 71,
     "metadata": {},
     "output_type": "execute_result"
    }
   ],
   "source": [
    "users[users.homeCountry != users.workCountry]"
   ]
  },
  {
   "cell_type": "markdown",
   "metadata": {},
   "source": [
    "### 4.2.4 Route Time: home-work"
   ]
  },
  {
   "cell_type": "code",
   "execution_count": 72,
   "metadata": {
    "collapsed": false
   },
   "outputs": [],
   "source": [
    "import requests\n",
    "import json\n",
    "import codecs\n",
    "API_KEY = 'hAGkPF87ujmSOXqMIoks4rV4sVYww8jG'\n",
    "\n",
    "def get_time(row):\n",
    "    if (row.homeLat == row.workLat) and (row.homeLong == row.workLong):\n",
    "        return 0\n",
    "    else:\n",
    "        src = {'lat':row.homeLat, 'long':row.homeLong}\n",
    "        dest = {'lat': row.workLat, 'long': row.workLong}\n",
    "        params = {\n",
    "            'key': API_KEY,\n",
    "            'outFormat': \"json\",\n",
    "            'inFormat': \"json\"\n",
    "        }\n",
    "        request_body = {\n",
    "            'locations': [\n",
    "                {'latLng': {'lat': src['lat'], 'lng': src['long']}},\n",
    "                {'latLng': {'lat': dest['lat'], 'lng': dest['long']}}\n",
    "                ]\n",
    "            }\n",
    "        r=requests.post('https://www.mapquestapi.com/directions/v2/route',\n",
    "                        params=params, \n",
    "                        data=json.dumps(request_body)\n",
    "                       )\n",
    "        if r.status_code != 200:\n",
    "            # We didn't get a response from Mapquest\n",
    "            return -1\n",
    "        return r.json()['route']['time']/60\n",
    "\n",
    "users['routeTime'] = users.apply(get_time, axis=1)"
   ]
  },
  {
   "cell_type": "code",
   "execution_count": 73,
   "metadata": {
    "collapsed": false
   },
   "outputs": [
    {
     "name": "stdout",
     "output_type": "stream",
     "text": [
      "126\n"
     ]
    },
    {
     "data": {
      "text/html": [
       "<div>\n",
       "<table border=\"1\" class=\"dataframe\">\n",
       "  <thead>\n",
       "    <tr style=\"text-align: right;\">\n",
       "      <th></th>\n",
       "      <th>workLat</th>\n",
       "      <th>workLong</th>\n",
       "      <th>workTweets</th>\n",
       "      <th>homeLat</th>\n",
       "      <th>homeLong</th>\n",
       "      <th>homeTweets</th>\n",
       "      <th>#tweets</th>\n",
       "      <th>userID</th>\n",
       "      <th>homeCountry</th>\n",
       "      <th>workCountry</th>\n",
       "      <th>homeCanton</th>\n",
       "      <th>workCanton</th>\n",
       "      <th>distance</th>\n",
       "      <th>closer to home</th>\n",
       "      <th>closer to work</th>\n",
       "      <th>routeTime</th>\n",
       "    </tr>\n",
       "  </thead>\n",
       "  <tbody>\n",
       "    <tr>\n",
       "      <th>13</th>\n",
       "      <td>47.37</td>\n",
       "      <td>8.54</td>\n",
       "      <td>15.0</td>\n",
       "      <td>47.36</td>\n",
       "      <td>8.52</td>\n",
       "      <td>26.0</td>\n",
       "      <td>102</td>\n",
       "      <td>15519831</td>\n",
       "      <td>Suisse</td>\n",
       "      <td>Suisse</td>\n",
       "      <td>Zürich</td>\n",
       "      <td>Zürich</td>\n",
       "      <td>1.871091</td>\n",
       "      <td>(Zurich, 2.376643291268331)</td>\n",
       "      <td>(Zurich, 0.8386823848142152)</td>\n",
       "      <td>6.966667</td>\n",
       "    </tr>\n",
       "    <tr>\n",
       "      <th>17</th>\n",
       "      <td>47.09</td>\n",
       "      <td>8.28</td>\n",
       "      <td>17.0</td>\n",
       "      <td>47.18</td>\n",
       "      <td>8.55</td>\n",
       "      <td>27.0</td>\n",
       "      <td>102</td>\n",
       "      <td>322220690</td>\n",
       "      <td>Suisse</td>\n",
       "      <td>Suisse</td>\n",
       "      <td>Zug</td>\n",
       "      <td>Luzern</td>\n",
       "      <td>22.729363</td>\n",
       "      <td>(Zurich, 20.74372493228116)</td>\n",
       "      <td>(Luzern, 1.2518161548668694)</td>\n",
       "      <td>28.350000</td>\n",
       "    </tr>\n",
       "    <tr>\n",
       "      <th>19</th>\n",
       "      <td>47.37</td>\n",
       "      <td>8.54</td>\n",
       "      <td>11.0</td>\n",
       "      <td>47.36</td>\n",
       "      <td>8.52</td>\n",
       "      <td>27.0</td>\n",
       "      <td>102</td>\n",
       "      <td>45321360</td>\n",
       "      <td>Suisse</td>\n",
       "      <td>Suisse</td>\n",
       "      <td>Zürich</td>\n",
       "      <td>Zürich</td>\n",
       "      <td>1.871091</td>\n",
       "      <td>(Zurich, 2.376643291268331)</td>\n",
       "      <td>(Zurich, 0.8386823848142152)</td>\n",
       "      <td>6.966667</td>\n",
       "    </tr>\n",
       "    <tr>\n",
       "      <th>23</th>\n",
       "      <td>47.38</td>\n",
       "      <td>8.54</td>\n",
       "      <td>56.0</td>\n",
       "      <td>47.43</td>\n",
       "      <td>8.67</td>\n",
       "      <td>16.0</td>\n",
       "      <td>103</td>\n",
       "      <td>19081386</td>\n",
       "      <td>Suisse</td>\n",
       "      <td>Suisse</td>\n",
       "      <td>Zürich</td>\n",
       "      <td>Zürich</td>\n",
       "      <td>11.245866</td>\n",
       "      <td>(Zurich, 11.4456822698284)</td>\n",
       "      <td>(Zurich, 1.6615021190898316)</td>\n",
       "      <td>16.083333</td>\n",
       "    </tr>\n",
       "    <tr>\n",
       "      <th>24</th>\n",
       "      <td>45.94</td>\n",
       "      <td>6.08</td>\n",
       "      <td>10.0</td>\n",
       "      <td>46.07</td>\n",
       "      <td>6.31</td>\n",
       "      <td>53.0</td>\n",
       "      <td>104</td>\n",
       "      <td>2308044749</td>\n",
       "      <td>France</td>\n",
       "      <td>France</td>\n",
       "      <td>-</td>\n",
       "      <td>-</td>\n",
       "      <td>22.888059</td>\n",
       "      <td>(Annemasse, 14.903088793332524)</td>\n",
       "      <td>(Annecy, 5.273260210609062)</td>\n",
       "      <td>25.100000</td>\n",
       "    </tr>\n",
       "  </tbody>\n",
       "</table>\n",
       "</div>"
      ],
      "text/plain": [
       "    workLat  workLong  workTweets  homeLat  homeLong  homeTweets  #tweets  \\\n",
       "13    47.37      8.54        15.0    47.36      8.52        26.0      102   \n",
       "17    47.09      8.28        17.0    47.18      8.55        27.0      102   \n",
       "19    47.37      8.54        11.0    47.36      8.52        27.0      102   \n",
       "23    47.38      8.54        56.0    47.43      8.67        16.0      103   \n",
       "24    45.94      6.08        10.0    46.07      6.31        53.0      104   \n",
       "\n",
       "        userID homeCountry workCountry homeCanton workCanton   distance  \\\n",
       "13    15519831      Suisse      Suisse     Zürich     Zürich   1.871091   \n",
       "17   322220690      Suisse      Suisse        Zug     Luzern  22.729363   \n",
       "19    45321360      Suisse      Suisse     Zürich     Zürich   1.871091   \n",
       "23    19081386      Suisse      Suisse     Zürich     Zürich  11.245866   \n",
       "24  2308044749      France      France          -          -  22.888059   \n",
       "\n",
       "                     closer to home                closer to work  routeTime  \n",
       "13      (Zurich, 2.376643291268331)  (Zurich, 0.8386823848142152)   6.966667  \n",
       "17      (Zurich, 20.74372493228116)  (Luzern, 1.2518161548668694)  28.350000  \n",
       "19      (Zurich, 2.376643291268331)  (Zurich, 0.8386823848142152)   6.966667  \n",
       "23       (Zurich, 11.4456822698284)  (Zurich, 1.6615021190898316)  16.083333  \n",
       "24  (Annemasse, 14.903088793332524)   (Annecy, 5.273260210609062)  25.100000  "
      ]
     },
     "execution_count": 73,
     "metadata": {},
     "output_type": "execute_result"
    }
   ],
   "source": [
    "test = users[users.routeTime != 0]\n",
    "print(len(test))\n",
    "test.head()"
   ]
  },
  {
   "cell_type": "code",
   "execution_count": 74,
   "metadata": {
    "collapsed": true
   },
   "outputs": [],
   "source": [
    "users.to_csv('users_final.csv', index=False)"
   ]
  },
  {
   "cell_type": "markdown",
   "metadata": {},
   "source": [
    "# 5. Statistics on Data"
   ]
  },
  {
   "cell_type": "code",
   "execution_count": null,
   "metadata": {
    "collapsed": true
   },
   "outputs": [],
   "source": []
  }
 ],
 "metadata": {
  "anaconda-cloud": {},
  "kernelspec": {
   "display_name": "Python [conda root]",
   "language": "python",
   "name": "conda-root-py"
  },
  "language_info": {
   "codemirror_mode": {
    "name": "ipython",
    "version": 3
   },
   "file_extension": ".py",
   "mimetype": "text/x-python",
   "name": "python",
   "nbconvert_exporter": "python",
   "pygments_lexer": "ipython3",
   "version": "3.5.2"
  }
 },
 "nbformat": 4,
 "nbformat_minor": 1
}
