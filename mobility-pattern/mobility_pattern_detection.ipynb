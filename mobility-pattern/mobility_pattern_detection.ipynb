{
 "cells": [
  {
   "cell_type": "markdown",
   "metadata": {},
   "source": [
    "# Applied Data Analysis - Fall 2016\n",
    "## Twitter-Swisscom Project\n",
    "\n",
    "### Mobility Pattern\n",
    "\n",
    "\n",
    "1 - [Coordinate rounding](#rounding)\n",
    "\n",
    "2 - [Home/Work Detection](#home_work)\n",
    "\n",
    "3 - [Route Computing](#route)"
   ]
  },
  {
   "cell_type": "code",
   "execution_count": 1,
   "metadata": {
    "collapsed": true
   },
   "outputs": [],
   "source": [
    "import pandas as pd\n",
    "import math\n",
    "import numpy as np\n",
    "from mobility_helper import *\n",
    "from collections import Counter\n",
    "import seaborn as sns\n",
    "import matplotlib.pyplot as plt\n",
    "import time\n",
    "from geopy.geocoders import Nominatim,Bing\n",
    "import datetime as dt\n",
    "import folium"
   ]
  },
  {
   "cell_type": "markdown",
   "metadata": {},
   "source": [
    "We first load our cleaned and preprocessed data."
   ]
  },
  {
   "cell_type": "code",
   "execution_count": 2,
   "metadata": {
    "collapsed": false
   },
   "outputs": [],
   "source": [
    "tweets = pd.read_csv('./data/tweets_processed.csv', encoding = \"ISO-8859-1\")"
   ]
  },
  {
   "cell_type": "markdown",
   "metadata": {},
   "source": [
    "### 1 - <a id='rounding'>Coordinate rounding</a>\n",
    "\n",
    "The location coordinate that we have are too precise. It will be impossible to group by coordinate in order to detect key places like home and work. We thus decide to round the latitude and longitude of each tweets. We do this by lowering the coordinate precision (# of decimals).\n",
    "\n",
    "C.f. https://en.wikipedia.org/wiki/Decimal_degrees\n",
    "\n",
    "- precision to 3 decimals: equateur: radius of 80m \n",
    "- precision to 2 decimals: equateur: raidus of 780m\n",
    "\n",
    "By keeping 3 decimals, we observed that a lot of places were not grouped with others. Disabling us to infer on key places. We thus applied a 2-decimals precision."
   ]
  },
  {
   "cell_type": "code",
   "execution_count": 3,
   "metadata": {
    "collapsed": false
   },
   "outputs": [
    {
     "data": {
      "text/html": [
       "<div>\n",
       "<table border=\"1\" class=\"dataframe\">\n",
       "  <thead>\n",
       "    <tr style=\"text-align: right;\">\n",
       "      <th></th>\n",
       "      <th>ID</th>\n",
       "      <th>userID</th>\n",
       "      <th>createdAt</th>\n",
       "      <th>longitude</th>\n",
       "      <th>latitude</th>\n",
       "      <th>areaLat</th>\n",
       "      <th>areaLong</th>\n",
       "    </tr>\n",
       "  </thead>\n",
       "  <tbody>\n",
       "    <tr>\n",
       "      <th>0</th>\n",
       "      <td>924163322</td>\n",
       "      <td>17341045</td>\n",
       "      <td>2010-02-23 05:55:51</td>\n",
       "      <td>7.43926</td>\n",
       "      <td>46.9489</td>\n",
       "      <td>46.95</td>\n",
       "      <td>7.44</td>\n",
       "    </tr>\n",
       "    <tr>\n",
       "      <th>1</th>\n",
       "      <td>924911820</td>\n",
       "      <td>7198282</td>\n",
       "      <td>2010-02-23 06:22:40</td>\n",
       "      <td>8.53781</td>\n",
       "      <td>47.3678</td>\n",
       "      <td>47.37</td>\n",
       "      <td>8.54</td>\n",
       "    </tr>\n",
       "    <tr>\n",
       "      <th>2</th>\n",
       "      <td>926639767</td>\n",
       "      <td>14657884</td>\n",
       "      <td>2010-02-23 07:34:25</td>\n",
       "      <td>6.13396</td>\n",
       "      <td>46.1951</td>\n",
       "      <td>46.20</td>\n",
       "      <td>6.13</td>\n",
       "    </tr>\n",
       "    <tr>\n",
       "      <th>3</th>\n",
       "      <td>927264351</td>\n",
       "      <td>14393717</td>\n",
       "      <td>2010-02-23 08:02:57</td>\n",
       "      <td>6.63254</td>\n",
       "      <td>46.5199</td>\n",
       "      <td>46.52</td>\n",
       "      <td>6.63</td>\n",
       "    </tr>\n",
       "    <tr>\n",
       "      <th>4</th>\n",
       "      <td>928080163</td>\n",
       "      <td>14393717</td>\n",
       "      <td>2010-02-23 08:40:13</td>\n",
       "      <td>6.63428</td>\n",
       "      <td>46.5191</td>\n",
       "      <td>46.52</td>\n",
       "      <td>6.63</td>\n",
       "    </tr>\n",
       "  </tbody>\n",
       "</table>\n",
       "</div>"
      ],
      "text/plain": [
       "          ID    userID            createdAt  longitude  latitude  areaLat  \\\n",
       "0  924163322  17341045  2010-02-23 05:55:51    7.43926   46.9489    46.95   \n",
       "1  924911820   7198282  2010-02-23 06:22:40    8.53781   47.3678    47.37   \n",
       "2  926639767  14657884  2010-02-23 07:34:25    6.13396   46.1951    46.20   \n",
       "3  927264351  14393717  2010-02-23 08:02:57    6.63254   46.5199    46.52   \n",
       "4  928080163  14393717  2010-02-23 08:40:13    6.63428   46.5191    46.52   \n",
       "\n",
       "   areaLong  \n",
       "0      7.44  \n",
       "1      8.54  \n",
       "2      6.13  \n",
       "3      6.63  \n",
       "4      6.63  "
      ]
     },
     "execution_count": 3,
     "metadata": {},
     "output_type": "execute_result"
    }
   ],
   "source": [
    "tweets['areaLat'] = tweets.apply(lambda r: float('%.2f' % r.latitude), axis=1)\n",
    "tweets['areaLong'] = tweets.apply(lambda r: float('%.2f' % r.longitude), axis=1)\n",
    "tweets.head()"
   ]
  },
  {
   "cell_type": "markdown",
   "metadata": {},
   "source": [
    "We now infer on tweets sent during work hours: 8:00-18:00"
   ]
  },
  {
   "cell_type": "code",
   "execution_count": 4,
   "metadata": {
    "collapsed": true
   },
   "outputs": [],
   "source": [
    "tweets['createdAt'] = pd.to_datetime(tweets['createdAt'])"
   ]
  },
  {
   "cell_type": "code",
   "execution_count": 5,
   "metadata": {
    "collapsed": false
   },
   "outputs": [
    {
     "data": {
      "text/html": [
       "<div>\n",
       "<table border=\"1\" class=\"dataframe\">\n",
       "  <thead>\n",
       "    <tr style=\"text-align: right;\">\n",
       "      <th></th>\n",
       "      <th>ID</th>\n",
       "      <th>userID</th>\n",
       "      <th>createdAt</th>\n",
       "      <th>longitude</th>\n",
       "      <th>latitude</th>\n",
       "      <th>areaLat</th>\n",
       "      <th>areaLong</th>\n",
       "      <th>@workHour</th>\n",
       "    </tr>\n",
       "  </thead>\n",
       "  <tbody>\n",
       "    <tr>\n",
       "      <th>0</th>\n",
       "      <td>924163322</td>\n",
       "      <td>17341045</td>\n",
       "      <td>2010-02-23 05:55:51</td>\n",
       "      <td>7.43926</td>\n",
       "      <td>46.9489</td>\n",
       "      <td>46.95</td>\n",
       "      <td>7.44</td>\n",
       "      <td>False</td>\n",
       "    </tr>\n",
       "    <tr>\n",
       "      <th>1</th>\n",
       "      <td>924911820</td>\n",
       "      <td>7198282</td>\n",
       "      <td>2010-02-23 06:22:40</td>\n",
       "      <td>8.53781</td>\n",
       "      <td>47.3678</td>\n",
       "      <td>47.37</td>\n",
       "      <td>8.54</td>\n",
       "      <td>False</td>\n",
       "    </tr>\n",
       "    <tr>\n",
       "      <th>2</th>\n",
       "      <td>926639767</td>\n",
       "      <td>14657884</td>\n",
       "      <td>2010-02-23 07:34:25</td>\n",
       "      <td>6.13396</td>\n",
       "      <td>46.1951</td>\n",
       "      <td>46.20</td>\n",
       "      <td>6.13</td>\n",
       "      <td>False</td>\n",
       "    </tr>\n",
       "    <tr>\n",
       "      <th>3</th>\n",
       "      <td>927264351</td>\n",
       "      <td>14393717</td>\n",
       "      <td>2010-02-23 08:02:57</td>\n",
       "      <td>6.63254</td>\n",
       "      <td>46.5199</td>\n",
       "      <td>46.52</td>\n",
       "      <td>6.63</td>\n",
       "      <td>True</td>\n",
       "    </tr>\n",
       "    <tr>\n",
       "      <th>4</th>\n",
       "      <td>928080163</td>\n",
       "      <td>14393717</td>\n",
       "      <td>2010-02-23 08:40:13</td>\n",
       "      <td>6.63428</td>\n",
       "      <td>46.5191</td>\n",
       "      <td>46.52</td>\n",
       "      <td>6.63</td>\n",
       "      <td>True</td>\n",
       "    </tr>\n",
       "  </tbody>\n",
       "</table>\n",
       "</div>"
      ],
      "text/plain": [
       "          ID    userID           createdAt  longitude  latitude  areaLat  \\\n",
       "0  924163322  17341045 2010-02-23 05:55:51    7.43926   46.9489    46.95   \n",
       "1  924911820   7198282 2010-02-23 06:22:40    8.53781   47.3678    47.37   \n",
       "2  926639767  14657884 2010-02-23 07:34:25    6.13396   46.1951    46.20   \n",
       "3  927264351  14393717 2010-02-23 08:02:57    6.63254   46.5199    46.52   \n",
       "4  928080163  14393717 2010-02-23 08:40:13    6.63428   46.5191    46.52   \n",
       "\n",
       "   areaLong @workHour  \n",
       "0      7.44     False  \n",
       "1      8.54     False  \n",
       "2      6.13     False  \n",
       "3      6.63      True  \n",
       "4      6.63      True  "
      ]
     },
     "execution_count": 5,
     "metadata": {},
     "output_type": "execute_result"
    }
   ],
   "source": [
    "tweets['@workHour'] = (tweets['createdAt'].dt.hour <= 18) & (tweets['createdAt'].dt.hour >= 8)\n",
    "tweets.head()"
   ]
  },
  {
   "cell_type": "markdown",
   "metadata": {},
   "source": [
    "### 2 - <a id='home_work'> Home/Work place Detection </a>\n",
    "\n",
    "We want to define a key place if at least 10 tweets were sent from there, at least 2 tweets have a 24h offset and it is sent in the predefined correspondinf work or home hours.\n",
    "\n",
    "We thus defined those two functions that will help us select the given locations per users:"
   ]
  },
  {
   "cell_type": "code",
   "execution_count": 6,
   "metadata": {
    "collapsed": true
   },
   "outputs": [],
   "source": [
    "def place_24hdiff(name, most_freq, place):\n",
    "    if place == \"work\":\n",
    "        tw = at_work[(at_work.userID == name) & (at_work.areaLong == most_freq[1]) & (at_work.areaLat == most_freq[0])]\n",
    "    else:\n",
    "        tw = nat_work[(nat_work.userID == name) & (nat_work.areaLong == most_freq[1]) & (nat_work.areaLat == most_freq[0])]\n",
    "    #return true if day distance >=1        \n",
    "    for i1, row1 in tw.iterrows():\n",
    "        for i2, row2 in tw.iterrows():\n",
    "            d = row1.createdAt - row2.createdAt\n",
    "            if abs(d.days) >= 1:\n",
    "                return True\n",
    "    return False\n",
    "\n",
    "def most_freq_coord(group, threshold, place):\n",
    "    lat_long = list(zip(group.areaLat, group.areaLong))\n",
    "    c = Counter(lat_long)\n",
    "    most_freq = list(c)[0]\n",
    "    n = c[most_freq]\n",
    "    while not place_24hdiff(group.name, most_freq, place):\n",
    "        c.pop(most_freq, 0)\n",
    "        if len(c) == 0:\n",
    "            #no places with valid diff: return last one with frequence 0 which will be deleted with threshold\n",
    "            return pd.Series({'freqLat': most_freq[0], 'freqLong': most_freq[1], 'frequence': 0})\n",
    "        else:\n",
    "            most_freq = list(c)[0]\n",
    "            n = c[most_freq]\n",
    "    #out of while loop: means we have a valid place (1 day diff)\n",
    "    return pd.Series({'freqLat': most_freq[0], 'freqLong': most_freq[1], 'frequence': n})\n",
    "\n",
    "threshold = 10"
   ]
  },
  {
   "cell_type": "markdown",
   "metadata": {},
   "source": [
    "### Work place detection"
   ]
  },
  {
   "cell_type": "code",
   "execution_count": 7,
   "metadata": {
    "collapsed": false
   },
   "outputs": [
    {
     "data": {
      "text/html": [
       "<div>\n",
       "<table border=\"1\" class=\"dataframe\">\n",
       "  <thead>\n",
       "    <tr style=\"text-align: right;\">\n",
       "      <th></th>\n",
       "      <th>ID</th>\n",
       "      <th>userID</th>\n",
       "      <th>createdAt</th>\n",
       "      <th>longitude</th>\n",
       "      <th>latitude</th>\n",
       "      <th>areaLat</th>\n",
       "      <th>areaLong</th>\n",
       "      <th>@workHour</th>\n",
       "    </tr>\n",
       "  </thead>\n",
       "  <tbody>\n",
       "    <tr>\n",
       "      <th>3</th>\n",
       "      <td>927264351</td>\n",
       "      <td>14393717</td>\n",
       "      <td>2010-02-23 08:02:57</td>\n",
       "      <td>6.63254</td>\n",
       "      <td>46.5199</td>\n",
       "      <td>46.52</td>\n",
       "      <td>6.63</td>\n",
       "      <td>True</td>\n",
       "    </tr>\n",
       "    <tr>\n",
       "      <th>4</th>\n",
       "      <td>928080163</td>\n",
       "      <td>14393717</td>\n",
       "      <td>2010-02-23 08:40:13</td>\n",
       "      <td>6.63428</td>\n",
       "      <td>46.5191</td>\n",
       "      <td>46.52</td>\n",
       "      <td>6.63</td>\n",
       "      <td>True</td>\n",
       "    </tr>\n",
       "    <tr>\n",
       "      <th>5</th>\n",
       "      <td>929214686</td>\n",
       "      <td>14260616</td>\n",
       "      <td>2010-02-23 09:32:09</td>\n",
       "      <td>8.29953</td>\n",
       "      <td>47.4829</td>\n",
       "      <td>47.48</td>\n",
       "      <td>8.30</td>\n",
       "      <td>True</td>\n",
       "    </tr>\n",
       "    <tr>\n",
       "      <th>6</th>\n",
       "      <td>929803298</td>\n",
       "      <td>14657884</td>\n",
       "      <td>2010-02-23 09:59:41</td>\n",
       "      <td>6.13870</td>\n",
       "      <td>46.1750</td>\n",
       "      <td>46.17</td>\n",
       "      <td>6.14</td>\n",
       "      <td>True</td>\n",
       "    </tr>\n",
       "    <tr>\n",
       "      <th>7</th>\n",
       "      <td>931855097</td>\n",
       "      <td>9962022</td>\n",
       "      <td>2010-02-23 11:28:27</td>\n",
       "      <td>6.33641</td>\n",
       "      <td>46.4631</td>\n",
       "      <td>46.46</td>\n",
       "      <td>6.34</td>\n",
       "      <td>True</td>\n",
       "    </tr>\n",
       "  </tbody>\n",
       "</table>\n",
       "</div>"
      ],
      "text/plain": [
       "          ID    userID           createdAt  longitude  latitude  areaLat  \\\n",
       "3  927264351  14393717 2010-02-23 08:02:57    6.63254   46.5199    46.52   \n",
       "4  928080163  14393717 2010-02-23 08:40:13    6.63428   46.5191    46.52   \n",
       "5  929214686  14260616 2010-02-23 09:32:09    8.29953   47.4829    47.48   \n",
       "6  929803298  14657884 2010-02-23 09:59:41    6.13870   46.1750    46.17   \n",
       "7  931855097   9962022 2010-02-23 11:28:27    6.33641   46.4631    46.46   \n",
       "\n",
       "   areaLong @workHour  \n",
       "3      6.63      True  \n",
       "4      6.63      True  \n",
       "5      8.30      True  \n",
       "6      6.14      True  \n",
       "7      6.34      True  "
      ]
     },
     "execution_count": 7,
     "metadata": {},
     "output_type": "execute_result"
    }
   ],
   "source": [
    "at_work = tweets[tweets['@workHour']]\n",
    "at_work.head()"
   ]
  },
  {
   "cell_type": "code",
   "execution_count": 8,
   "metadata": {
    "collapsed": false
   },
   "outputs": [
    {
     "name": "stdout",
     "output_type": "stream",
     "text": [
      "18453\n"
     ]
    },
    {
     "data": {
      "text/html": [
       "<div>\n",
       "<table border=\"1\" class=\"dataframe\">\n",
       "  <thead>\n",
       "    <tr style=\"text-align: right;\">\n",
       "      <th></th>\n",
       "      <th>freqLat</th>\n",
       "      <th>freqLong</th>\n",
       "      <th>frequence</th>\n",
       "    </tr>\n",
       "    <tr>\n",
       "      <th>userID</th>\n",
       "      <th></th>\n",
       "      <th></th>\n",
       "      <th></th>\n",
       "    </tr>\n",
       "  </thead>\n",
       "  <tbody>\n",
       "    <tr>\n",
       "      <th>1497</th>\n",
       "      <td>47.59</td>\n",
       "      <td>8.02</td>\n",
       "      <td>3.0</td>\n",
       "    </tr>\n",
       "    <tr>\n",
       "      <th>2397</th>\n",
       "      <td>47.59</td>\n",
       "      <td>8.21</td>\n",
       "      <td>2.0</td>\n",
       "    </tr>\n",
       "    <tr>\n",
       "      <th>2623</th>\n",
       "      <td>47.76</td>\n",
       "      <td>8.84</td>\n",
       "      <td>2.0</td>\n",
       "    </tr>\n",
       "    <tr>\n",
       "      <th>5267</th>\n",
       "      <td>47.46</td>\n",
       "      <td>8.59</td>\n",
       "      <td>5.0</td>\n",
       "    </tr>\n",
       "    <tr>\n",
       "      <th>5757</th>\n",
       "      <td>47.67</td>\n",
       "      <td>9.41</td>\n",
       "      <td>75.0</td>\n",
       "    </tr>\n",
       "  </tbody>\n",
       "</table>\n",
       "</div>"
      ],
      "text/plain": [
       "        freqLat  freqLong  frequence\n",
       "userID                              \n",
       "1497      47.59      8.02        3.0\n",
       "2397      47.59      8.21        2.0\n",
       "2623      47.76      8.84        2.0\n",
       "5267      47.46      8.59        5.0\n",
       "5757      47.67      9.41       75.0"
      ]
     },
     "execution_count": 8,
     "metadata": {},
     "output_type": "execute_result"
    }
   ],
   "source": [
    "work_freq = at_work.groupby(['userID']).apply(lambda g : most_freq_coord(g,threshold, \"work\"))\n",
    "print(len(work_freq))\n",
    "work_freq.head()"
   ]
  },
  {
   "cell_type": "markdown",
   "metadata": {},
   "source": [
    "We apply the threshold. And save the index (userID) that we should remove."
   ]
  },
  {
   "cell_type": "code",
   "execution_count": 9,
   "metadata": {
    "collapsed": false
   },
   "outputs": [
    {
     "data": {
      "text/plain": [
       "10240"
      ]
     },
     "execution_count": 9,
     "metadata": {},
     "output_type": "execute_result"
    }
   ],
   "source": [
    "len(work_freq[work_freq.frequence < threshold])"
   ]
  },
  {
   "cell_type": "code",
   "execution_count": 10,
   "metadata": {
    "collapsed": false
   },
   "outputs": [
    {
     "data": {
      "text/plain": [
       "10240"
      ]
     },
     "execution_count": 10,
     "metadata": {},
     "output_type": "execute_result"
    }
   ],
   "source": [
    "work_to_remove = work_freq[work_freq.frequence < threshold].index.values.tolist()\n",
    "len(work_to_remove)"
   ]
  },
  {
   "cell_type": "markdown",
   "metadata": {},
   "source": [
    "### Home place detection"
   ]
  },
  {
   "cell_type": "code",
   "execution_count": 11,
   "metadata": {
    "collapsed": false
   },
   "outputs": [
    {
     "data": {
      "text/html": [
       "<div>\n",
       "<table border=\"1\" class=\"dataframe\">\n",
       "  <thead>\n",
       "    <tr style=\"text-align: right;\">\n",
       "      <th></th>\n",
       "      <th>ID</th>\n",
       "      <th>userID</th>\n",
       "      <th>createdAt</th>\n",
       "      <th>longitude</th>\n",
       "      <th>latitude</th>\n",
       "      <th>areaLat</th>\n",
       "      <th>areaLong</th>\n",
       "      <th>@workHour</th>\n",
       "    </tr>\n",
       "  </thead>\n",
       "  <tbody>\n",
       "    <tr>\n",
       "      <th>0</th>\n",
       "      <td>924163322</td>\n",
       "      <td>17341045</td>\n",
       "      <td>2010-02-23 05:55:51</td>\n",
       "      <td>7.43926</td>\n",
       "      <td>46.9489</td>\n",
       "      <td>46.95</td>\n",
       "      <td>7.44</td>\n",
       "      <td>False</td>\n",
       "    </tr>\n",
       "    <tr>\n",
       "      <th>1</th>\n",
       "      <td>924911820</td>\n",
       "      <td>7198282</td>\n",
       "      <td>2010-02-23 06:22:40</td>\n",
       "      <td>8.53781</td>\n",
       "      <td>47.3678</td>\n",
       "      <td>47.37</td>\n",
       "      <td>8.54</td>\n",
       "      <td>False</td>\n",
       "    </tr>\n",
       "    <tr>\n",
       "      <th>2</th>\n",
       "      <td>926639767</td>\n",
       "      <td>14657884</td>\n",
       "      <td>2010-02-23 07:34:25</td>\n",
       "      <td>6.13396</td>\n",
       "      <td>46.1951</td>\n",
       "      <td>46.20</td>\n",
       "      <td>6.13</td>\n",
       "      <td>False</td>\n",
       "    </tr>\n",
       "    <tr>\n",
       "      <th>16</th>\n",
       "      <td>954731115</td>\n",
       "      <td>6016562</td>\n",
       "      <td>2010-02-23 21:58:49</td>\n",
       "      <td>6.62680</td>\n",
       "      <td>46.5072</td>\n",
       "      <td>46.51</td>\n",
       "      <td>6.63</td>\n",
       "      <td>False</td>\n",
       "    </tr>\n",
       "    <tr>\n",
       "      <th>17</th>\n",
       "      <td>957072936</td>\n",
       "      <td>14657884</td>\n",
       "      <td>2010-02-23 22:56:23</td>\n",
       "      <td>6.14474</td>\n",
       "      <td>46.1958</td>\n",
       "      <td>46.20</td>\n",
       "      <td>6.14</td>\n",
       "      <td>False</td>\n",
       "    </tr>\n",
       "  </tbody>\n",
       "</table>\n",
       "</div>"
      ],
      "text/plain": [
       "           ID    userID           createdAt  longitude  latitude  areaLat  \\\n",
       "0   924163322  17341045 2010-02-23 05:55:51    7.43926   46.9489    46.95   \n",
       "1   924911820   7198282 2010-02-23 06:22:40    8.53781   47.3678    47.37   \n",
       "2   926639767  14657884 2010-02-23 07:34:25    6.13396   46.1951    46.20   \n",
       "16  954731115   6016562 2010-02-23 21:58:49    6.62680   46.5072    46.51   \n",
       "17  957072936  14657884 2010-02-23 22:56:23    6.14474   46.1958    46.20   \n",
       "\n",
       "    areaLong @workHour  \n",
       "0       7.44     False  \n",
       "1       8.54     False  \n",
       "2       6.13     False  \n",
       "16      6.63     False  \n",
       "17      6.14     False  "
      ]
     },
     "execution_count": 11,
     "metadata": {},
     "output_type": "execute_result"
    }
   ],
   "source": [
    "nat_work = tweets[~tweets['@workHour']]\n",
    "nat_work.head()"
   ]
  },
  {
   "cell_type": "code",
   "execution_count": 12,
   "metadata": {
    "collapsed": false
   },
   "outputs": [
    {
     "name": "stdout",
     "output_type": "stream",
     "text": [
      "18444\n"
     ]
    },
    {
     "data": {
      "text/html": [
       "<div>\n",
       "<table border=\"1\" class=\"dataframe\">\n",
       "  <thead>\n",
       "    <tr style=\"text-align: right;\">\n",
       "      <th></th>\n",
       "      <th>freqLat</th>\n",
       "      <th>freqLong</th>\n",
       "      <th>frequence</th>\n",
       "    </tr>\n",
       "    <tr>\n",
       "      <th>userID</th>\n",
       "      <th></th>\n",
       "      <th></th>\n",
       "      <th></th>\n",
       "    </tr>\n",
       "  </thead>\n",
       "  <tbody>\n",
       "    <tr>\n",
       "      <th>1497</th>\n",
       "      <td>47.38</td>\n",
       "      <td>8.54</td>\n",
       "      <td>51.0</td>\n",
       "    </tr>\n",
       "    <tr>\n",
       "      <th>2397</th>\n",
       "      <td>46.24</td>\n",
       "      <td>6.09</td>\n",
       "      <td>2.0</td>\n",
       "    </tr>\n",
       "    <tr>\n",
       "      <th>2623</th>\n",
       "      <td>47.63</td>\n",
       "      <td>7.68</td>\n",
       "      <td>9.0</td>\n",
       "    </tr>\n",
       "    <tr>\n",
       "      <th>5267</th>\n",
       "      <td>46.20</td>\n",
       "      <td>6.14</td>\n",
       "      <td>12.0</td>\n",
       "    </tr>\n",
       "    <tr>\n",
       "      <th>5757</th>\n",
       "      <td>47.73</td>\n",
       "      <td>9.40</td>\n",
       "      <td>164.0</td>\n",
       "    </tr>\n",
       "  </tbody>\n",
       "</table>\n",
       "</div>"
      ],
      "text/plain": [
       "        freqLat  freqLong  frequence\n",
       "userID                              \n",
       "1497      47.38      8.54       51.0\n",
       "2397      46.24      6.09        2.0\n",
       "2623      47.63      7.68        9.0\n",
       "5267      46.20      6.14       12.0\n",
       "5757      47.73      9.40      164.0"
      ]
     },
     "execution_count": 12,
     "metadata": {},
     "output_type": "execute_result"
    }
   ],
   "source": [
    "home_freq = nat_work.groupby(['userID']).apply(lambda g: most_freq_coord(g, threshold, \"home\"))\n",
    "print(len(home_freq))\n",
    "home_freq.head()"
   ]
  },
  {
   "cell_type": "markdown",
   "metadata": {},
   "source": [
    "We apply the threshold and save the index (userID) that we should remove."
   ]
  },
  {
   "cell_type": "code",
   "execution_count": 13,
   "metadata": {
    "collapsed": false
   },
   "outputs": [
    {
     "data": {
      "text/plain": [
       "9168"
      ]
     },
     "execution_count": 13,
     "metadata": {},
     "output_type": "execute_result"
    }
   ],
   "source": [
    "len(home_freq[home_freq.frequence < threshold])"
   ]
  },
  {
   "cell_type": "code",
   "execution_count": 14,
   "metadata": {
    "collapsed": false
   },
   "outputs": [
    {
     "data": {
      "text/plain": [
       "9168"
      ]
     },
     "execution_count": 14,
     "metadata": {},
     "output_type": "execute_result"
    }
   ],
   "source": [
    "home_to_remove = home_freq[home_freq.frequence < threshold].index.values.tolist()\n",
    "len(home_to_remove)"
   ]
  },
  {
   "cell_type": "markdown",
   "metadata": {},
   "source": [
    "### Data Merge\n",
    "\n",
    "We merge the 2 dataframes: work_freq, home_freq.\n"
   ]
  },
  {
   "cell_type": "markdown",
   "metadata": {},
   "source": [
    "Merging:"
   ]
  },
  {
   "cell_type": "code",
   "execution_count": 15,
   "metadata": {
    "collapsed": false
   },
   "outputs": [
    {
     "data": {
      "text/html": [
       "<div>\n",
       "<table border=\"1\" class=\"dataframe\">\n",
       "  <thead>\n",
       "    <tr style=\"text-align: right;\">\n",
       "      <th></th>\n",
       "      <th>workLat</th>\n",
       "      <th>workLong</th>\n",
       "      <th>workTweets</th>\n",
       "      <th>homeLat</th>\n",
       "      <th>homeLong</th>\n",
       "      <th>homeTweets</th>\n",
       "    </tr>\n",
       "    <tr>\n",
       "      <th>userID</th>\n",
       "      <th></th>\n",
       "      <th></th>\n",
       "      <th></th>\n",
       "      <th></th>\n",
       "      <th></th>\n",
       "      <th></th>\n",
       "    </tr>\n",
       "  </thead>\n",
       "  <tbody>\n",
       "    <tr>\n",
       "      <th>1497</th>\n",
       "      <td>47.59</td>\n",
       "      <td>8.02</td>\n",
       "      <td>3.0</td>\n",
       "      <td>47.38</td>\n",
       "      <td>8.54</td>\n",
       "      <td>51.0</td>\n",
       "    </tr>\n",
       "    <tr>\n",
       "      <th>2397</th>\n",
       "      <td>47.59</td>\n",
       "      <td>8.21</td>\n",
       "      <td>2.0</td>\n",
       "      <td>46.24</td>\n",
       "      <td>6.09</td>\n",
       "      <td>2.0</td>\n",
       "    </tr>\n",
       "    <tr>\n",
       "      <th>2623</th>\n",
       "      <td>47.76</td>\n",
       "      <td>8.84</td>\n",
       "      <td>2.0</td>\n",
       "      <td>47.63</td>\n",
       "      <td>7.68</td>\n",
       "      <td>9.0</td>\n",
       "    </tr>\n",
       "    <tr>\n",
       "      <th>5267</th>\n",
       "      <td>47.46</td>\n",
       "      <td>8.59</td>\n",
       "      <td>5.0</td>\n",
       "      <td>46.20</td>\n",
       "      <td>6.14</td>\n",
       "      <td>12.0</td>\n",
       "    </tr>\n",
       "    <tr>\n",
       "      <th>5757</th>\n",
       "      <td>47.67</td>\n",
       "      <td>9.41</td>\n",
       "      <td>75.0</td>\n",
       "      <td>47.73</td>\n",
       "      <td>9.40</td>\n",
       "      <td>164.0</td>\n",
       "    </tr>\n",
       "  </tbody>\n",
       "</table>\n",
       "</div>"
      ],
      "text/plain": [
       "        workLat  workLong  workTweets  homeLat  homeLong  homeTweets\n",
       "userID                                                              \n",
       "1497      47.59      8.02         3.0    47.38      8.54        51.0\n",
       "2397      47.59      8.21         2.0    46.24      6.09         2.0\n",
       "2623      47.76      8.84         2.0    47.63      7.68         9.0\n",
       "5267      47.46      8.59         5.0    46.20      6.14        12.0\n",
       "5757      47.67      9.41        75.0    47.73      9.40       164.0"
      ]
     },
     "execution_count": 15,
     "metadata": {},
     "output_type": "execute_result"
    }
   ],
   "source": [
    "users = pd.merge(work_freq, home_freq,how='inner', left_index=True, right_index=True)\n",
    "columns = ['workLat', 'workLong', 'workTweets', 'homeLat', 'homeLong', 'homeTweets']\n",
    "users.columns = columns\n",
    "users.head()"
   ]
  },
  {
   "cell_type": "code",
   "execution_count": 16,
   "metadata": {
    "collapsed": false
   },
   "outputs": [
    {
     "data": {
      "text/html": [
       "<div>\n",
       "<table border=\"1\" class=\"dataframe\">\n",
       "  <thead>\n",
       "    <tr style=\"text-align: right;\">\n",
       "      <th></th>\n",
       "      <th>workLat</th>\n",
       "      <th>workLong</th>\n",
       "      <th>workTweets</th>\n",
       "      <th>homeLat</th>\n",
       "      <th>homeLong</th>\n",
       "      <th>homeTweets</th>\n",
       "      <th>userID</th>\n",
       "    </tr>\n",
       "  </thead>\n",
       "  <tbody>\n",
       "    <tr>\n",
       "      <th>0</th>\n",
       "      <td>47.59</td>\n",
       "      <td>8.02</td>\n",
       "      <td>3.0</td>\n",
       "      <td>47.38</td>\n",
       "      <td>8.54</td>\n",
       "      <td>51.0</td>\n",
       "      <td>1497</td>\n",
       "    </tr>\n",
       "    <tr>\n",
       "      <th>1</th>\n",
       "      <td>47.59</td>\n",
       "      <td>8.21</td>\n",
       "      <td>2.0</td>\n",
       "      <td>46.24</td>\n",
       "      <td>6.09</td>\n",
       "      <td>2.0</td>\n",
       "      <td>2397</td>\n",
       "    </tr>\n",
       "    <tr>\n",
       "      <th>2</th>\n",
       "      <td>47.76</td>\n",
       "      <td>8.84</td>\n",
       "      <td>2.0</td>\n",
       "      <td>47.63</td>\n",
       "      <td>7.68</td>\n",
       "      <td>9.0</td>\n",
       "      <td>2623</td>\n",
       "    </tr>\n",
       "    <tr>\n",
       "      <th>3</th>\n",
       "      <td>47.46</td>\n",
       "      <td>8.59</td>\n",
       "      <td>5.0</td>\n",
       "      <td>46.20</td>\n",
       "      <td>6.14</td>\n",
       "      <td>12.0</td>\n",
       "      <td>5267</td>\n",
       "    </tr>\n",
       "    <tr>\n",
       "      <th>4</th>\n",
       "      <td>47.67</td>\n",
       "      <td>9.41</td>\n",
       "      <td>75.0</td>\n",
       "      <td>47.73</td>\n",
       "      <td>9.40</td>\n",
       "      <td>164.0</td>\n",
       "      <td>5757</td>\n",
       "    </tr>\n",
       "  </tbody>\n",
       "</table>\n",
       "</div>"
      ],
      "text/plain": [
       "   workLat  workLong  workTweets  homeLat  homeLong  homeTweets  userID\n",
       "0    47.59      8.02         3.0    47.38      8.54        51.0    1497\n",
       "1    47.59      8.21         2.0    46.24      6.09         2.0    2397\n",
       "2    47.76      8.84         2.0    47.63      7.68         9.0    2623\n",
       "3    47.46      8.59         5.0    46.20      6.14        12.0    5267\n",
       "4    47.67      9.41        75.0    47.73      9.40       164.0    5757"
      ]
     },
     "execution_count": 16,
     "metadata": {},
     "output_type": "execute_result"
    }
   ],
   "source": [
    "users['userID'] = users.index.values\n",
    "users = users.reset_index(drop=True)\n",
    "users.head()"
   ]
  },
  {
   "cell_type": "markdown",
   "metadata": {},
   "source": [
    "We now remove users that did not validate conditions on work/home tweet frequence threshold before."
   ]
  },
  {
   "cell_type": "code",
   "execution_count": 17,
   "metadata": {
    "collapsed": false
   },
   "outputs": [
    {
     "name": "stdout",
     "output_type": "stream",
     "text": [
      "18425\n",
      "5270\n"
     ]
    }
   ],
   "source": [
    "to_remove = home_to_remove + work_to_remove\n",
    "print(len(users))\n",
    "users = users[~users.userID.isin(to_remove)]\n",
    "print(len(users))"
   ]
  },
  {
   "cell_type": "markdown",
   "metadata": {},
   "source": [
    "### 3 - <a id='route'> Route Computing </a>\n",
    "\n",
    "We want to compute the canton and country of the home and work locations that we detected. Then we want to compute the distance from the work place to the home place while finally computing the time it takes by car ride.\n",
    "\n",
    "### Administrative location computation\n",
    "\n",
    "Location query and storing."
   ]
  },
  {
   "cell_type": "code",
   "execution_count": 18,
   "metadata": {
    "collapsed": true
   },
   "outputs": [],
   "source": [
    "geolocator = Nominatim()\n",
    "countries = []\n",
    "cache = {}\n",
    "for i, row in users.iterrows():\n",
    "    w = 0\n",
    "    h = 0\n",
    "    if cache.get((row.homeLat, row.homeLong)):\n",
    "        home = cache[(row.homeLat, row.homeLong)]\n",
    "        h = home.address.split(', ')[-1]\n",
    "    else:\n",
    "        home = geolocator.reverse(str(row.homeLat)+\", \"+str(row.homeLong))#.address.split(', ')[-1]\n",
    "        cache[(row.homeLat, row.homeLong)] = home\n",
    "        h = home.address.split(', ')[-1]\n",
    "        time.sleep(0.5)\n",
    "    if cache.get((row.workLat, row.workLong)):\n",
    "        work = cache[(row.workLat, row.workLong)]\n",
    "        w = work.address.split(', ')[-1]\n",
    "    else:\n",
    "        work = geolocator.reverse(str(row.workLat)+\", \"+str(row.workLong))#.address.split(', ')[-1]\n",
    "        cache[(row.workLat, row.workLong)] = work\n",
    "        w = work.address.split(', ')[-1]\n",
    "        time.sleep(0.5)\n",
    "    if w == \"Svizra\":\n",
    "        w = \"Suisse\"\n",
    "    if h == \"Svizra\":\n",
    "        h = \"Suisse\"\n",
    "    countries.append((h,w))"
   ]
  },
  {
   "cell_type": "markdown",
   "metadata": {},
   "source": [
    "Countries: We add countries to users."
   ]
  },
  {
   "cell_type": "code",
   "execution_count": 19,
   "metadata": {
    "collapsed": false
   },
   "outputs": [
    {
     "data": {
      "text/plain": [
       "[('Deutschland', 'Deutschland'),\n",
       " ('Suisse', 'Suisse'),\n",
       " ('Suisse', 'Suisse'),\n",
       " ('Italia', 'Italia'),\n",
       " ('Suisse', 'Suisse'),\n",
       " ('Suisse', 'Suisse'),\n",
       " ('Italia', 'Italia'),\n",
       " ('Suisse', 'Suisse'),\n",
       " ('Suisse', 'Suisse'),\n",
       " ('Suisse', 'Suisse')]"
      ]
     },
     "execution_count": 19,
     "metadata": {},
     "output_type": "execute_result"
    }
   ],
   "source": [
    "countries[:10]"
   ]
  },
  {
   "cell_type": "code",
   "execution_count": 20,
   "metadata": {
    "collapsed": false
   },
   "outputs": [
    {
     "data": {
      "text/html": [
       "<div>\n",
       "<table border=\"1\" class=\"dataframe\">\n",
       "  <thead>\n",
       "    <tr style=\"text-align: right;\">\n",
       "      <th></th>\n",
       "      <th>workLat</th>\n",
       "      <th>workLong</th>\n",
       "      <th>workTweets</th>\n",
       "      <th>homeLat</th>\n",
       "      <th>homeLong</th>\n",
       "      <th>homeTweets</th>\n",
       "      <th>userID</th>\n",
       "      <th>homeCountry</th>\n",
       "      <th>workCountry</th>\n",
       "    </tr>\n",
       "  </thead>\n",
       "  <tbody>\n",
       "    <tr>\n",
       "      <th>0</th>\n",
       "      <td>NaN</td>\n",
       "      <td>NaN</td>\n",
       "      <td>NaN</td>\n",
       "      <td>NaN</td>\n",
       "      <td>NaN</td>\n",
       "      <td>NaN</td>\n",
       "      <td>NaN</td>\n",
       "      <td>Deutschland</td>\n",
       "      <td>Deutschland</td>\n",
       "    </tr>\n",
       "    <tr>\n",
       "      <th>1</th>\n",
       "      <td>NaN</td>\n",
       "      <td>NaN</td>\n",
       "      <td>NaN</td>\n",
       "      <td>NaN</td>\n",
       "      <td>NaN</td>\n",
       "      <td>NaN</td>\n",
       "      <td>NaN</td>\n",
       "      <td>Suisse</td>\n",
       "      <td>Suisse</td>\n",
       "    </tr>\n",
       "    <tr>\n",
       "      <th>2</th>\n",
       "      <td>NaN</td>\n",
       "      <td>NaN</td>\n",
       "      <td>NaN</td>\n",
       "      <td>NaN</td>\n",
       "      <td>NaN</td>\n",
       "      <td>NaN</td>\n",
       "      <td>NaN</td>\n",
       "      <td>Suisse</td>\n",
       "      <td>Suisse</td>\n",
       "    </tr>\n",
       "    <tr>\n",
       "      <th>3</th>\n",
       "      <td>NaN</td>\n",
       "      <td>NaN</td>\n",
       "      <td>NaN</td>\n",
       "      <td>NaN</td>\n",
       "      <td>NaN</td>\n",
       "      <td>NaN</td>\n",
       "      <td>NaN</td>\n",
       "      <td>Italia</td>\n",
       "      <td>Italia</td>\n",
       "    </tr>\n",
       "    <tr>\n",
       "      <th>4</th>\n",
       "      <td>47.67</td>\n",
       "      <td>9.41</td>\n",
       "      <td>75.0</td>\n",
       "      <td>47.73</td>\n",
       "      <td>9.4</td>\n",
       "      <td>164.0</td>\n",
       "      <td>5757.0</td>\n",
       "      <td>Suisse</td>\n",
       "      <td>Suisse</td>\n",
       "    </tr>\n",
       "  </tbody>\n",
       "</table>\n",
       "</div>"
      ],
      "text/plain": [
       "   workLat  workLong  workTweets  homeLat  homeLong  homeTweets  userID  \\\n",
       "0      NaN       NaN         NaN      NaN       NaN         NaN     NaN   \n",
       "1      NaN       NaN         NaN      NaN       NaN         NaN     NaN   \n",
       "2      NaN       NaN         NaN      NaN       NaN         NaN     NaN   \n",
       "3      NaN       NaN         NaN      NaN       NaN         NaN     NaN   \n",
       "4    47.67      9.41        75.0    47.73       9.4       164.0  5757.0   \n",
       "\n",
       "   homeCountry  workCountry  \n",
       "0  Deutschland  Deutschland  \n",
       "1       Suisse       Suisse  \n",
       "2       Suisse       Suisse  \n",
       "3       Italia       Italia  \n",
       "4       Suisse       Suisse  "
      ]
     },
     "execution_count": 20,
     "metadata": {},
     "output_type": "execute_result"
    }
   ],
   "source": [
    "c = pd.DataFrame(countries, columns=['homeCountry', 'workCountry'])\n",
    "users = pd.concat([users, c], axis=1)\n",
    "users.head()"
   ]
  },
  {
   "cell_type": "markdown",
   "metadata": {},
   "source": [
    "Cantons: we add the cantons to users"
   ]
  },
  {
   "cell_type": "code",
   "execution_count": 22,
   "metadata": {
    "collapsed": false
   },
   "outputs": [
    {
     "data": {
      "text/html": [
       "<div>\n",
       "<table border=\"1\" class=\"dataframe\">\n",
       "  <thead>\n",
       "    <tr style=\"text-align: right;\">\n",
       "      <th></th>\n",
       "      <th>workLat</th>\n",
       "      <th>workLong</th>\n",
       "      <th>workTweets</th>\n",
       "      <th>homeLat</th>\n",
       "      <th>homeLong</th>\n",
       "      <th>homeTweets</th>\n",
       "      <th>userID</th>\n",
       "      <th>homeCountry</th>\n",
       "      <th>workCountry</th>\n",
       "    </tr>\n",
       "  </thead>\n",
       "  <tbody>\n",
       "    <tr>\n",
       "      <th>0</th>\n",
       "      <td>NaN</td>\n",
       "      <td>NaN</td>\n",
       "      <td>NaN</td>\n",
       "      <td>NaN</td>\n",
       "      <td>NaN</td>\n",
       "      <td>NaN</td>\n",
       "      <td>NaN</td>\n",
       "      <td>Deutschland</td>\n",
       "      <td>Deutschland</td>\n",
       "    </tr>\n",
       "    <tr>\n",
       "      <th>1</th>\n",
       "      <td>NaN</td>\n",
       "      <td>NaN</td>\n",
       "      <td>NaN</td>\n",
       "      <td>NaN</td>\n",
       "      <td>NaN</td>\n",
       "      <td>NaN</td>\n",
       "      <td>NaN</td>\n",
       "      <td>Suisse</td>\n",
       "      <td>Suisse</td>\n",
       "    </tr>\n",
       "    <tr>\n",
       "      <th>2</th>\n",
       "      <td>NaN</td>\n",
       "      <td>NaN</td>\n",
       "      <td>NaN</td>\n",
       "      <td>NaN</td>\n",
       "      <td>NaN</td>\n",
       "      <td>NaN</td>\n",
       "      <td>NaN</td>\n",
       "      <td>Suisse</td>\n",
       "      <td>Suisse</td>\n",
       "    </tr>\n",
       "    <tr>\n",
       "      <th>3</th>\n",
       "      <td>NaN</td>\n",
       "      <td>NaN</td>\n",
       "      <td>NaN</td>\n",
       "      <td>NaN</td>\n",
       "      <td>NaN</td>\n",
       "      <td>NaN</td>\n",
       "      <td>NaN</td>\n",
       "      <td>Italia</td>\n",
       "      <td>Italia</td>\n",
       "    </tr>\n",
       "    <tr>\n",
       "      <th>4</th>\n",
       "      <td>47.67</td>\n",
       "      <td>9.41</td>\n",
       "      <td>75.0</td>\n",
       "      <td>47.73</td>\n",
       "      <td>9.4</td>\n",
       "      <td>164.0</td>\n",
       "      <td>5757.0</td>\n",
       "      <td>Suisse</td>\n",
       "      <td>Suisse</td>\n",
       "    </tr>\n",
       "  </tbody>\n",
       "</table>\n",
       "</div>"
      ],
      "text/plain": [
       "   workLat  workLong  workTweets  homeLat  homeLong  homeTweets  userID  \\\n",
       "0      NaN       NaN         NaN      NaN       NaN         NaN     NaN   \n",
       "1      NaN       NaN         NaN      NaN       NaN         NaN     NaN   \n",
       "2      NaN       NaN         NaN      NaN       NaN         NaN     NaN   \n",
       "3      NaN       NaN         NaN      NaN       NaN         NaN     NaN   \n",
       "4    47.67      9.41        75.0    47.73       9.4       164.0  5757.0   \n",
       "\n",
       "   homeCountry  workCountry  \n",
       "0  Deutschland  Deutschland  \n",
       "1       Suisse       Suisse  \n",
       "2       Suisse       Suisse  \n",
       "3       Italia       Italia  \n",
       "4       Suisse       Suisse  "
      ]
     },
     "execution_count": 22,
     "metadata": {},
     "output_type": "execute_result"
    }
   ],
   "source": [
    "users.head()"
   ]
  },
  {
   "cell_type": "code",
   "execution_count": 21,
   "metadata": {
    "collapsed": false
   },
   "outputs": [
    {
     "ename": "KeyError",
     "evalue": "((nan, nan), 'occurred at index 1')",
     "output_type": "error",
     "traceback": [
      "\u001b[0;31m---------------------------------------------------------------------------\u001b[0m",
      "\u001b[0;31mKeyError\u001b[0m                                  Traceback (most recent call last)",
      "\u001b[0;32m<ipython-input-21-bebfd0f77025>\u001b[0m in \u001b[0;36m<module>\u001b[0;34m()\u001b[0m\n\u001b[1;32m     11\u001b[0m     \u001b[1;32mreturn\u001b[0m \u001b[1;33m(\u001b[0m\u001b[0mhomecant\u001b[0m\u001b[1;33m,\u001b[0m \u001b[0mworkcant\u001b[0m\u001b[1;33m)\u001b[0m\u001b[1;33m\u001b[0m\u001b[0m\n\u001b[1;32m     12\u001b[0m \u001b[1;33m\u001b[0m\u001b[0m\n\u001b[0;32m---> 13\u001b[0;31m \u001b[0mcantons\u001b[0m \u001b[1;33m=\u001b[0m \u001b[0mlist\u001b[0m\u001b[1;33m(\u001b[0m\u001b[0musers\u001b[0m\u001b[1;33m.\u001b[0m\u001b[0mapply\u001b[0m\u001b[1;33m(\u001b[0m\u001b[0mget_cantons\u001b[0m\u001b[1;33m,\u001b[0m \u001b[0maxis\u001b[0m\u001b[1;33m=\u001b[0m\u001b[1;36m1\u001b[0m\u001b[1;33m)\u001b[0m\u001b[1;33m)\u001b[0m\u001b[1;33m\u001b[0m\u001b[0m\n\u001b[0m\u001b[1;32m     14\u001b[0m \u001b[0mcantons\u001b[0m \u001b[1;33m=\u001b[0m \u001b[0mpd\u001b[0m\u001b[1;33m.\u001b[0m\u001b[0mDataFrame\u001b[0m\u001b[1;33m(\u001b[0m\u001b[0mcantons\u001b[0m\u001b[1;33m,\u001b[0m \u001b[0mcolumns\u001b[0m\u001b[1;33m=\u001b[0m\u001b[1;33m[\u001b[0m\u001b[1;34m'homeCanton'\u001b[0m\u001b[1;33m,\u001b[0m \u001b[1;34m'workCanton'\u001b[0m\u001b[1;33m]\u001b[0m\u001b[1;33m)\u001b[0m\u001b[1;33m\u001b[0m\u001b[0m\n\u001b[1;32m     15\u001b[0m \u001b[0musers\u001b[0m \u001b[1;33m=\u001b[0m \u001b[0mpd\u001b[0m\u001b[1;33m.\u001b[0m\u001b[0mconcat\u001b[0m\u001b[1;33m(\u001b[0m\u001b[1;33m[\u001b[0m\u001b[0musers\u001b[0m\u001b[1;33m,\u001b[0m \u001b[0mcantons\u001b[0m\u001b[1;33m]\u001b[0m\u001b[1;33m,\u001b[0m \u001b[0maxis\u001b[0m\u001b[1;33m=\u001b[0m\u001b[1;36m1\u001b[0m\u001b[1;33m)\u001b[0m\u001b[1;33m\u001b[0m\u001b[0m\n",
      "\u001b[0;32mC:\\Users\\Alain\\Anaconda3\\lib\\site-packages\\pandas\\core\\frame.py\u001b[0m in \u001b[0;36mapply\u001b[0;34m(self, func, axis, broadcast, raw, reduce, args, **kwds)\u001b[0m\n\u001b[1;32m   4059\u001b[0m                     \u001b[1;32mif\u001b[0m \u001b[0mreduce\u001b[0m \u001b[1;32mis\u001b[0m \u001b[1;32mNone\u001b[0m\u001b[1;33m:\u001b[0m\u001b[1;33m\u001b[0m\u001b[0m\n\u001b[1;32m   4060\u001b[0m                         \u001b[0mreduce\u001b[0m \u001b[1;33m=\u001b[0m \u001b[1;32mTrue\u001b[0m\u001b[1;33m\u001b[0m\u001b[0m\n\u001b[0;32m-> 4061\u001b[0;31m                     \u001b[1;32mreturn\u001b[0m \u001b[0mself\u001b[0m\u001b[1;33m.\u001b[0m\u001b[0m_apply_standard\u001b[0m\u001b[1;33m(\u001b[0m\u001b[0mf\u001b[0m\u001b[1;33m,\u001b[0m \u001b[0maxis\u001b[0m\u001b[1;33m,\u001b[0m \u001b[0mreduce\u001b[0m\u001b[1;33m=\u001b[0m\u001b[0mreduce\u001b[0m\u001b[1;33m)\u001b[0m\u001b[1;33m\u001b[0m\u001b[0m\n\u001b[0m\u001b[1;32m   4062\u001b[0m             \u001b[1;32melse\u001b[0m\u001b[1;33m:\u001b[0m\u001b[1;33m\u001b[0m\u001b[0m\n\u001b[1;32m   4063\u001b[0m                 \u001b[1;32mreturn\u001b[0m \u001b[0mself\u001b[0m\u001b[1;33m.\u001b[0m\u001b[0m_apply_broadcast\u001b[0m\u001b[1;33m(\u001b[0m\u001b[0mf\u001b[0m\u001b[1;33m,\u001b[0m \u001b[0maxis\u001b[0m\u001b[1;33m)\u001b[0m\u001b[1;33m\u001b[0m\u001b[0m\n",
      "\u001b[0;32mC:\\Users\\Alain\\Anaconda3\\lib\\site-packages\\pandas\\core\\frame.py\u001b[0m in \u001b[0;36m_apply_standard\u001b[0;34m(self, func, axis, ignore_failures, reduce)\u001b[0m\n\u001b[1;32m   4155\u001b[0m             \u001b[1;32mtry\u001b[0m\u001b[1;33m:\u001b[0m\u001b[1;33m\u001b[0m\u001b[0m\n\u001b[1;32m   4156\u001b[0m                 \u001b[1;32mfor\u001b[0m \u001b[0mi\u001b[0m\u001b[1;33m,\u001b[0m \u001b[0mv\u001b[0m \u001b[1;32min\u001b[0m \u001b[0menumerate\u001b[0m\u001b[1;33m(\u001b[0m\u001b[0mseries_gen\u001b[0m\u001b[1;33m)\u001b[0m\u001b[1;33m:\u001b[0m\u001b[1;33m\u001b[0m\u001b[0m\n\u001b[0;32m-> 4157\u001b[0;31m                     \u001b[0mresults\u001b[0m\u001b[1;33m[\u001b[0m\u001b[0mi\u001b[0m\u001b[1;33m]\u001b[0m \u001b[1;33m=\u001b[0m \u001b[0mfunc\u001b[0m\u001b[1;33m(\u001b[0m\u001b[0mv\u001b[0m\u001b[1;33m)\u001b[0m\u001b[1;33m\u001b[0m\u001b[0m\n\u001b[0m\u001b[1;32m   4158\u001b[0m                     \u001b[0mkeys\u001b[0m\u001b[1;33m.\u001b[0m\u001b[0mappend\u001b[0m\u001b[1;33m(\u001b[0m\u001b[0mv\u001b[0m\u001b[1;33m.\u001b[0m\u001b[0mname\u001b[0m\u001b[1;33m)\u001b[0m\u001b[1;33m\u001b[0m\u001b[0m\n\u001b[1;32m   4159\u001b[0m             \u001b[1;32mexcept\u001b[0m \u001b[0mException\u001b[0m \u001b[1;32mas\u001b[0m \u001b[0me\u001b[0m\u001b[1;33m:\u001b[0m\u001b[1;33m\u001b[0m\u001b[0m\n",
      "\u001b[0;32m<ipython-input-21-bebfd0f77025>\u001b[0m in \u001b[0;36mget_cantons\u001b[0;34m(row)\u001b[0m\n\u001b[1;32m      2\u001b[0m \u001b[1;32mdef\u001b[0m \u001b[0mget_cantons\u001b[0m\u001b[1;33m(\u001b[0m\u001b[0mrow\u001b[0m\u001b[1;33m)\u001b[0m\u001b[1;33m:\u001b[0m\u001b[1;33m\u001b[0m\u001b[0m\n\u001b[1;32m      3\u001b[0m     \u001b[1;32mif\u001b[0m \u001b[0mrow\u001b[0m\u001b[1;33m.\u001b[0m\u001b[0mhomeCountry\u001b[0m \u001b[1;33m==\u001b[0m \u001b[1;34m\"Suisse\"\u001b[0m\u001b[1;33m:\u001b[0m\u001b[1;33m\u001b[0m\u001b[0m\n\u001b[0;32m----> 4\u001b[0;31m         \u001b[0mhomecant\u001b[0m \u001b[1;33m=\u001b[0m \u001b[0mcache\u001b[0m\u001b[1;33m[\u001b[0m\u001b[1;33m(\u001b[0m\u001b[0mrow\u001b[0m\u001b[1;33m.\u001b[0m\u001b[0mhomeLat\u001b[0m\u001b[1;33m,\u001b[0m \u001b[0mrow\u001b[0m\u001b[1;33m.\u001b[0m\u001b[0mhomeLong\u001b[0m\u001b[1;33m)\u001b[0m\u001b[1;33m]\u001b[0m\u001b[1;33m.\u001b[0m\u001b[0maddress\u001b[0m\u001b[1;33m.\u001b[0m\u001b[0msplit\u001b[0m\u001b[1;33m(\u001b[0m\u001b[1;34m', '\u001b[0m\u001b[1;33m)\u001b[0m\u001b[1;33m[\u001b[0m\u001b[1;33m-\u001b[0m\u001b[1;36m6\u001b[0m\u001b[1;33m]\u001b[0m\u001b[1;33m\u001b[0m\u001b[0m\n\u001b[0m\u001b[1;32m      5\u001b[0m     \u001b[1;32melse\u001b[0m\u001b[1;33m:\u001b[0m\u001b[1;33m\u001b[0m\u001b[0m\n\u001b[1;32m      6\u001b[0m         \u001b[0mhomecant\u001b[0m \u001b[1;33m=\u001b[0m \u001b[1;34m\"-\"\u001b[0m\u001b[1;33m\u001b[0m\u001b[0m\n",
      "\u001b[0;31mKeyError\u001b[0m: ((nan, nan), 'occurred at index 1')"
     ]
    }
   ],
   "source": [
    "#detect Cantons\n",
    "def get_cantons(row):\n",
    "    if row.homeCountry == \"Suisse\":\n",
    "        homecant = cache[(row.homeLat, row.homeLong)].address.split(', ')[-6]\n",
    "    else:\n",
    "        homecant = \"-\"\n",
    "    if row.workCountry == \"Suisse\":\n",
    "        workcant = cache[(row.workLat, row.workLong)].address.split(', ')[-6]\n",
    "    else:\n",
    "        workcant = \"-\"\n",
    "    return (homecant, workcant)\n",
    "\n",
    "cantons = list(users.apply(get_cantons, axis=1))\n",
    "cantons = pd.DataFrame(cantons, columns=['homeCanton', 'workCanton'])\n",
    "users = pd.concat([users, cantons], axis=1)"
   ]
  },
  {
   "cell_type": "markdown",
   "metadata": {},
   "source": [
    "### Distance Home-Work computing\n",
    "\n",
    "We start by defining functions helping us computing distance from coordinate parameters."
   ]
  },
  {
   "cell_type": "code",
   "execution_count": null,
   "metadata": {
    "collapsed": true
   },
   "outputs": [],
   "source": [
    "from math import radians, cos, sin, asin, sqrt\n",
    "def haversine(lon1, lat1, lon2, lat2):\n",
    "    \"\"\"\n",
    "    Calculate the great circle distance between two points \n",
    "    on the earth (specified in decimal degrees)\n",
    "    \"\"\"\n",
    "    # convert decimal degrees to radians \n",
    "    lon1, lat1, lon2, lat2 = map(radians, [lon1, lat1, lon2, lat2])\n",
    "    # haversine formula \n",
    "    dlon = lon2 - lon1 \n",
    "    dlat = lat2 - lat1 \n",
    "    a = sin(dlat/2)**2 + cos(lat1) * cos(lat2) * sin(dlon/2)**2\n",
    "    c = 2 * asin(sqrt(a)) \n",
    "    km = 6367 * c\n",
    "    return km\n",
    "\n",
    "def dist(row):\n",
    "    if (row.workLat == row.homeLat) and (row.workLong == row.homeLong):\n",
    "        return 0\n",
    "    else:\n",
    "        return haversine(row.workLong, row.workLat, row.homeLong, row.homeLat)"
   ]
  },
  {
   "cell_type": "markdown",
   "metadata": {},
   "source": [
    "We now defined a new column giving the home-work distance of each users."
   ]
  },
  {
   "cell_type": "code",
   "execution_count": null,
   "metadata": {
    "collapsed": true
   },
   "outputs": [],
   "source": [
    "users['distance'] = users.apply(dist, axis=1)"
   ]
  },
  {
   "cell_type": "markdown",
   "metadata": {},
   "source": [
    "### Detection of closer main cities (work/home)\n",
    "\n",
    "Definition of main cities and definition of new columns."
   ]
  },
  {
   "cell_type": "code",
   "execution_count": null,
   "metadata": {
    "collapsed": true
   },
   "outputs": [],
   "source": [
    "main_cities = {\n",
    "    'Zurich': [47.36667, 8.55000],\n",
    "    'Geneva':[46.2,6.1667],\n",
    "    'Basel': [47.5667,7.6],\n",
    "    'Bern' : [46.9167,7.4667],\n",
    "    'Lausanne': [46.5333,6.6667],\n",
    "    'Luzern': [47.0833,8.2667],\n",
    "    'Sion': [46.2333,7.35],\n",
    "    'Varese': [45.8176,8.8264],\n",
    "    'Mulhouse': [47.75, 7.3333],\n",
    "    'Annecy': [45.9,6.1167],\n",
    "    'Annemasse': [46.1944, 6.2377],\n",
    "    'Pontarlier': [46.9035,6.3554],\n",
    "    'Aoste': [45.5833, 5.6]\n",
    "}"
   ]
  },
  {
   "cell_type": "code",
   "execution_count": null,
   "metadata": {
    "collapsed": true
   },
   "outputs": [],
   "source": [
    "def get_closer(row, where):\n",
    "    if where == 'work':\n",
    "        lat = row.workLat\n",
    "        long = row.workLong\n",
    "    else:\n",
    "        lat = row.homeLat\n",
    "        long = row.homeLong\n",
    "    d = 10000\n",
    "    closer = \"\"\n",
    "    for city, coord in main_cities.items():\n",
    "        new = haversine(long, lat, coord[1], coord[0])\n",
    "        if new < d:\n",
    "            d = new\n",
    "            closer = city\n",
    "    return (closer, d)\n",
    "\n",
    "\n",
    "users['closer to home'] = users.apply(lambda r: get_closer(r, \"home\"), axis=1)\n",
    "users['closer to work'] = users.apply(lambda r: get_closer(r, \"work\"), axis=1)"
   ]
  },
  {
   "cell_type": "markdown",
   "metadata": {},
   "source": [
    "### Route time computing"
   ]
  },
  {
   "cell_type": "code",
   "execution_count": null,
   "metadata": {
    "collapsed": true
   },
   "outputs": [],
   "source": [
    "import requests\n",
    "import json\n",
    "import codecs\n",
    "import sys\n",
    "sys.path.append('/home/hparmantier/Applied Data Analysis/SwissGeoTweet/')\n",
    "from key import *\n",
    "#API_KEY imported from file\n",
    "\n",
    "def get_time(row):\n",
    "    if (row.homeLat == row.workLat) and (row.homeLong == row.workLong):\n",
    "        return 0\n",
    "    else:\n",
    "        src = {'lat':row.homeLat, 'long':row.homeLong}\n",
    "        dest = {'lat': row.workLat, 'long': row.workLong}\n",
    "        params = {\n",
    "            'key': API_KEY,\n",
    "            'outFormat': \"json\",\n",
    "            'inFormat': \"json\"\n",
    "        }\n",
    "        request_body = {\n",
    "            'locations': [\n",
    "                {'latLng': {'lat': src['lat'], 'lng': src['long']}},\n",
    "                {'latLng': {'lat': dest['lat'], 'lng': dest['long']}}\n",
    "                ]\n",
    "            }\n",
    "        r=requests.post('https://www.mapquestapi.com/directions/v2/route',\n",
    "                        params=params, \n",
    "                        data=json.dumps(request_body)\n",
    "                       )\n",
    "        if r.status_code != 200:\n",
    "            # We didn't get a response from Mapquest\n",
    "            return -1\n",
    "        return r.json()['route']['time']/60\n",
    "\n",
    "users['routeTime'] = users.apply(get_time, axis=1)"
   ]
  },
  {
   "cell_type": "code",
   "execution_count": null,
   "metadata": {
    "collapsed": true
   },
   "outputs": [],
   "source": [
    "test = users[users.routeTime != 0]\n",
    "print(len(test))\n",
    "test.head()"
   ]
  },
  {
   "cell_type": "markdown",
   "metadata": {},
   "source": [
    "We now save the dataframe that we created. It will be further used to extract some statistics."
   ]
  },
  {
   "cell_type": "code",
   "execution_count": null,
   "metadata": {
    "collapsed": true
   },
   "outputs": [],
   "source": [
    "users.to_csv('./data/users_final.csv', encoding='utf-8', index=False)"
   ]
  }
 ],
 "metadata": {
  "anaconda-cloud": {},
  "kernelspec": {
   "display_name": "Python [conda root]",
   "language": "python",
   "name": "conda-root-py"
  },
  "language_info": {
   "codemirror_mode": {
    "name": "ipython",
    "version": 3
   },
   "file_extension": ".py",
   "mimetype": "text/x-python",
   "name": "python",
   "nbconvert_exporter": "python",
   "pygments_lexer": "ipython3",
   "version": "3.5.2"
  }
 },
 "nbformat": 4,
 "nbformat_minor": 1
}
