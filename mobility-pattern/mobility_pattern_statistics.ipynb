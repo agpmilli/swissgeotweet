{
 "cells": [
  {
   "cell_type": "markdown",
   "metadata": {},
   "source": [
    "# Applied Data Analysis - Fall 2016\n",
    "## Twitter-Swisscom Project\n",
    "\n",
    "### Mobility pattern: Statistics\n",
    "\n",
    "\n",
    "1 - [Population locations](#locations)\n",
    "\n",
    "2 - [Population routing](#routing)\n",
    "\n",
    "3 - [Exploration of cities home/work locations](#exploration)"
   ]
  },
  {
   "cell_type": "code",
   "execution_count": null,
   "metadata": {
    "collapsed": true
   },
   "outputs": [],
   "source": [
    "import pandas as pd\n",
    "import math\n",
    "import numpy as np\n",
    "from mobility_helper import *\n",
    "from collections import Counter\n",
    "import seaborn as sns\n",
    "import matplotlib.pyplot as plt\n",
    "import time\n",
    "from geopy.geocoders import Nominatim,Bing\n",
    "import datetime as dt\n",
    "import folium"
   ]
  },
  {
   "cell_type": "code",
   "execution_count": null,
   "metadata": {
    "collapsed": true
   },
   "outputs": [],
   "source": [
    "users = pd.read_csv('./data/users_final.csv', encoding = \"ISO-8859-1\")\n",
    "print('Our final dataset contains '+str(len(users))+' users.')"
   ]
  },
  {
   "cell_type": "markdown",
   "metadata": {},
   "source": [
    "### 1 - <a id='locations'> Population locations </a>\n",
    "\n",
    "\n",
    "### Movements between countries\n",
    "\n",
    "We plot the nationality distribution of our users:"
   ]
  },
  {
   "cell_type": "code",
   "execution_count": null,
   "metadata": {
    "collapsed": true
   },
   "outputs": [],
   "source": [
    "plt.style.use('ggplot')\n",
    "per_countries = users[users.homeCountry == users.workCountry].groupby('homeCountry').size()\n",
    "per_countries.columns = ['Number of users']\n",
    "per_countries.plot.pie(figsize=(6,6), title=\"Twitter users distribution per Country\")\n",
    "plt.savefig('./figs/tweetpercountry.png')\n",
    "plt.show()"
   ]
  },
  {
   "cell_type": "markdown",
   "metadata": {},
   "source": [
    "From the home countries and work countries we extracted, we can now detect the borderers among our users."
   ]
  },
  {
   "cell_type": "code",
   "execution_count": null,
   "metadata": {
    "collapsed": true
   },
   "outputs": [],
   "source": [
    "#globally\n",
    "borderers = users[users.homeCountry != users.workCountry]\n",
    "print(\"Number of detected borderers: \", len(borderers))\n",
    "print(\"Percentage of detected borderers: \", 100*(len(borderers)/len(users)))"
   ]
  },
  {
   "cell_type": "markdown",
   "metadata": {},
   "source": [
    "We now check the different movements in between countries."
   ]
  },
  {
   "cell_type": "code",
   "execution_count": null,
   "metadata": {
    "collapsed": true
   },
   "outputs": [],
   "source": [
    "print(\"Different detected movements: \")\n",
    "flows = pd.DataFrame(borderers.groupby(['homeCountry', 'workCountry']).size())\n",
    "flows"
   ]
  },
  {
   "cell_type": "markdown",
   "metadata": {},
   "source": [
    "We first check the distributions of our borderers' nationalities."
   ]
  },
  {
   "cell_type": "code",
   "execution_count": null,
   "metadata": {
    "collapsed": true
   },
   "outputs": [],
   "source": [
    "grouped = borderers.groupby('homeCountry').size()\n",
    "\n",
    "plt.style.use('ggplot')\n",
    "grouped.plot.pie(figsize=(6,6), title=\"Distribution of Borderers' home countries\")\n",
    "plt.savefig('./figs/borderersfromcountry.png')\n",
    "plt.show()"
   ]
  },
  {
   "cell_type": "markdown",
   "metadata": {},
   "source": [
    "We now check the countries where borderers FROM Switzerland go to."
   ]
  },
  {
   "cell_type": "code",
   "execution_count": null,
   "metadata": {
    "collapsed": true
   },
   "outputs": [],
   "source": [
    "swiss = borderers[(borderers.homeCountry == \"Suisse\") & (borderers.workCountry != \"Suisse\")]\n",
    "ch = swiss.groupby('workCountry').size()\n",
    "plt.style.use('ggplot')\n",
    "ch.plot.pie(figsize=(6,6), title=\"Distribution of Swiss Borderers destinations\")\n",
    "plt.savefig('./figs/swissborderers.png')\n",
    "plt.show()"
   ]
  },
  {
   "cell_type": "markdown",
   "metadata": {},
   "source": [
    "We check the nationalities of borderers going TO Switzerland."
   ]
  },
  {
   "cell_type": "code",
   "execution_count": null,
   "metadata": {
    "collapsed": true
   },
   "outputs": [],
   "source": [
    "swiss = borderers[(borderers.homeCountry != \"Suisse\") & (borderers.workCountry == \"Suisse\")]\n",
    "ch = swiss.groupby('workCountry').size()\n",
    "plt.style.use('ggplot')\n",
    "ch.plot.pie(figsize=(6,6), title=\"Distribution of Swiss Borderers destinations\")\n",
    "plt.savefig('./figs/otherborderers.png')\n",
    "plt.show()"
   ]
  },
  {
   "cell_type": "markdown",
   "metadata": {},
   "source": [
    "### Movements between Cantons\n",
    "\n",
    "Distribution of users among cantons."
   ]
  },
  {
   "cell_type": "code",
   "execution_count": null,
   "metadata": {
    "collapsed": true
   },
   "outputs": [],
   "source": [
    "swiss = users[(users.homeCountry == users.workCountry) & (users.homeCountry == \"Suisse\")]\n",
    "\n",
    "swiss_equals = swiss[swiss.homeCanton == swiss.workCanton]\n",
    "g1 = pd.DataFrame(swiss_equals.groupby('homeCanton').size())\n",
    "g1.columns = ['c1']\n",
    "\n",
    "swiss_differs = swiss[swiss.homeCanton != swiss.workCanton]\n",
    "g2 = pd.DataFrame(swiss_differs.groupby('homeCanton').size())\n",
    "g2.columns = ['c2']\n",
    "\n",
    "g3 = pd.DataFrame(swiss_differs.groupby('workCanton').size())\n",
    "g3.columns = ['c3']\n",
    "\n",
    "g = pd.concat([g1,g2,g3], axis=1)\n",
    "g = g.fillna(0)\n",
    "g['cantons'] = g.index.values\n",
    "g['count'] = g['c1']+g['c2']+g['c3']\n",
    "g = g.drop(['c1', 'c2', 'c3'], axis=1)\n",
    "g = g.sort_values(by=['count'], ascending=False)\n",
    "\n",
    "ax = sns.barplot(x=\"count\", y=\"cantons\", data=g,\n",
    "            label=\"Number of users\", palette=\"viridis\")\n",
    "ax.set(ylabel=\"Cantons\",xlabel=\"Number of users\")\n",
    "sns.plt.title(\"Twitter users distribution per Canton\")\n",
    "plt.rcParams['ytick.labelsize'] = 5\n",
    "plt.rcParams['xtick.labelsize'] = 10\n",
    "plt.savefig('./figs/tweetspercanton.png')\n",
    "plt.show()"
   ]
  },
  {
   "cell_type": "markdown",
   "metadata": {},
   "source": [
    "Distribution of Swiss working and living in different cantons."
   ]
  },
  {
   "cell_type": "code",
   "execution_count": null,
   "metadata": {
    "collapsed": false
   },
   "outputs": [],
   "source": [
    "#globally\n",
    "diffcant = users[(users.homeCountry == \"Suisse\") & (users.homeCanton != users.workCanton)]\n",
    "swiss = users[users.homeCountry == \"Suisse\"]\n",
    "print(\"Number of detected users in different canton: \", len(diffcant))\n",
    "print(\"Percentage of detected users among swiss: \", 100*(len(diffcant)/len(swiss)))"
   ]
  },
  {
   "cell_type": "code",
   "execution_count": null,
   "metadata": {
    "collapsed": true
   },
   "outputs": [],
   "source": [
    "print(\"Different detected movements: \")\n",
    "main_cantons = ['Zürich', \"Genève\", \"Vaud\", \"Bern - Berne\", \"Valais - Wallis\", \"Aargau\"]\n",
    "flows = pd.DataFrame(diffcant[diffcant.homeCanton.isin(main_cantons)].groupby(['homeCanton', 'workCanton']).size())\n",
    "\n",
    "flows"
   ]
  },
  {
   "cell_type": "markdown",
   "metadata": {},
   "source": [
    "### Home Location vs Work Location\n",
    "\n",
    "We are interested in people working and living at the same location."
   ]
  },
  {
   "cell_type": "code",
   "execution_count": null,
   "metadata": {
    "collapsed": true
   },
   "outputs": [],
   "source": [
    "#percentage working at home or not working\n",
    "working_home = users[(users.workLat == users.homeLat) & (users.workLong == users.homeLong)]"
   ]
  },
  {
   "cell_type": "code",
   "execution_count": null,
   "metadata": {
    "collapsed": true
   },
   "outputs": [],
   "source": [
    "n = len(working_home)\n",
    "perc = 100*(n/len(users))\n",
    "print(\"Number of users working at home or not working: \"+str(n))\n",
    "print(\"Percentage of people working at home: \"+str(int(perc))+\"%\")"
   ]
  },
  {
   "cell_type": "markdown",
   "metadata": {},
   "source": [
    "It is a high number. Given our assumptions it just means that tweets during the day and during the night were sent at the same place. \n",
    "\n",
    "Distribution of working@home per Canton. We discard people living and working in different canton."
   ]
  },
  {
   "cell_type": "code",
   "execution_count": null,
   "metadata": {
    "collapsed": true
   },
   "outputs": [],
   "source": [
    "def work_percentage(group):\n",
    "    n = len(group[group[\"working@home\"]])\n",
    "    N = len(group)\n",
    "    perc = 100*(n/N)\n",
    "    return pd.Series({'@home': perc, 'total': 100})\n",
    "\n",
    "\n",
    "per_cant = users[(users.homeCanton == users.workCanton)\\\n",
    "                 & (users.homeCountry == \"Suisse\") & (users.homeCanton.isin(main_cantons))]\\\n",
    ".groupby(['workCanton']).apply(work_percentage)\n",
    "\n",
    "per_cant['Canton'] = per_cant.index.values\n",
    "per_cant = per_cant.reset_index(drop=True)\n",
    "per_cant.head()"
   ]
  },
  {
   "cell_type": "markdown",
   "metadata": {},
   "source": [
    "We now plot the given ratios for the major cantons."
   ]
  },
  {
   "cell_type": "code",
   "execution_count": null,
   "metadata": {
    "collapsed": true
   },
   "outputs": [],
   "source": [
    "sns.set(style=\"whitegrid\")\n",
    "\n",
    "# Initialize the matplotlib figure\n",
    "f, ax = plt.subplots(figsize=(6, 6))\n",
    "\n",
    "# Plot the total crashes\n",
    "sns.set_color_codes(\"pastel\")\n",
    "sns.barplot(x=\"total\", y=\"Canton\", data=per_cant,\n",
    "            label=\"Total users\", color=\"b\")\n",
    "\n",
    "# Plot the crashes where alcohol was involved\n",
    "sns.set_color_codes(\"muted\")\n",
    "sns.barplot(x=\"@home\", y=\"Canton\", data=per_cant,\n",
    "            label=\"Working at home\", color=\"r\")\n",
    "\n",
    "# Add a legend and informative axis label\n",
    "ax.legend(ncol=2, loc=\"lower right\", frameon=True)\n",
    "ax.set(ylabel=\"Cantons\",xlabel=\"Percentages of users working at home\")\n",
    "sns.despine(left=True, bottom=True)\n",
    "\n",
    "plt.show()"
   ]
  },
  {
   "cell_type": "markdown",
   "metadata": {},
   "source": [
    "### Population routing: Home-Work\n",
    "\n",
    "### Average Swiss:\n",
    "- closeness to center of town\n",
    "- distance to work\n",
    "- time to go to work by car"
   ]
  },
  {
   "cell_type": "code",
   "execution_count": null,
   "metadata": {
    "collapsed": true
   },
   "outputs": [],
   "source": [
    "swiss = users[(users.homeCountry == \"Suisse\")]\n",
    "\n",
    "s= list(swiss['closer to home'])\n",
    "split = list(map(lambda x: float(x.split(', ')[1][:-1]), s))\n",
    "\n",
    "l = list(filter(lambda x: x < 20,map(float, split)))\n",
    "print(\"Distance home from center of town swiss:\")\n",
    "pd.DataFrame(l).describe()"
   ]
  },
  {
   "cell_type": "code",
   "execution_count": null,
   "metadata": {
    "collapsed": true
   },
   "outputs": [],
   "source": [
    "print(\"Distance from work swiss:\")\n",
    "pd.DataFrame(swiss['distance']).describe()"
   ]
  },
  {
   "cell_type": "code",
   "execution_count": null,
   "metadata": {
    "collapsed": true
   },
   "outputs": [],
   "source": [
    "print(\"Route Time Average Swiss:\")\n",
    "pd.DataFrame(swiss['routeTime']).describe()"
   ]
  },
  {
   "cell_type": "markdown",
   "metadata": {},
   "source": [
    "### Per canton"
   ]
  },
  {
   "cell_type": "code",
   "execution_count": null,
   "metadata": {
    "collapsed": false
   },
   "outputs": [],
   "source": [
    "def avg_dtime(group):\n",
    "    return pd.Series({\"avg distance\": group[\"distance\"].mean(), \"avg time\": group[\"routeTime\"].mean()})\n",
    "\n",
    "\n",
    "cant_dist_time = pd.DataFrame(swiss[swiss.homeCanton.isin(main_cantons)].groupby('homeCanton').apply(avg_dtime))\n",
    "print(\"Average distance from work and time travel to work per main Cantons:\")\n",
    "cant_dist_time"
   ]
  },
  {
   "cell_type": "markdown",
   "metadata": {},
   "source": [
    "### For Borderers"
   ]
  },
  {
   "cell_type": "code",
   "execution_count": null,
   "metadata": {
    "collapsed": true
   },
   "outputs": [],
   "source": [
    "print(\"Distance and time from home to work:\")\n",
    "borderers[[\"distance\", \"routeTime\"]].describe()"
   ]
  },
  {
   "cell_type": "markdown",
   "metadata": {},
   "source": [
    "## Exploration of cities home/work locations\n",
    "- Geneva\n",
    "- Zürich\n",
    "\n",
    "We generate a folium map of the latter to visualize potential work and residentials areas."
   ]
  },
  {
   "cell_type": "code",
   "execution_count": null,
   "metadata": {
    "collapsed": true
   },
   "outputs": [],
   "source": [
    "city = users[['workLat', 'workLong', 'closer to work', 'homeLat', 'homeLong', 'closer to home']]\n",
    "\n",
    "w = list(city['closer to work'])\n",
    "work = list(map(lambda x: float(x.split(', ')[1][:-1]), w))\n",
    "citywork = list(map(lambda x: x.split(', ')[0][2:-1], w))\n",
    "city['closer to work'] = pd.DataFrame(work)\n",
    "city['citywork'] = pd.DataFrame(citywork)\n",
    "\n",
    "h= list(city['closer to home'])\n",
    "home = list(map(lambda x: float(x.split(', ')[1][:-1]), h))\n",
    "cityhome = list(map(lambda x: x.split(', ')[0][2:-1], h))\n",
    "city['closer to home'] = pd.DataFrame(home)\n",
    "city['cityhome'] = pd.DataFrame(cityhome)\n",
    "\n",
    "geneva = city[(city.cityhome == \"Geneva\") | (city.citywork == \"Geneva\")]\n",
    "geneva = geneva[(geneva['closer to home'] < 15) & (geneva['closer to work'] < 15)]\n",
    "geneva = geneva[(geneva.workLat != geneva.homeLat) & (geneva.workLong != geneva.homeLong)]\n",
    "\n",
    "zurich = city[(city.cityhome == \"Zurich\") | (city.citywork == \"Zurich\")]\n",
    "zurich = zurich[(zurich['closer to home'] < 30) & (zurich['closer to work'] < 30)]\n",
    "zurich = zurich[(zurich.workLat != zurich.homeLat) & (zurich.workLong != zurich.homeLong)]"
   ]
  },
  {
   "cell_type": "markdown",
   "metadata": {},
   "source": [
    "Geneva"
   ]
  },
  {
   "cell_type": "code",
   "execution_count": null,
   "metadata": {
    "collapsed": true
   },
   "outputs": [],
   "source": [
    "print(\"Saving of Geneva neighborhood...\")\n",
    "map_1 = folium.Map(location=main_cities['Geneva'], zoom_start=13,tiles='Stamen Toner')\n",
    "for index, row in geneva.iterrows():\n",
    "    folium.CircleMarker([row.workLat, row.workLong], popup=str(row.workLat)+','+str(row.workLong),\n",
    "                    color='#fe2e2e',fill_color='#fe2e2e', radius =50).add_to(map_1)\n",
    "    folium.CircleMarker([row.homeLat, row.homeLong], popup=str(row.homeLat)+','+str(row.homeLong),\n",
    "                  color='#0000FF',fill_color='#0000FF', radius=50).add_to(map_1)\n",
    "map_1.save('./figs/geneva.html')\n",
    "print(\"Saved.\")"
   ]
  },
  {
   "cell_type": "markdown",
   "metadata": {},
   "source": [
    "Zürich"
   ]
  },
  {
   "cell_type": "code",
   "execution_count": null,
   "metadata": {
    "collapsed": true
   },
   "outputs": [],
   "source": [
    "print(\"Saving of Zurich neighborhood...\")\n",
    "map_1 = folium.Map(location=main_cities['Zurich'], zoom_start=13,tiles='Stamen Toner')\n",
    "for index, row in zurich.iterrows():\n",
    "    folium.CircleMarker([row.workLat, row.workLong], popup=str(row.workLat)+','+str(row.workLong),\n",
    "                    color='#fe2e2e',fill_color='#fe2e2e', radius =50).add_to(map_1)\n",
    "    folium.CircleMarker([row.homeLat, row.homeLong], popup=str(row.homeLat)+','+str(row.homeLong),\n",
    "                  color='#0000FF',fill_color='#0000FF', radius=50).add_to(map_1)\n",
    "map_1.save('./figs/zurich.html')\n",
    "print(\"Saved.\")"
   ]
  }
 ],
 "metadata": {
  "anaconda-cloud": {},
  "kernelspec": {
   "display_name": "Python [conda root]",
   "language": "python",
   "name": "conda-root-py"
  },
  "language_info": {
   "codemirror_mode": {
    "name": "ipython",
    "version": 3
   },
   "file_extension": ".py",
   "mimetype": "text/x-python",
   "name": "python",
   "nbconvert_exporter": "python",
   "pygments_lexer": "ipython3",
   "version": "3.5.2"
  }
 },
 "nbformat": 4,
 "nbformat_minor": 1
}
