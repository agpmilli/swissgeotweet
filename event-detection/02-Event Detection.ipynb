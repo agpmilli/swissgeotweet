{
 "cells": [
  {
   "cell_type": "markdown",
   "metadata": {},
   "source": [
    "# Applied Data Analysis - Fall 2016\n",
    "## Twitter-Swisscom Project\n",
    "\n",
    "### Event Detection\n",
    "\n",
    "This notebook contains all the operation we made on the data to detect events in Switzerland as precisely as possible.\n",
    "Here is a summary of what we did :\n",
    "\n",
    "1 - [Load the data](#load_data)\n",
    "\n",
    "2 - [Detection for one day columns](#one_day_detection)\n",
    "\n",
    "&nbsp;&nbsp; 2.1 - [Use of DBSCAN for clustering](#DBSCAN)\n",
    "\n",
    "3 - [Run detection on the whole data](#whole_data)\n",
    "\n",
    "4 - [Scope of the events detected](#event_scope)\n",
    "\n",
    "5 - [Event's country detection](#country_detection)\n",
    "\n",
    "6 - [Trending events detection](#trending)\n",
    "\n",
    "7 - [Save the events into csv for visualization](#save_events)"
   ]
  },
  {
   "cell_type": "code",
   "execution_count": 87,
   "metadata": {
    "collapsed": true
   },
   "outputs": [],
   "source": [
    "import pandas as pd\n",
    "import numpy as np\n",
    "import matplotlib.pyplot as plt\n",
    "from utils import *\n",
    "\n",
    "from sklearn.cluster import DBSCAN\n",
    "from sklearn import metrics"
   ]
  },
  {
   "cell_type": "markdown",
   "metadata": {},
   "source": [
    "## Assumptions\n",
    "\n",
    "Now that our dataframe is clean we want to find the event hidden in all those tweets. Here are our assumptions to find an event :\n",
    "\n",
    "- An event takes place at a certain place described by longitude/latitude. (we take a radius of 3km)\n",
    "- An event is described by hashtags it contains but this hashtags needs to be in at least 1/10 of tweets  a cluster contains.\n",
    "- An event occurs during a certain  time. (we decide to find them day by day)\n",
    "\n",
    "Avoid spam events :\n",
    "- An event has a minimum number of people talking about it (we take 20) and a minimum of tweets. (we take 50)\n",
    "- The ratio number of tweets / number of people that constitute an event has to be less than 6. (we don't want that people spamming create an event)"
   ]
  },
  {
   "cell_type": "markdown",
   "metadata": {},
   "source": [
    "### 1 - <a id='load_data'>Load the data</a> \n",
    "We load the csv file containing our tweets preprocessed."
   ]
  },
  {
   "cell_type": "code",
   "execution_count": 116,
   "metadata": {
    "collapsed": false
   },
   "outputs": [],
   "source": [
    "tweets = pd.read_csv(\"../twitter-swisscom/twex_event_tweets_processed.csv\", sep=',', encoding='utf-8')"
   ]
  },
  {
   "cell_type": "code",
   "execution_count": 117,
   "metadata": {
    "collapsed": false
   },
   "outputs": [
    {
     "data": {
      "text/plain": [
       "15659580"
      ]
     },
     "execution_count": 117,
     "metadata": {},
     "output_type": "execute_result"
    }
   ],
   "source": [
    "len(tweets)"
   ]
  },
  {
   "cell_type": "markdown",
   "metadata": {},
   "source": [
    "### 2 - <a id='one_day_detection'>Detection for one day<a>\n",
    "\n",
    "Before applying the detection on the whole data, we want to do the detection on a specific day so that the pipeline is easy to understand.\n",
    "\n",
    "We need to know how many days we have in our data."
   ]
  },
  {
   "cell_type": "code",
   "execution_count": 88,
   "metadata": {
    "collapsed": false
   },
   "outputs": [
    {
     "name": "stdout",
     "output_type": "stream",
     "text": [
      "2215\n"
     ]
    }
   ],
   "source": [
    "days = np.unique(tweets['day'].values)\n",
    "ndays = len(days)\n",
    "print(ndays)"
   ]
  },
  {
   "cell_type": "markdown",
   "metadata": {},
   "source": [
    "We take one of the day to show the detection on one day"
   ]
  },
  {
   "cell_type": "code",
   "execution_count": 89,
   "metadata": {
    "collapsed": false
   },
   "outputs": [
    {
     "name": "stdout",
     "output_type": "stream",
     "text": [
      "2015-01-14 00:00:00\n"
     ]
    }
   ],
   "source": [
    "from random import randint\n",
    "index = randint(0,ndays)\n",
    "\n",
    "day = tweets[tweets['day']==days[index]]\n",
    "print(days[index])"
   ]
  },
  {
   "cell_type": "markdown",
   "metadata": {},
   "source": [
    "#### 2.1 - <a id='DBSCAN'>Use of DBSCAN for clustering<a>\n",
    "\n",
    "We use [DBSCAN](http://scikit-learn.org/stable/modules/generated/sklearn.cluster.DBSCAN.html) to detect clusters of tweets that are close to each others. And we use this cluster assignment to detect events. Here are the parameters value we use to obtain our final result with explanation."
   ]
  },
  {
   "cell_type": "code",
   "execution_count": 90,
   "metadata": {
    "collapsed": true
   },
   "outputs": [],
   "source": [
    "EPS = 3/6371 #radius of clusters (3km)\n",
    "MIN = 5 #The number of samples (or total weight) in a neighborhood for a point to be considered as a core point.\n",
    "ALGORITHM = 'ball_tree' #The algorithm to be used by the NearestNeighbors module to compute pointwise distances and find nearest neighbors\n",
    "METRIC = 'haversine' #The metric to use when calculating distance between instances, haversine is for longitude/latitude in radians"
   ]
  },
  {
   "cell_type": "markdown",
   "metadata": {},
   "source": [
    "We run the DBSCAN algorithm"
   ]
  },
  {
   "cell_type": "code",
   "execution_count": 91,
   "metadata": {
    "collapsed": false
   },
   "outputs": [],
   "source": [
    "X = np.radians(day.as_matrix(columns=['latitude', 'longitude']))\n",
    "db = DBSCAN(eps=EPS, min_samples=MIN, algorithm=ALGORITHM, metric=METRIC).fit(X)\n",
    "core_samples_mask = np.zeros_like(db.labels_, dtype=bool)\n",
    "core_samples_mask[db.core_sample_indices_] = True\n",
    "labels = db.labels_\n",
    "day = day.assign(cluster=db.labels_)"
   ]
  },
  {
   "cell_type": "markdown",
   "metadata": {},
   "source": [
    "Number of clusters created on this day."
   ]
  },
  {
   "cell_type": "code",
   "execution_count": 92,
   "metadata": {
    "collapsed": false
   },
   "outputs": [
    {
     "name": "stdout",
     "output_type": "stream",
     "text": [
      "Estimated number of clusters: 182\n"
     ]
    }
   ],
   "source": [
    "n_clusters_ = len(set(labels)) - (1 if -1 in labels else 0)\n",
    "print('Estimated number of clusters: %d' % n_clusters_)"
   ]
  },
  {
   "cell_type": "markdown",
   "metadata": {},
   "source": [
    "And we plot the clusters detected in function of the longitude/latitude of them."
   ]
  },
  {
   "cell_type": "code",
   "execution_count": 93,
   "metadata": {
    "collapsed": false
   },
   "outputs": [
    {
     "name": "stderr",
     "output_type": "stream",
     "text": [
      "C:\\Users\\Alain\\Anaconda3\\lib\\site-packages\\matplotlib\\lines.py:1145: FutureWarning: comparison to `None` will result in an elementwise object comparison in the future.\n",
      "  if self._markerfacecolor != fc:\n"
     ]
    },
    {
     "data": {
      "image/png": "[encoded data removed]",
      "text/plain": [
       "<matplotlib.figure.Figure at 0x164692055f8>"
      ]
     },
     "metadata": {},
     "output_type": "display_data"
    }
   ],
   "source": [
    "unique_labels = set(labels)\n",
    "colors = plt.cm.Spectral(np.linspace(0, 1, len(unique_labels)))\n",
    "for k, col in zip(unique_labels, colors):\n",
    "    if k == -1:\n",
    "        col = 'k'\n",
    "\n",
    "    class_member_mask = (labels == k)\n",
    "\n",
    "    xy = X[class_member_mask & core_samples_mask]\n",
    "    plt.plot(xy[:, 0], xy[:, 1], 'o', markerfacecolor=col,\n",
    "             markeredgecolor='k', markersize=14)\n",
    "\n",
    "    xy = X[class_member_mask & ~core_samples_mask]\n",
    "    plt.plot(xy[:, 0], xy[:, 1], 'o', markerfacecolor=col,\n",
    "             markeredgecolor='k', markersize=6)\n",
    "\n",
    "plt.title('Estimated number of clusters: %d' % n_clusters_)\n",
    "plt.show()"
   ]
  },
  {
   "cell_type": "markdown",
   "metadata": {},
   "source": [
    "### 3 - <a id='whole_data'>Run detection on the whole data<a>\n",
    "\n",
    "We go through the clusters and find out if the corresponding tweets are linked by an event or not. To do so we first of all create a dataframe that will contain the events. (Name, date, keywords, hashtags, longitude, latitude, #of tweets, #of people, tweetids)"
   ]
  },
  {
   "cell_type": "code",
   "execution_count": 94,
   "metadata": {
    "collapsed": true
   },
   "outputs": [],
   "source": [
    "df_event = pd.DataFrame(columns=['name', 'date', 'keywords', 'hashtags', 'longitude', 'latitude', '# of tweets', '# of people', 'tweetids'])"
   ]
  },
  {
   "cell_type": "markdown",
   "metadata": {},
   "source": [
    "Now we want to populate our dataframe with real event. So we go through all the clusters and find out the hashtags, keywords and corresponding event based on these two infos. We use the same pipeline we used above to detect the clusters.\n",
    "\n",
    "To detect hashtags and keywords we use the assumptions we did at the start. "
   ]
  },
  {
   "cell_type": "code",
   "execution_count": 95,
   "metadata": {
    "collapsed": false
   },
   "outputs": [
    {
     "name": "stdout",
     "output_type": "stream",
     "text": [
      "Number of days to go through :  2215\n",
      "0/2215\n",
      "100/2215\n",
      "200/2215\n",
      "300/2215\n",
      "400/2215\n",
      "500/2215\n",
      "600/2215\n",
      "700/2215\n",
      "800/2215\n",
      "900/2215\n",
      "1000/2215\n",
      "1100/2215\n",
      "1200/2215\n",
      "1300/2215\n",
      "1400/2215\n",
      "1500/2215\n",
      "1600/2215\n",
      "1700/2215\n",
      "1800/2215\n",
      "1900/2215\n",
      "2000/2215\n",
      "2100/2215\n",
      "2200/2215\n"
     ]
    }
   ],
   "source": [
    "iter_=0\n",
    "print('Number of days to go through : ', ndays)\n",
    "for day in days:\n",
    "    if(iter_%100==0):\n",
    "        print(str(iter_) + '/' + str(ndays))\n",
    "    iter_+=1\n",
    "    day_df = tweets[tweets['day']==day]\n",
    "    \n",
    "    X = np.radians(day_df.as_matrix(columns=['latitude', 'longitude']))\n",
    "    db = DBSCAN(eps=EPS, min_samples=MIN, algorithm=ALGORITHM, metric=METRIC).fit(X)\n",
    "    core_samples_mask = np.zeros_like(db.labels_, dtype=bool)\n",
    "    core_samples_mask[db.core_sample_indices_] = True\n",
    "    labels = db.labels_\n",
    "\n",
    "    day_df = day_df.assign(cluster=db.labels_)\n",
    "\n",
    "    n_clusters_ = len(set(labels)) - (1 if -1 in labels else 0)\n",
    "\n",
    "    for cluster in range(0,n_clusters_-1):\n",
    "        ntweets = len(day_df[day_df['cluster']==cluster])\n",
    "        npeople = len(np.unique(day_df[day_df['cluster']==cluster].userId))\n",
    "        # Here we test if the number of people and the number of tweets are high enough to be detected as events\n",
    "        if((ntweets>=50) & (npeople>=20) & ((ntweets/npeople)<6)): \n",
    "            ids = list(day_df[day_df['cluster']==cluster].id.values)\n",
    "            d_hashtags = dictionnary_from_hashtags(day_df, cluster)\n",
    "            d_keywords = dictionnary_from_keywords(day_df, cluster)\n",
    "\n",
    "            d_hashtags_detection = useful_(d_hashtags, 1/10, ntweets)\n",
    "            d_keywords_detection = useful_(d_keywords, 1/10, ntweets)\n",
    "\n",
    "            if(any(d_hashtags_detection)):\n",
    "                position = find_position(day_df, cluster, ntweets)\n",
    "                i = len(df_event)\n",
    "                name = \"\"\n",
    "                for elem in d_hashtags_detection.keys(): \n",
    "                    name += elem + \" \"\n",
    "                df_event.loc[i] = ([name[:-1], day, list(d_keywords_detection.keys()), list(d_hashtags_detection.keys()), position[0], position[1], ntweets, npeople, ids])"
   ]
  },
  {
   "cell_type": "markdown",
   "metadata": {},
   "source": [
    "We print the number of events we detected and the head of it."
   ]
  },
  {
   "cell_type": "code",
   "execution_count": 97,
   "metadata": {
    "collapsed": false
   },
   "outputs": [
    {
     "name": "stdout",
     "output_type": "stream",
     "text": [
      "Number of event without filtering the spam neither the event not in the scope :  1823\n"
     ]
    },
    {
     "data": {
      "text/html": [
       "<div>\n",
       "<table border=\"1\" class=\"dataframe\">\n",
       "  <thead>\n",
       "    <tr style=\"text-align: right;\">\n",
       "      <th></th>\n",
       "      <th>name</th>\n",
       "      <th>date</th>\n",
       "      <th>keywords</th>\n",
       "      <th>hashtags</th>\n",
       "      <th>longitude</th>\n",
       "      <th>latitude</th>\n",
       "      <th># of tweets</th>\n",
       "      <th># of people</th>\n",
       "      <th>tweetids</th>\n",
       "    </tr>\n",
       "  </thead>\n",
       "  <tbody>\n",
       "    <tr>\n",
       "      <th>0</th>\n",
       "      <td>smgzh</td>\n",
       "      <td>2010-11-03 00:00:00</td>\n",
       "      <td>[smgzh]</td>\n",
       "      <td>[smgzh]</td>\n",
       "      <td>8.529014</td>\n",
       "      <td>47.365068</td>\n",
       "      <td>63.0</td>\n",
       "      <td>20.0</td>\n",
       "      <td>[29542566644, 29547549772, 29547704882, 295480...</td>\n",
       "    </tr>\n",
       "    <tr>\n",
       "      <th>1</th>\n",
       "      <td>lift11</td>\n",
       "      <td>2011-02-03 00:00:00</td>\n",
       "      <td>[lift11, w/, Conference]</td>\n",
       "      <td>[lift11]</td>\n",
       "      <td>6.143655</td>\n",
       "      <td>46.212323</td>\n",
       "      <td>53.0</td>\n",
       "      <td>20.0</td>\n",
       "      <td>[32959073318080512, 33050304886874112, 3305202...</td>\n",
       "    </tr>\n",
       "    <tr>\n",
       "      <th>2</th>\n",
       "      <td>pokeRT</td>\n",
       "      <td>2011-02-08 00:00:00</td>\n",
       "      <td>[pokeRT]</td>\n",
       "      <td>[pokeRT]</td>\n",
       "      <td>8.521258</td>\n",
       "      <td>47.377160</td>\n",
       "      <td>58.0</td>\n",
       "      <td>21.0</td>\n",
       "      <td>[34885382109667328, 34889319025999872, 3488938...</td>\n",
       "    </tr>\n",
       "    <tr>\n",
       "      <th>3</th>\n",
       "      <td>smmk11</td>\n",
       "      <td>2011-03-24 00:00:00</td>\n",
       "      <td>[smmk11]</td>\n",
       "      <td>[smmk11]</td>\n",
       "      <td>8.530818</td>\n",
       "      <td>47.374329</td>\n",
       "      <td>89.0</td>\n",
       "      <td>28.0</td>\n",
       "      <td>[50812256023351296, 50813780426358784, 5081540...</td>\n",
       "    </tr>\n",
       "    <tr>\n",
       "      <th>4</th>\n",
       "      <td>iPad2 applestoreZH</td>\n",
       "      <td>2011-03-25 00:00:00</td>\n",
       "      <td>[iPad2, applestoreZH]</td>\n",
       "      <td>[iPad2, applestoreZH]</td>\n",
       "      <td>8.534900</td>\n",
       "      <td>47.376152</td>\n",
       "      <td>119.0</td>\n",
       "      <td>35.0</td>\n",
       "      <td>[51171739434106880, 51172379367448576, 5117898...</td>\n",
       "    </tr>\n",
       "  </tbody>\n",
       "</table>\n",
       "</div>"
      ],
      "text/plain": [
       "                 name                 date                  keywords  \\\n",
       "0               smgzh  2010-11-03 00:00:00                   [smgzh]   \n",
       "1              lift11  2011-02-03 00:00:00  [lift11, w/, Conference]   \n",
       "2              pokeRT  2011-02-08 00:00:00                  [pokeRT]   \n",
       "3              smmk11  2011-03-24 00:00:00                  [smmk11]   \n",
       "4  iPad2 applestoreZH  2011-03-25 00:00:00     [iPad2, applestoreZH]   \n",
       "\n",
       "                hashtags  longitude   latitude  # of tweets  # of people  \\\n",
       "0                [smgzh]   8.529014  47.365068         63.0         20.0   \n",
       "1               [lift11]   6.143655  46.212323         53.0         20.0   \n",
       "2               [pokeRT]   8.521258  47.377160         58.0         21.0   \n",
       "3               [smmk11]   8.530818  47.374329         89.0         28.0   \n",
       "4  [iPad2, applestoreZH]   8.534900  47.376152        119.0         35.0   \n",
       "\n",
       "                                            tweetids  \n",
       "0  [29542566644, 29547549772, 29547704882, 295480...  \n",
       "1  [32959073318080512, 33050304886874112, 3305202...  \n",
       "2  [34885382109667328, 34889319025999872, 3488938...  \n",
       "3  [50812256023351296, 50813780426358784, 5081540...  \n",
       "4  [51171739434106880, 51172379367448576, 5117898...  "
      ]
     },
     "execution_count": 97,
     "metadata": {},
     "output_type": "execute_result"
    }
   ],
   "source": [
    "len_event = len(df_event)\n",
    "print(\"Number of event without filtering the spam neither the event not in the scope : \", len_event)\n",
    "df_event.head()"
   ]
  },
  {
   "cell_type": "markdown",
   "metadata": {},
   "source": [
    "### 4 - <a id='event_scope'>Scope of the event detected</a>\n",
    "\n",
    "Our dataset should be containing tweets between 2010 and 2016 but we still want to make sure we don't have outliers so we filter it."
   ]
  },
  {
   "cell_type": "code",
   "execution_count": 99,
   "metadata": {
    "collapsed": true
   },
   "outputs": [],
   "source": [
    "df_event['date'] = pd.DatetimeIndex(df_event['date']).normalize()"
   ]
  },
  {
   "cell_type": "code",
   "execution_count": 100,
   "metadata": {
    "collapsed": true
   },
   "outputs": [],
   "source": [
    "df_event = df_event[(df_event.date >= \"2010-01-01\") & (df_event.date <= \"2016-12-31\")]"
   ]
  },
  {
   "cell_type": "markdown",
   "metadata": {},
   "source": [
    "We save our dataframe to find the countries linked with each event."
   ]
  },
  {
   "cell_type": "code",
   "execution_count": 101,
   "metadata": {
    "collapsed": true
   },
   "outputs": [],
   "source": [
    "df_event.to_csv(\"../twitter-swisscom/event/event_no_country.csv\", sep=',', encoding='utf-8', index=False)"
   ]
  },
  {
   "cell_type": "markdown",
   "metadata": {},
   "source": [
    "### 5 - <a id='country_detection'>Event's country detection</a>\n",
    "\n",
    "Here is the pipeline we used to find the country given the longitude/latitude of an event :\n",
    "- Install OSGeo4W : https://trac.osgeo.org/osgeo4w/wiki\n",
    "- Open the OSGeo4W shell\n",
    "- Go to the directory where our script is (/country-detection)\n",
    "- install pandas : pip install pandas\n",
    "- run the script : python find_country.py\n",
    "\n",
    "\n",
    "(in our script we use these two tools : https://github.com/che0/countries)\n",
    "\n",
    "We then reload the dataframe with the countries and remove the one that are not in Switzerland"
   ]
  },
  {
   "cell_type": "code",
   "execution_count": 102,
   "metadata": {
    "collapsed": true
   },
   "outputs": [],
   "source": [
    "df_event = pd.read_csv(\"../twitter-swisscom/event/event_country.csv\", sep=',', encoding='utf-8')"
   ]
  },
  {
   "cell_type": "markdown",
   "metadata": {},
   "source": [
    "We want to keep only events that are in Switzerland to show them on our viz."
   ]
  },
  {
   "cell_type": "code",
   "execution_count": 103,
   "metadata": {
    "collapsed": false
   },
   "outputs": [
    {
     "name": "stdout",
     "output_type": "stream",
     "text": [
      "Total number of events :  1823\n",
      "Number of events in Switzerland :  1265\n",
      "Loss percentage :  30.608886450905104 %\n"
     ]
    }
   ],
   "source": [
    "len_total = len(df_event)\n",
    "df_event = df_event[df_event.country == 'CH']\n",
    "len_swiss = len(df_event)\n",
    "print(\"Total number of events : \", len_total)\n",
    "print(\"Number of events in Switzerland : \", len_swiss)\n",
    "print(\"Loss percentage : \", (1-(len_swiss/len_total))*100, \"%\")"
   ]
  },
  {
   "cell_type": "code",
   "execution_count": 104,
   "metadata": {
    "collapsed": false
   },
   "outputs": [
    {
     "data": {
      "text/html": [
       "<div>\n",
       "<table border=\"1\" class=\"dataframe\">\n",
       "  <thead>\n",
       "    <tr style=\"text-align: right;\">\n",
       "      <th></th>\n",
       "      <th>name</th>\n",
       "      <th>date</th>\n",
       "      <th>keywords</th>\n",
       "      <th>hashtags</th>\n",
       "      <th>longitude</th>\n",
       "      <th>latitude</th>\n",
       "      <th># of tweets</th>\n",
       "      <th># of people</th>\n",
       "      <th>tweetids</th>\n",
       "      <th>country</th>\n",
       "    </tr>\n",
       "  </thead>\n",
       "  <tbody>\n",
       "    <tr>\n",
       "      <th>0</th>\n",
       "      <td>smgzh</td>\n",
       "      <td>2010-11-03</td>\n",
       "      <td>['smgzh']</td>\n",
       "      <td>['smgzh']</td>\n",
       "      <td>8.529014</td>\n",
       "      <td>47.365068</td>\n",
       "      <td>63.0</td>\n",
       "      <td>20.0</td>\n",
       "      <td>[29542566644, 29547549772, 29547704882, 295480...</td>\n",
       "      <td>CH</td>\n",
       "    </tr>\n",
       "    <tr>\n",
       "      <th>1</th>\n",
       "      <td>lift11</td>\n",
       "      <td>2011-02-03</td>\n",
       "      <td>['lift11', 'w/', 'Conference']</td>\n",
       "      <td>['lift11']</td>\n",
       "      <td>6.143655</td>\n",
       "      <td>46.212323</td>\n",
       "      <td>53.0</td>\n",
       "      <td>20.0</td>\n",
       "      <td>[32959073318080512, 33050304886874112, 3305202...</td>\n",
       "      <td>CH</td>\n",
       "    </tr>\n",
       "    <tr>\n",
       "      <th>2</th>\n",
       "      <td>pokeRT</td>\n",
       "      <td>2011-02-08</td>\n",
       "      <td>['pokeRT']</td>\n",
       "      <td>['pokeRT']</td>\n",
       "      <td>8.521258</td>\n",
       "      <td>47.377160</td>\n",
       "      <td>58.0</td>\n",
       "      <td>21.0</td>\n",
       "      <td>[34885382109667328, 34889319025999872, 3488938...</td>\n",
       "      <td>CH</td>\n",
       "    </tr>\n",
       "    <tr>\n",
       "      <th>3</th>\n",
       "      <td>smmk11</td>\n",
       "      <td>2011-03-24</td>\n",
       "      <td>['smmk11']</td>\n",
       "      <td>['smmk11']</td>\n",
       "      <td>8.530818</td>\n",
       "      <td>47.374329</td>\n",
       "      <td>89.0</td>\n",
       "      <td>28.0</td>\n",
       "      <td>[50812256023351296, 50813780426358784, 5081540...</td>\n",
       "      <td>CH</td>\n",
       "    </tr>\n",
       "    <tr>\n",
       "      <th>4</th>\n",
       "      <td>iPad2 applestoreZH</td>\n",
       "      <td>2011-03-25</td>\n",
       "      <td>['iPad2', 'applestoreZH']</td>\n",
       "      <td>['iPad2', 'applestoreZH']</td>\n",
       "      <td>8.534900</td>\n",
       "      <td>47.376152</td>\n",
       "      <td>119.0</td>\n",
       "      <td>35.0</td>\n",
       "      <td>[51171739434106880, 51172379367448576, 5117898...</td>\n",
       "      <td>CH</td>\n",
       "    </tr>\n",
       "  </tbody>\n",
       "</table>\n",
       "</div>"
      ],
      "text/plain": [
       "                 name        date                        keywords  \\\n",
       "0               smgzh  2010-11-03                       ['smgzh']   \n",
       "1              lift11  2011-02-03  ['lift11', 'w/', 'Conference']   \n",
       "2              pokeRT  2011-02-08                      ['pokeRT']   \n",
       "3              smmk11  2011-03-24                      ['smmk11']   \n",
       "4  iPad2 applestoreZH  2011-03-25       ['iPad2', 'applestoreZH']   \n",
       "\n",
       "                    hashtags  longitude   latitude  # of tweets  # of people  \\\n",
       "0                  ['smgzh']   8.529014  47.365068         63.0         20.0   \n",
       "1                 ['lift11']   6.143655  46.212323         53.0         20.0   \n",
       "2                 ['pokeRT']   8.521258  47.377160         58.0         21.0   \n",
       "3                 ['smmk11']   8.530818  47.374329         89.0         28.0   \n",
       "4  ['iPad2', 'applestoreZH']   8.534900  47.376152        119.0         35.0   \n",
       "\n",
       "                                            tweetids country  \n",
       "0  [29542566644, 29547549772, 29547704882, 295480...      CH  \n",
       "1  [32959073318080512, 33050304886874112, 3305202...      CH  \n",
       "2  [34885382109667328, 34889319025999872, 3488938...      CH  \n",
       "3  [50812256023351296, 50813780426358784, 5081540...      CH  \n",
       "4  [51171739434106880, 51172379367448576, 5117898...      CH  "
      ]
     },
     "execution_count": 104,
     "metadata": {},
     "output_type": "execute_result"
    }
   ],
   "source": [
    "df_event.head()"
   ]
  },
  {
   "cell_type": "code",
   "execution_count": 105,
   "metadata": {
    "collapsed": true
   },
   "outputs": [],
   "source": [
    "df_event.to_csv(\"../twitter-swisscom/event/event_final_events.csv\", sep=',', encoding='utf-8', index=False)"
   ]
  },
  {
   "cell_type": "markdown",
   "metadata": {},
   "source": [
    "### 6 - <a id='trending'>Trending events detection</a>\n",
    "\n",
    "After vizualizing our data on several years, we see that some events seems to not be spatial but only like trending hashtags, we can detect them by finding events that take place at the same time but in many different places. We don't want to show them on the map as there position is not really representative."
   ]
  },
  {
   "cell_type": "code",
   "execution_count": 106,
   "metadata": {
    "collapsed": true
   },
   "outputs": [],
   "source": [
    "df_event = pd.read_csv(\"../twitter-swisscom/event/event_final_events.csv\", sep=',', encoding='utf-8')"
   ]
  },
  {
   "cell_type": "markdown",
   "metadata": {},
   "source": [
    "We create a new column with the 'Trending' value equals to False."
   ]
  },
  {
   "cell_type": "code",
   "execution_count": 107,
   "metadata": {
    "collapsed": true
   },
   "outputs": [],
   "source": [
    "df_event['trending'] = \"False\""
   ]
  },
  {
   "cell_type": "markdown",
   "metadata": {},
   "source": [
    "We detect same events that are on the same day at different locations"
   ]
  },
  {
   "cell_type": "code",
   "execution_count": 108,
   "metadata": {
    "collapsed": true
   },
   "outputs": [],
   "source": [
    "trending_event = df_event.groupby(['name','date'])"
   ]
  },
  {
   "cell_type": "code",
   "execution_count": 109,
   "metadata": {
    "collapsed": false
   },
   "outputs": [
    {
     "data": {
      "text/html": [
       "<div>\n",
       "<table border=\"1\" class=\"dataframe\">\n",
       "  <thead>\n",
       "    <tr style=\"text-align: right;\">\n",
       "      <th></th>\n",
       "    </tr>\n",
       "  </thead>\n",
       "  <tbody>\n",
       "  </tbody>\n",
       "</table>\n",
       "</div>"
      ],
      "text/plain": [
       "Empty DataFrame\n",
       "Columns: []\n",
       "Index: []"
      ]
     },
     "execution_count": 109,
     "metadata": {},
     "output_type": "execute_result"
    }
   ],
   "source": [
    "namelist = []\n",
    "def getnames(group):\n",
    "    name = group.name\n",
    "    if len(group['longitude'])>1:\n",
    "        namelist.append(name[0])\n",
    "\n",
    "trending_event.apply(getnames)"
   ]
  },
  {
   "cell_type": "markdown",
   "metadata": {},
   "source": [
    "And set their 'Trending' value to True"
   ]
  },
  {
   "cell_type": "code",
   "execution_count": 110,
   "metadata": {
    "collapsed": true
   },
   "outputs": [],
   "source": [
    "df_event['trending'] = df_event['name'].isin(namelist)"
   ]
  },
  {
   "cell_type": "code",
   "execution_count": 111,
   "metadata": {
    "collapsed": false
   },
   "outputs": [
    {
     "name": "stdout",
     "output_type": "stream",
     "text": [
      "Number of trending events detected :  197\n"
     ]
    }
   ],
   "source": [
    "print('Number of trending events detected : ', len(df_event[df_event['trending']==True]))"
   ]
  },
  {
   "cell_type": "markdown",
   "metadata": {},
   "source": [
    "### 7 - <a id='save_events'>Save the events into csv for visualization</a>\n",
    "Our final event dataframe is saved and used in the viz."
   ]
  },
  {
   "cell_type": "code",
   "execution_count": 112,
   "metadata": {
    "collapsed": true
   },
   "outputs": [],
   "source": [
    "df_event.to_csv(\"../twitter-swisscom/event/events_detected.csv\", sep=',', encoding='utf-8', index=False)"
   ]
  },
  {
   "cell_type": "code",
   "execution_count": null,
   "metadata": {
    "collapsed": true
   },
   "outputs": [],
   "source": []
  }
 ],
 "metadata": {
  "anaconda-cloud": {},
  "kernelspec": {
   "display_name": "Python [default]",
   "language": "python",
   "name": "python3"
  },
  "language_info": {
   "codemirror_mode": {
    "name": "ipython",
    "version": 3
   },
   "file_extension": ".py",
   "mimetype": "text/x-python",
   "name": "python",
   "nbconvert_exporter": "python",
   "pygments_lexer": "ipython3",
   "version": "3.5.2"
  }
 },
 "nbformat": 4,
 "nbformat_minor": 1
}
