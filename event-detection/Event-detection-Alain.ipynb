{
 "cells": [
  {
   "cell_type": "code",
   "execution_count": 1,
   "metadata": {
    "collapsed": false
   },
   "outputs": [],
   "source": [
    "import pandas as pd\n",
    "import numpy as np\n",
    "import matplotlib.pyplot as plt\n",
    "import string\n",
    "import nltk\n",
    "import re\n",
    "from nltk.corpus import stopwords\n",
    "from collections import Counter\n",
    "from sklearn.feature_extraction.text import CountVectorizer\n",
    "from sklearn.metrics.pairwise import euclidean_distances\n",
    "from scipy.cluster.hierarchy import ward, dendrogram,fcluster\n",
    "\n",
    "from sklearn.cluster import DBSCAN\n",
    "from sklearn import metrics"
   ]
  },
  {
   "cell_type": "code",
   "execution_count": 2,
   "metadata": {
    "collapsed": true
   },
   "outputs": [],
   "source": [
    "col_event_split = ['id','userId', 'createdAt', 'text', 'longitude', 'latitude', 'placeId', 'inReplyTo', 'placeLatitude', 'placeLongitude']"
   ]
  },
  {
   "cell_type": "code",
   "execution_count": 3,
   "metadata": {
    "collapsed": true
   },
   "outputs": [],
   "source": [
    "parse_dates = ['createdAt']"
   ]
  },
  {
   "cell_type": "code",
   "execution_count": 4,
   "metadata": {
    "collapsed": false
   },
   "outputs": [],
   "source": [
    "tweets = pd.read_csv('../twitter-swisscom/twex_event_corrected.tsv', sep=\"\\t\", encoding='utf-8', escapechar='\\\\', names=col_event_split, parse_dates=parse_dates, na_values='N', header=None, nrows=10000)"
   ]
  },
  {
   "cell_type": "code",
   "execution_count": 5,
   "metadata": {
    "collapsed": false,
    "scrolled": true
   },
   "outputs": [
    {
     "data": {
      "text/html": [
       "<div>\n",
       "<table border=\"1\" class=\"dataframe\">\n",
       "  <thead>\n",
       "    <tr style=\"text-align: right;\">\n",
       "      <th></th>\n",
       "      <th>id</th>\n",
       "      <th>userId</th>\n",
       "      <th>createdAt</th>\n",
       "      <th>text</th>\n",
       "      <th>longitude</th>\n",
       "      <th>latitude</th>\n",
       "      <th>placeId</th>\n",
       "      <th>inReplyTo</th>\n",
       "      <th>placeLatitude</th>\n",
       "      <th>placeLongitude</th>\n",
       "    </tr>\n",
       "  </thead>\n",
       "  <tbody>\n",
       "    <tr>\n",
       "      <th>0</th>\n",
       "      <td>9514097914</td>\n",
       "      <td>17341045</td>\n",
       "      <td>2010-02-23 05:55:51</td>\n",
       "      <td>Guuuuten Morgen! :-)</td>\n",
       "      <td>7.43926</td>\n",
       "      <td>46.9489</td>\n",
       "      <td>NaN</td>\n",
       "      <td>NaN</td>\n",
       "      <td>NaN</td>\n",
       "      <td>NaN</td>\n",
       "    </tr>\n",
       "    <tr>\n",
       "      <th>1</th>\n",
       "      <td>9514846412</td>\n",
       "      <td>7198282</td>\n",
       "      <td>2010-02-23 06:22:40</td>\n",
       "      <td>Still the best coffee in town — at La Stanza h...</td>\n",
       "      <td>8.53781</td>\n",
       "      <td>47.3678</td>\n",
       "      <td>NaN</td>\n",
       "      <td>NaN</td>\n",
       "      <td>NaN</td>\n",
       "      <td>NaN</td>\n",
       "    </tr>\n",
       "    <tr>\n",
       "      <th>2</th>\n",
       "      <td>9516574359</td>\n",
       "      <td>14657884</td>\n",
       "      <td>2010-02-23 07:34:25</td>\n",
       "      <td>It has been a week or so.. and today I just co...</td>\n",
       "      <td>6.13396</td>\n",
       "      <td>46.1951</td>\n",
       "      <td>NaN</td>\n",
       "      <td>NaN</td>\n",
       "      <td>NaN</td>\n",
       "      <td>NaN</td>\n",
       "    </tr>\n",
       "    <tr>\n",
       "      <th>3</th>\n",
       "      <td>9516952605</td>\n",
       "      <td>14703863</td>\n",
       "      <td>2010-02-23 07:51:47</td>\n",
       "      <td>Getting ready..  http://twitpic.com/14v8gz</td>\n",
       "      <td>8.81749</td>\n",
       "      <td>47.2288</td>\n",
       "      <td>NaN</td>\n",
       "      <td>NaN</td>\n",
       "      <td>NaN</td>\n",
       "      <td>NaN</td>\n",
       "    </tr>\n",
       "    <tr>\n",
       "      <th>4</th>\n",
       "      <td>9517198943</td>\n",
       "      <td>14393717</td>\n",
       "      <td>2010-02-23 08:02:57</td>\n",
       "      <td>Un peu de réconfort liquide en take away après...</td>\n",
       "      <td>6.63254</td>\n",
       "      <td>46.5199</td>\n",
       "      <td>NaN</td>\n",
       "      <td>NaN</td>\n",
       "      <td>NaN</td>\n",
       "      <td>NaN</td>\n",
       "    </tr>\n",
       "  </tbody>\n",
       "</table>\n",
       "</div>"
      ],
      "text/plain": [
       "           id    userId           createdAt  \\\n",
       "0  9514097914  17341045 2010-02-23 05:55:51   \n",
       "1  9514846412   7198282 2010-02-23 06:22:40   \n",
       "2  9516574359  14657884 2010-02-23 07:34:25   \n",
       "3  9516952605  14703863 2010-02-23 07:51:47   \n",
       "4  9517198943  14393717 2010-02-23 08:02:57   \n",
       "\n",
       "                                                text  longitude  latitude  \\\n",
       "0                               Guuuuten Morgen! :-)    7.43926   46.9489   \n",
       "1  Still the best coffee in town — at La Stanza h...    8.53781   47.3678   \n",
       "2  It has been a week or so.. and today I just co...    6.13396   46.1951   \n",
       "3         Getting ready..  http://twitpic.com/14v8gz    8.81749   47.2288   \n",
       "4  Un peu de réconfort liquide en take away après...    6.63254   46.5199   \n",
       "\n",
       "  placeId  inReplyTo  placeLatitude  placeLongitude  \n",
       "0     NaN        NaN            NaN             NaN  \n",
       "1     NaN        NaN            NaN             NaN  \n",
       "2     NaN        NaN            NaN             NaN  \n",
       "3     NaN        NaN            NaN             NaN  \n",
       "4     NaN        NaN            NaN             NaN  "
      ]
     },
     "execution_count": 5,
     "metadata": {},
     "output_type": "execute_result"
    }
   ],
   "source": [
    "tweets.head()"
   ]
  },
  {
   "cell_type": "code",
   "execution_count": 6,
   "metadata": {
    "collapsed": false
   },
   "outputs": [],
   "source": [
    "tweets.drop(['placeId', 'inReplyTo'], inplace=True, axis=1)"
   ]
  },
  {
   "cell_type": "markdown",
   "metadata": {},
   "source": [
    "Different informations on the longitude and latitude are given, the columns longitude/latitude are the position of the Tweet as reported by the user or client application. The place longitude/latitude is  indicates that the tweet is associated (but not necessarily originating from) a Place. And as we can see on the head of the table, the place is not always set.\n",
    "\n",
    "We decided to use the longitude/latitude columns to represent the position of a tweet and if they are null we will use the placeLatitude and placeLongitude. If both are null we will have to drop the entry as a tweet without position is not usefull for event detection."
   ]
  },
  {
   "cell_type": "code",
   "execution_count": 7,
   "metadata": {
    "collapsed": false,
    "scrolled": true
   },
   "outputs": [
    {
     "data": {
      "text/plain": [
       "id                         int64\n",
       "userId                     int64\n",
       "createdAt         datetime64[ns]\n",
       "text                      object\n",
       "longitude                float64\n",
       "latitude                 float64\n",
       "placeLatitude            float64\n",
       "placeLongitude           float64\n",
       "dtype: object"
      ]
     },
     "execution_count": 7,
     "metadata": {},
     "output_type": "execute_result"
    }
   ],
   "source": [
    "tweets.dtypes"
   ]
  },
  {
   "cell_type": "code",
   "execution_count": 8,
   "metadata": {
    "collapsed": false
   },
   "outputs": [],
   "source": [
    "\"\"\"\n",
    "Check if the longitude and latitude are set. \n",
    "If not, check for the place latitude and longitude and replace.\n",
    "If not, drop the row\n",
    "\"\"\"\n",
    "def find_position(row):\n",
    "    if(np.isnan(row['longitude'])) and (not np.isnan(row['placeLongitude'])):\n",
    "        row['longitude'] = row['placeLongitude']\n",
    "    if(not(np.isnan(row['longitude'])) and np.isnan(row['latitude']) and (not np.isnan(row['placeLatitude']))):\n",
    "        row['latitude'] = row['placeLatitude']\n",
    "    return row"
   ]
  },
  {
   "cell_type": "code",
   "execution_count": 9,
   "metadata": {
    "collapsed": false
   },
   "outputs": [],
   "source": [
    "tweets = tweets.apply(find_position, axis=1)"
   ]
  },
  {
   "cell_type": "code",
   "execution_count": 10,
   "metadata": {
    "collapsed": false
   },
   "outputs": [
    {
     "data": {
      "text/html": [
       "<div>\n",
       "<table border=\"1\" class=\"dataframe\">\n",
       "  <thead>\n",
       "    <tr style=\"text-align: right;\">\n",
       "      <th></th>\n",
       "      <th>id</th>\n",
       "      <th>userId</th>\n",
       "      <th>createdAt</th>\n",
       "      <th>text</th>\n",
       "      <th>longitude</th>\n",
       "      <th>latitude</th>\n",
       "      <th>placeLatitude</th>\n",
       "      <th>placeLongitude</th>\n",
       "    </tr>\n",
       "  </thead>\n",
       "  <tbody>\n",
       "    <tr>\n",
       "      <th>0</th>\n",
       "      <td>9514097914</td>\n",
       "      <td>17341045</td>\n",
       "      <td>2010-02-23 05:55:51</td>\n",
       "      <td>Guuuuten Morgen! :-)</td>\n",
       "      <td>7.43926</td>\n",
       "      <td>46.9489</td>\n",
       "      <td>NaN</td>\n",
       "      <td>NaN</td>\n",
       "    </tr>\n",
       "    <tr>\n",
       "      <th>1</th>\n",
       "      <td>9514846412</td>\n",
       "      <td>7198282</td>\n",
       "      <td>2010-02-23 06:22:40</td>\n",
       "      <td>Still the best coffee in town — at La Stanza h...</td>\n",
       "      <td>8.53781</td>\n",
       "      <td>47.3678</td>\n",
       "      <td>NaN</td>\n",
       "      <td>NaN</td>\n",
       "    </tr>\n",
       "    <tr>\n",
       "      <th>2</th>\n",
       "      <td>9516574359</td>\n",
       "      <td>14657884</td>\n",
       "      <td>2010-02-23 07:34:25</td>\n",
       "      <td>It has been a week or so.. and today I just co...</td>\n",
       "      <td>6.13396</td>\n",
       "      <td>46.1951</td>\n",
       "      <td>NaN</td>\n",
       "      <td>NaN</td>\n",
       "    </tr>\n",
       "    <tr>\n",
       "      <th>3</th>\n",
       "      <td>9516952605</td>\n",
       "      <td>14703863</td>\n",
       "      <td>2010-02-23 07:51:47</td>\n",
       "      <td>Getting ready..  http://twitpic.com/14v8gz</td>\n",
       "      <td>8.81749</td>\n",
       "      <td>47.2288</td>\n",
       "      <td>NaN</td>\n",
       "      <td>NaN</td>\n",
       "    </tr>\n",
       "    <tr>\n",
       "      <th>4</th>\n",
       "      <td>9517198943</td>\n",
       "      <td>14393717</td>\n",
       "      <td>2010-02-23 08:02:57</td>\n",
       "      <td>Un peu de réconfort liquide en take away après...</td>\n",
       "      <td>6.63254</td>\n",
       "      <td>46.5199</td>\n",
       "      <td>NaN</td>\n",
       "      <td>NaN</td>\n",
       "    </tr>\n",
       "  </tbody>\n",
       "</table>\n",
       "</div>"
      ],
      "text/plain": [
       "           id    userId           createdAt  \\\n",
       "0  9514097914  17341045 2010-02-23 05:55:51   \n",
       "1  9514846412   7198282 2010-02-23 06:22:40   \n",
       "2  9516574359  14657884 2010-02-23 07:34:25   \n",
       "3  9516952605  14703863 2010-02-23 07:51:47   \n",
       "4  9517198943  14393717 2010-02-23 08:02:57   \n",
       "\n",
       "                                                text  longitude  latitude  \\\n",
       "0                               Guuuuten Morgen! :-)    7.43926   46.9489   \n",
       "1  Still the best coffee in town — at La Stanza h...    8.53781   47.3678   \n",
       "2  It has been a week or so.. and today I just co...    6.13396   46.1951   \n",
       "3         Getting ready..  http://twitpic.com/14v8gz    8.81749   47.2288   \n",
       "4  Un peu de réconfort liquide en take away après...    6.63254   46.5199   \n",
       "\n",
       "   placeLatitude  placeLongitude  \n",
       "0            NaN             NaN  \n",
       "1            NaN             NaN  \n",
       "2            NaN             NaN  \n",
       "3            NaN             NaN  \n",
       "4            NaN             NaN  "
      ]
     },
     "execution_count": 10,
     "metadata": {},
     "output_type": "execute_result"
    }
   ],
   "source": [
    "tweets.head()"
   ]
  },
  {
   "cell_type": "markdown",
   "metadata": {},
   "source": [
    "We can now drop the columns placeLongitude and placeLatitude as they don't give us anymore informations."
   ]
  },
  {
   "cell_type": "code",
   "execution_count": 11,
   "metadata": {
    "collapsed": false
   },
   "outputs": [],
   "source": [
    "tweets.drop(['placeLatitude', 'placeLongitude'],inplace=True, axis=1)"
   ]
  },
  {
   "cell_type": "markdown",
   "metadata": {},
   "source": [
    "Then we drop the NaN values in Longitude and Latitude columns as we need a position to detect event."
   ]
  },
  {
   "cell_type": "code",
   "execution_count": 12,
   "metadata": {
    "collapsed": false
   },
   "outputs": [
    {
     "name": "stdout",
     "output_type": "stream",
     "text": [
      "Number of tweets before dropping the one without position :  10000\n",
      "Number of tweets before dropping the one without position :  10000\n",
      "Percentage of tweets lost :  0.0\n"
     ]
    }
   ],
   "source": [
    "len_before = len(tweets.index)\n",
    "tweets = tweets.dropna(subset=['longitude', 'latitude'])\n",
    "len_after = len(tweets.index)\n",
    "print(\"Number of tweets before dropping the one without position : \", len_before)\n",
    "print(\"Number of tweets before dropping the one without position : \", len_after)\n",
    "print(\"Percentage of tweets lost : \", ((len_before - len_after)/len_before)*100)"
   ]
  },
  {
   "cell_type": "markdown",
   "metadata": {},
   "source": [
    "We want to detect the event from the tweets we now extracted. To do so we had to do some assumptions. We decided to work with the text to find event. \n",
    "- Hashtags can be a good estimators of what event were on at the time of the tweets.\n",
    "- Events can take place on several days but we will decide to take tweets day per day."
   ]
  },
  {
   "cell_type": "markdown",
   "metadata": {},
   "source": [
    "As we decided to detect an event by its day of occurence we create a new column that gives us the information of the day."
   ]
  },
  {
   "cell_type": "code",
   "execution_count": 13,
   "metadata": {
    "collapsed": false
   },
   "outputs": [],
   "source": [
    "tweets['day'] = pd.DatetimeIndex(tweets['createdAt']).normalize()"
   ]
  },
  {
   "cell_type": "code",
   "execution_count": 14,
   "metadata": {
    "collapsed": false
   },
   "outputs": [],
   "source": [
    "tweets['month'] = tweets['createdAt'].map(lambda x: str(x.year) + \"-\" + str(x.month))"
   ]
  },
  {
   "cell_type": "markdown",
   "metadata": {},
   "source": [
    "We decide to remove the stopwords from the tweets' text to keep only words that can describe an event."
   ]
  },
  {
   "cell_type": "code",
   "execution_count": 15,
   "metadata": {
    "collapsed": false
   },
   "outputs": [],
   "source": [
    "stop_words = stopwords.words('english')\n",
    "stop_words += stopwords.words('french')\n",
    "stop_words += stopwords.words('german')\n",
    "stop_words += stopwords.words('italian')\n",
    "stop_words += string.punctuation\n",
    "stop_words += ['—','/via','^_^', ':L', ':-/', '>:/', ':S', '>:[', ':@', ':-(', ':[', ':-||', '=L', ':<',\n",
    "    ':-[', ':-<', '=\\\\', '=/', '>:(', ':(', '>.<', \":'-(\", \":'(\", ':\\\\', ':-c',\n",
    "    ':c', ':{', '>:\\\\', ';(', ':-)', ':)', ';)', ':o)', ':]', ':3', ':c)', ':>', '=]', '8)', '=)', ':}',\n",
    "    ':^)', ':-D', ':D', '8-D', '8D', 'x-D', 'xD', 'X-D', 'XD', '=-D', '=D',\n",
    "    '=-3', '=3', ':-))', \":'-)\", \":')\", ':*', ':^*', '>:P', ':-P', ':P', 'X-P',\n",
    "    'x-p', 'xp', 'XP', ':-p', ':p', '=p', ':-b', ':b', '>:)', '>;)', '>:-)',\n",
    "    '<3']"
   ]
  },
  {
   "cell_type": "markdown",
   "metadata": {},
   "source": [
    "We remove the stopwords but we also remove the URLs and the @ mentions as they are not useful to detect events"
   ]
  },
  {
   "cell_type": "code",
   "execution_count": 16,
   "metadata": {
    "collapsed": false
   },
   "outputs": [],
   "source": [
    "def text_process(row):\n",
    "    text = row['text']\n",
    "    text = re.sub(r\"http\\S+\", \"\", text)\n",
    "    text = re.sub(r\"@ \\S+\", \"\", text)\n",
    "    text = re.sub(r\"@\\S+\", \"\", text)\n",
    "    text = text.split()\n",
    "    text  = [word for word in text if word.lower() not in stop_words]\n",
    "    row['text'] = text\n",
    "    return row"
   ]
  },
  {
   "cell_type": "code",
   "execution_count": 17,
   "metadata": {
    "collapsed": false
   },
   "outputs": [
    {
     "data": {
      "text/html": [
       "<div>\n",
       "<table border=\"1\" class=\"dataframe\">\n",
       "  <thead>\n",
       "    <tr style=\"text-align: right;\">\n",
       "      <th></th>\n",
       "      <th>id</th>\n",
       "      <th>userId</th>\n",
       "      <th>createdAt</th>\n",
       "      <th>text</th>\n",
       "      <th>longitude</th>\n",
       "      <th>latitude</th>\n",
       "      <th>day</th>\n",
       "      <th>month</th>\n",
       "    </tr>\n",
       "  </thead>\n",
       "  <tbody>\n",
       "    <tr>\n",
       "      <th>0</th>\n",
       "      <td>9514097914</td>\n",
       "      <td>17341045</td>\n",
       "      <td>2010-02-23 05:55:51</td>\n",
       "      <td>[Guuuuten, Morgen!]</td>\n",
       "      <td>7.43926</td>\n",
       "      <td>46.9489</td>\n",
       "      <td>2010-02-23</td>\n",
       "      <td>2010-2</td>\n",
       "    </tr>\n",
       "    <tr>\n",
       "      <th>1</th>\n",
       "      <td>9514846412</td>\n",
       "      <td>7198282</td>\n",
       "      <td>2010-02-23 06:22:40</td>\n",
       "      <td>[Still, best, coffee, town, Stanza]</td>\n",
       "      <td>8.53781</td>\n",
       "      <td>47.3678</td>\n",
       "      <td>2010-02-23</td>\n",
       "      <td>2010-2</td>\n",
       "    </tr>\n",
       "    <tr>\n",
       "      <th>2</th>\n",
       "      <td>9516574359</td>\n",
       "      <td>14657884</td>\n",
       "      <td>2010-02-23 07:34:25</td>\n",
       "      <td>[week, so.., today, couldn't, focus, Sportif, ...</td>\n",
       "      <td>6.13396</td>\n",
       "      <td>46.1951</td>\n",
       "      <td>2010-02-23</td>\n",
       "      <td>2010-2</td>\n",
       "    </tr>\n",
       "    <tr>\n",
       "      <th>3</th>\n",
       "      <td>9516952605</td>\n",
       "      <td>14703863</td>\n",
       "      <td>2010-02-23 07:51:47</td>\n",
       "      <td>[Getting, ready..]</td>\n",
       "      <td>8.81749</td>\n",
       "      <td>47.2288</td>\n",
       "      <td>2010-02-23</td>\n",
       "      <td>2010-2</td>\n",
       "    </tr>\n",
       "    <tr>\n",
       "      <th>4</th>\n",
       "      <td>9517198943</td>\n",
       "      <td>14393717</td>\n",
       "      <td>2010-02-23 08:02:57</td>\n",
       "      <td>[peu, réconfort, liquide, take, away, après, d...</td>\n",
       "      <td>6.63254</td>\n",
       "      <td>46.5199</td>\n",
       "      <td>2010-02-23</td>\n",
       "      <td>2010-2</td>\n",
       "    </tr>\n",
       "  </tbody>\n",
       "</table>\n",
       "</div>"
      ],
      "text/plain": [
       "           id    userId           createdAt  \\\n",
       "0  9514097914  17341045 2010-02-23 05:55:51   \n",
       "1  9514846412   7198282 2010-02-23 06:22:40   \n",
       "2  9516574359  14657884 2010-02-23 07:34:25   \n",
       "3  9516952605  14703863 2010-02-23 07:51:47   \n",
       "4  9517198943  14393717 2010-02-23 08:02:57   \n",
       "\n",
       "                                                text  longitude  latitude  \\\n",
       "0                                [Guuuuten, Morgen!]    7.43926   46.9489   \n",
       "1                [Still, best, coffee, town, Stanza]    8.53781   47.3678   \n",
       "2  [week, so.., today, couldn't, focus, Sportif, ...    6.13396   46.1951   \n",
       "3                                 [Getting, ready..]    8.81749   47.2288   \n",
       "4  [peu, réconfort, liquide, take, away, après, d...    6.63254   46.5199   \n",
       "\n",
       "         day   month  \n",
       "0 2010-02-23  2010-2  \n",
       "1 2010-02-23  2010-2  \n",
       "2 2010-02-23  2010-2  \n",
       "3 2010-02-23  2010-2  \n",
       "4 2010-02-23  2010-2  "
      ]
     },
     "execution_count": 17,
     "metadata": {},
     "output_type": "execute_result"
    }
   ],
   "source": [
    "tweets = tweets.apply(text_process, axis=1)\n",
    "tweets.head()"
   ]
  },
  {
   "cell_type": "markdown",
   "metadata": {},
   "source": [
    "Now that the words should be clean we can find occurences of the same word on the same day and find event from there.\n",
    "We will create list with words still in the 'text' field and we also drop the row where the text is empty."
   ]
  },
  {
   "cell_type": "code",
   "execution_count": 18,
   "metadata": {
    "collapsed": true
   },
   "outputs": [],
   "source": [
    "tweets.dropna(subset=['text'], inplace=True)"
   ]
  },
  {
   "cell_type": "markdown",
   "metadata": {},
   "source": [
    "Now that the text is pretty much clean we want to get the hashtags from the tweets because they are really helpful to detect the events. So we create a column with the hashtags :"
   ]
  },
  {
   "cell_type": "code",
   "execution_count": 19,
   "metadata": {
    "collapsed": false
   },
   "outputs": [],
   "source": [
    "def find_hashtags(texts):\n",
    "    hashtags = []\n",
    "    for i in range(0,len(texts)):\n",
    "        if texts[i][0] in '#':\n",
    "            hashtags.append(texts[i][1:])\n",
    "    return hashtags"
   ]
  },
  {
   "cell_type": "code",
   "execution_count": 20,
   "metadata": {
    "collapsed": false,
    "scrolled": true
   },
   "outputs": [],
   "source": [
    "tweets['hashtags'] = tweets['text'].apply(find_hashtags)"
   ]
  },
  {
   "cell_type": "code",
   "execution_count": 21,
   "metadata": {
    "collapsed": false,
    "scrolled": true
   },
   "outputs": [
    {
     "data": {
      "text/html": [
       "<div>\n",
       "<table border=\"1\" class=\"dataframe\">\n",
       "  <thead>\n",
       "    <tr style=\"text-align: right;\">\n",
       "      <th></th>\n",
       "      <th>id</th>\n",
       "      <th>userId</th>\n",
       "      <th>createdAt</th>\n",
       "      <th>text</th>\n",
       "      <th>longitude</th>\n",
       "      <th>latitude</th>\n",
       "      <th>day</th>\n",
       "      <th>month</th>\n",
       "      <th>hashtags</th>\n",
       "    </tr>\n",
       "  </thead>\n",
       "  <tbody>\n",
       "    <tr>\n",
       "      <th>0</th>\n",
       "      <td>9514097914</td>\n",
       "      <td>17341045</td>\n",
       "      <td>2010-02-23 05:55:51</td>\n",
       "      <td>[Guuuuten, Morgen!]</td>\n",
       "      <td>7.43926</td>\n",
       "      <td>46.9489</td>\n",
       "      <td>2010-02-23</td>\n",
       "      <td>2010-2</td>\n",
       "      <td>[]</td>\n",
       "    </tr>\n",
       "    <tr>\n",
       "      <th>1</th>\n",
       "      <td>9514846412</td>\n",
       "      <td>7198282</td>\n",
       "      <td>2010-02-23 06:22:40</td>\n",
       "      <td>[Still, best, coffee, town, Stanza]</td>\n",
       "      <td>8.53781</td>\n",
       "      <td>47.3678</td>\n",
       "      <td>2010-02-23</td>\n",
       "      <td>2010-2</td>\n",
       "      <td>[]</td>\n",
       "    </tr>\n",
       "    <tr>\n",
       "      <th>2</th>\n",
       "      <td>9516574359</td>\n",
       "      <td>14657884</td>\n",
       "      <td>2010-02-23 07:34:25</td>\n",
       "      <td>[week, so.., today, couldn't, focus, Sportif, ...</td>\n",
       "      <td>6.13396</td>\n",
       "      <td>46.1951</td>\n",
       "      <td>2010-02-23</td>\n",
       "      <td>2010-2</td>\n",
       "      <td>[]</td>\n",
       "    </tr>\n",
       "    <tr>\n",
       "      <th>3</th>\n",
       "      <td>9516952605</td>\n",
       "      <td>14703863</td>\n",
       "      <td>2010-02-23 07:51:47</td>\n",
       "      <td>[Getting, ready..]</td>\n",
       "      <td>8.81749</td>\n",
       "      <td>47.2288</td>\n",
       "      <td>2010-02-23</td>\n",
       "      <td>2010-2</td>\n",
       "      <td>[]</td>\n",
       "    </tr>\n",
       "    <tr>\n",
       "      <th>4</th>\n",
       "      <td>9517198943</td>\n",
       "      <td>14393717</td>\n",
       "      <td>2010-02-23 08:02:57</td>\n",
       "      <td>[peu, réconfort, liquide, take, away, après, d...</td>\n",
       "      <td>6.63254</td>\n",
       "      <td>46.5199</td>\n",
       "      <td>2010-02-23</td>\n",
       "      <td>2010-2</td>\n",
       "      <td>[]</td>\n",
       "    </tr>\n",
       "  </tbody>\n",
       "</table>\n",
       "</div>"
      ],
      "text/plain": [
       "           id    userId           createdAt  \\\n",
       "0  9514097914  17341045 2010-02-23 05:55:51   \n",
       "1  9514846412   7198282 2010-02-23 06:22:40   \n",
       "2  9516574359  14657884 2010-02-23 07:34:25   \n",
       "3  9516952605  14703863 2010-02-23 07:51:47   \n",
       "4  9517198943  14393717 2010-02-23 08:02:57   \n",
       "\n",
       "                                                text  longitude  latitude  \\\n",
       "0                                [Guuuuten, Morgen!]    7.43926   46.9489   \n",
       "1                [Still, best, coffee, town, Stanza]    8.53781   47.3678   \n",
       "2  [week, so.., today, couldn't, focus, Sportif, ...    6.13396   46.1951   \n",
       "3                                 [Getting, ready..]    8.81749   47.2288   \n",
       "4  [peu, réconfort, liquide, take, away, après, d...    6.63254   46.5199   \n",
       "\n",
       "         day   month hashtags  \n",
       "0 2010-02-23  2010-2       []  \n",
       "1 2010-02-23  2010-2       []  \n",
       "2 2010-02-23  2010-2       []  \n",
       "3 2010-02-23  2010-2       []  \n",
       "4 2010-02-23  2010-2       []  "
      ]
     },
     "execution_count": 21,
     "metadata": {},
     "output_type": "execute_result"
    }
   ],
   "source": [
    "tweets.head()"
   ]
  },
  {
   "cell_type": "code",
   "execution_count": 22,
   "metadata": {
    "collapsed": true
   },
   "outputs": [],
   "source": [
    "def remove_hashtags(texts):\n",
    "    nothashtags = []\n",
    "    for i in range(0,len(texts)):\n",
    "        if texts[i][0] not in '#':\n",
    "            nothashtags.append(texts[i])\n",
    "        else:\n",
    "            nothashtags.append(texts[i][1:])\n",
    "    return nothashtags"
   ]
  },
  {
   "cell_type": "code",
   "execution_count": 23,
   "metadata": {
    "collapsed": false
   },
   "outputs": [],
   "source": [
    "tweets['text'] = tweets['text'].apply(remove_hashtags)"
   ]
  },
  {
   "cell_type": "markdown",
   "metadata": {},
   "source": [
    "## EVENT  DETECTION\n",
    "\n",
    "Now that our dataframe is clean we want to find the event hidden in all those tweets. Here are our assumptions to find an event :\n",
    "- An event is described by a list of words (hashtags are also used with greater importance than other words)\n",
    "- An event takes place at a certain place described by longitude/latitude (we took around 10km)\n",
    "- An event occurs during a certain  time (we decided to find them day by day)\n",
    "- An event has a minimum number of people talking about it (we took 3) and a minimum of tweets (we took 5)"
   ]
  },
  {
   "cell_type": "code",
   "execution_count": 24,
   "metadata": {
    "collapsed": false
   },
   "outputs": [],
   "source": [
    "days = np.unique(tweets['day'].values)"
   ]
  },
  {
   "cell_type": "code",
   "execution_count": 25,
   "metadata": {
    "collapsed": true
   },
   "outputs": [],
   "source": [
    "day = tweets[tweets['day']==days[2]]"
   ]
  },
  {
   "cell_type": "code",
   "execution_count": 26,
   "metadata": {
    "collapsed": false
   },
   "outputs": [
    {
     "name": "stdout",
     "output_type": "stream",
     "text": [
      "0.1\n"
     ]
    }
   ],
   "source": [
    "meters = 10000\n",
    "eps = meters / 100000 # meters to degree\n",
    "print(eps)"
   ]
  },
  {
   "cell_type": "code",
   "execution_count": 27,
   "metadata": {
    "collapsed": false
   },
   "outputs": [],
   "source": [
    "X = day.as_matrix(columns=['latitude', 'longitude'])\n",
    "db = DBSCAN(eps=eps, min_samples=5).fit(X)\n",
    "core_samples_mask = np.zeros_like(db.labels_, dtype=bool)\n",
    "core_samples_mask[db.core_sample_indices_] = True\n",
    "labels = db.labels_"
   ]
  },
  {
   "cell_type": "code",
   "execution_count": 28,
   "metadata": {
    "collapsed": false
   },
   "outputs": [
    {
     "name": "stderr",
     "output_type": "stream",
     "text": [
      "C:\\Users\\Alain\\Anaconda3\\lib\\site-packages\\ipykernel\\__main__.py:1: SettingWithCopyWarning: \n",
      "A value is trying to be set on a copy of a slice from a DataFrame.\n",
      "Try using .loc[row_indexer,col_indexer] = value instead\n",
      "\n",
      "See the caveats in the documentation: http://pandas.pydata.org/pandas-docs/stable/indexing.html#indexing-view-versus-copy\n",
      "  if __name__ == '__main__':\n"
     ]
    }
   ],
   "source": [
    "day['cluster'] = db.labels_"
   ]
  },
  {
   "cell_type": "code",
   "execution_count": 29,
   "metadata": {
    "collapsed": false
   },
   "outputs": [
    {
     "name": "stdout",
     "output_type": "stream",
     "text": [
      "Estimated number of clusters: 3\n"
     ]
    }
   ],
   "source": [
    "#Number of clusters in labels, ignoring noise if present.\n",
    "n_clusters_ = len(set(labels)) - (1 if -1 in labels else 0)\n",
    "\n",
    "print('Estimated number of clusters: %d' % n_clusters_)\n"
   ]
  },
  {
   "cell_type": "code",
   "execution_count": 30,
   "metadata": {
    "collapsed": false
   },
   "outputs": [
    {
     "name": "stderr",
     "output_type": "stream",
     "text": [
      "C:\\Users\\Alain\\Anaconda3\\lib\\site-packages\\matplotlib\\lines.py:1145: FutureWarning: comparison to `None` will result in an elementwise object comparison in the future.\n",
      "  if self._markerfacecolor != fc:\n"
     ]
    },
    {
     "data": {
      "image/png": "[encoded data removed]",
      "text/plain": [
       "<matplotlib.figure.Figure at 0x297120c1438>"
      ]
     },
     "metadata": {},
     "output_type": "display_data"
    }
   ],
   "source": [
    "import matplotlib.pyplot as plt\n",
    "\n",
    "# Black removed and is used for noise instead.\n",
    "unique_labels = set(labels)\n",
    "colors = plt.cm.Spectral(np.linspace(0, 1, len(unique_labels)))\n",
    "for k, col in zip(unique_labels, colors):\n",
    "    if k == -1:\n",
    "        # Black used for noise.\n",
    "        col = 'k'\n",
    "\n",
    "    class_member_mask = (labels == k)\n",
    "\n",
    "    xy = X[class_member_mask & core_samples_mask]\n",
    "    plt.plot(xy[:, 0], xy[:, 1], 'o', markerfacecolor=col,\n",
    "             markeredgecolor='k', markersize=14)\n",
    "\n",
    "    xy = X[class_member_mask & ~core_samples_mask]\n",
    "    plt.plot(xy[:, 0], xy[:, 1], 'o', markerfacecolor=col,\n",
    "             markeredgecolor='k', markersize=6)\n",
    "\n",
    "plt.title('Estimated number of clusters: %d' % n_clusters_)\n",
    "plt.show()"
   ]
  },
  {
   "cell_type": "markdown",
   "metadata": {},
   "source": [
    "## Text analysis to detect events\n",
    "\n",
    "We go through the clusters and find out if the corresponding tweets are linked by an event or not. To do so we first of all create a dataframe that will contain the events. (Event name, Event keywords, Event hashtags, Event longitude/latitude, Number of tweets, Number of people)"
   ]
  },
  {
   "cell_type": "code",
   "execution_count": 73,
   "metadata": {
    "collapsed": true
   },
   "outputs": [],
   "source": [
    "df_event = pd.DataFrame(columns=['name', 'keywords', 'hashtags', 'longitude', 'latitude', '# of tweets', '# of people'])"
   ]
  },
  {
   "cell_type": "markdown",
   "metadata": {},
   "source": [
    "Now we want to populate our dataframe with real event. So we go through all the clusters and find out the hashtags, keywords and corresponding event based on these two infos"
   ]
  },
  {
   "cell_type": "code",
   "execution_count": 96,
   "metadata": {
    "collapsed": true
   },
   "outputs": [],
   "source": [
    "def find_hashtags(df, ncluster):\n",
    "    toprint = \"Hashtags : \"\n",
    "    d = {}\n",
    "    for hashtags_ in df[df['cluster']==ncluster].hashtags:\n",
    "        if(hashtags_!=[]):\n",
    "            for hashtag in hashtags_:\n",
    "                if hashtag in d:\n",
    "                    d[hashtag]+=1\n",
    "                else:\n",
    "                    d[hashtag]=1\n",
    "    for elem in d:\n",
    "        toprint += \"#\" + elem + \" -> \" + str(d[elem]) + \"\\n\"\n",
    "            \n",
    "    print(toprint + \"\\n\")\n",
    "    return d"
   ]
  },
  {
   "cell_type": "code",
   "execution_count": 101,
   "metadata": {
    "collapsed": true
   },
   "outputs": [],
   "source": [
    "def find_keywords(df, ncluster):\n",
    "    toprint=\"Keywords : \"\n",
    "    nb_tweets = len(day[day['cluster']==cluster])\n",
    "    d = {}\n",
    "    for text_ in df[df['cluster']==ncluster].text:\n",
    "        for word in text_:\n",
    "                if word in d:\n",
    "                    d[word]+=1\n",
    "                else:\n",
    "                    d[word]=1\n",
    "    for elem in d:\n",
    "        if(d[elem]>nb_tweets/2):\n",
    "            toprint += elem + \" -> \" + str(d[elem]) + \"\\n\"\n",
    "            \n",
    "    print(toprint + \"\\n\")\n",
    "    return d"
   ]
  },
  {
   "cell_type": "code",
   "execution_count": 102,
   "metadata": {
    "collapsed": false
   },
   "outputs": [
    {
     "name": "stdout",
     "output_type": "stream",
     "text": [
      "Cluster n°0( 8 tweets ) : \n",
      "Hashtags : \n",
      "\n",
      "Keywords : \n",
      "\n",
      "Cluster n°1( 6 tweets ) : \n",
      "Hashtags : #fb -> 2\n",
      "\n",
      "\n",
      "Keywords : \n",
      "\n"
     ]
    }
   ],
   "source": [
    "for cluster in range(0,n_clusters_-1):\n",
    "    print(\"Cluster n°\" + str(cluster) + \"( \" + str(len(day[day['cluster']==cluster])) + \" tweets\" + \" )\" \" : \")\n",
    "    d_hashtags = find_hashtags(day, cluster)\n",
    "    d_keywords = find_keywords(day, cluster)\n",
    "    \n",
    "    \n",
    "    "
   ]
  },
  {
   "cell_type": "code",
   "execution_count": null,
   "metadata": {
    "collapsed": true
   },
   "outputs": [],
   "source": [
    "def Most_Common(lst, limit):\n",
    "    flatten = [val.lower() for sublist in lst for val in sublist]\n",
    "    vocabulary = []\n",
    "    data = Counter(flatten)\n",
    "    for elem in data.most_common(len(flatten)):\n",
    "        if(elem[1] >= limit):\n",
    "            vocabulary.append(elem[0])\n",
    "    return vocabulary"
   ]
  },
  {
   "cell_type": "code",
   "execution_count": null,
   "metadata": {
    "collapsed": false
   },
   "outputs": [],
   "source": [
    "vocab = Most_Common(day['text'], 4)\n",
    "print(vocab)"
   ]
  },
  {
   "cell_type": "code",
   "execution_count": null,
   "metadata": {
    "collapsed": false
   },
   "outputs": [],
   "source": [
    "month = tweets[tweets['month']=='2010-2']\n",
    "month.head()"
   ]
  },
  {
   "cell_type": "markdown",
   "metadata": {},
   "source": [
    "First of all we will constitute a vocabulary containing the words that are often used in the tweets. To do so we go through all the texts and for each term we count the number of occurences and then keep only the one that are often used."
   ]
  },
  {
   "cell_type": "code",
   "execution_count": null,
   "metadata": {
    "collapsed": false
   },
   "outputs": [],
   "source": [
    "vocab = Most_Common(month['text'], 3)\n",
    "print(len(vocab))"
   ]
  },
  {
   "cell_type": "markdown",
   "metadata": {},
   "source": [
    "To this vocabulary we add all the hashtags we detected before as they are important words anyway"
   ]
  },
  {
   "cell_type": "code",
   "execution_count": null,
   "metadata": {
    "collapsed": false
   },
   "outputs": [],
   "source": [
    "for list_ in np.unique(month['hashtags'][month['hashtags']!=\"\"].values):\n",
    "    for tag in list_:\n",
    "        if(tag not in vocab):\n",
    "            vocab.append(tag)\n",
    "print(len(vocab))"
   ]
  },
  {
   "cell_type": "markdown",
   "metadata": {},
   "source": [
    "The idea after that is to create a matrix containing the tweets on an axis and the terms on another and add a 1 in the cell where the current words appears in the current tweet's text."
   ]
  },
  {
   "cell_type": "code",
   "execution_count": null,
   "metadata": {
    "collapsed": true
   },
   "outputs": [],
   "source": [
    "tweets_text = []\n",
    "for list_ in month['text']:\n",
    "    text = \"\"\n",
    "    for i in range(0,len(list_)):\n",
    "        text += list_[i]+ \" \"\n",
    "    tweets_text.append(text)"
   ]
  },
  {
   "cell_type": "markdown",
   "metadata": {},
   "source": [
    "Create the tweet-term matrix"
   ]
  },
  {
   "cell_type": "code",
   "execution_count": null,
   "metadata": {
    "collapsed": false
   },
   "outputs": [],
   "source": [
    "vec = CountVectorizer(vocabulary=vocab)\n",
    "ttm = vec.fit_transform(tweets_text).toarray()"
   ]
  },
  {
   "cell_type": "markdown",
   "metadata": {},
   "source": [
    "Now we want to take the distance between the tweets"
   ]
  },
  {
   "cell_type": "code",
   "execution_count": null,
   "metadata": {
    "collapsed": false
   },
   "outputs": [],
   "source": [
    "dist_eucl = euclidean_distances(ttm)\n",
    "np.round(dist_eucl,1)"
   ]
  },
  {
   "cell_type": "code",
   "execution_count": null,
   "metadata": {
    "collapsed": false
   },
   "outputs": [],
   "source": [
    "n_tweets = dist_eucl.shape[0]"
   ]
  },
  {
   "cell_type": "code",
   "execution_count": null,
   "metadata": {
    "collapsed": false
   },
   "outputs": [],
   "source": [
    "linkage_matrix = ward(dist_eucl)\n",
    "\n",
    "dendrogram(linkage_matrix, orientation=\"left\")\n",
    "\n",
    "plt.tight_layout()  # fixes margins\n",
    "\n",
    "plt.show()"
   ]
  },
  {
   "cell_type": "code",
   "execution_count": null,
   "metadata": {
    "collapsed": false
   },
   "outputs": [],
   "source": [
    "cluster = fcluster(Z=linkage_matrix, t=0.0001)      "
   ]
  },
  {
   "cell_type": "code",
   "execution_count": null,
   "metadata": {
    "collapsed": false
   },
   "outputs": [],
   "source": [
    "import collections\n",
    "d={}\n",
    "for tweetid, clusterid in enumerate(cluster):\n",
    "    if not clusterid in d: d[clusterid]=[]\n",
    "    d[clusterid].append(tweetid)\n",
    "print(d)"
   ]
  },
  {
   "cell_type": "code",
   "execution_count": null,
   "metadata": {
    "collapsed": false
   },
   "outputs": [],
   "source": [
    "cluster_df = pd.DataFrame(columns=['text', 'tweetids'])\n",
    "cluster_df['text'] = []\n",
    "cluster_df['tweetids'] = []"
   ]
  },
  {
   "cell_type": "code",
   "execution_count": null,
   "metadata": {
    "collapsed": false
   },
   "outputs": [],
   "source": [
    "rows_list = []\n",
    "for key, values in d.items():\n",
    "    text =set()\n",
    "    ids=[]\n",
    "    for value in values:\n",
    "        for word in month['text'][value]:\n",
    "            text.add(word) \n",
    "        ids.append(month['id'][value])\n",
    "        \n",
    "    dict1 = {'text':list(text), 'tweetids':ids}\n",
    "\n",
    "    rows_list.append(dict1)\n",
    "\n",
    "df = pd.DataFrame(rows_list) \n",
    "df"
   ]
  },
  {
   "cell_type": "markdown",
   "metadata": {},
   "source": [
    "Now that potential events are detected, we will first of all keep only event with at least 5 tweets talking about it and then we will look if there are at least 3 different users."
   ]
  },
  {
   "cell_type": "code",
   "execution_count": null,
   "metadata": {
    "collapsed": false
   },
   "outputs": [],
   "source": [
    "for index in range(0,len(df)):\n",
    "    if len(df['tweetids'][index])<5:\n",
    "        df.drop(index, inplace=True)    "
   ]
  },
  {
   "cell_type": "code",
   "execution_count": null,
   "metadata": {
    "collapsed": false
   },
   "outputs": [],
   "source": [
    "df.reset_index(drop=True)"
   ]
  },
  {
   "cell_type": "code",
   "execution_count": null,
   "metadata": {
    "collapsed": false
   },
   "outputs": [],
   "source": [
    "month.set_index('id', inplace=True)"
   ]
  },
  {
   "cell_type": "code",
   "execution_count": null,
   "metadata": {
    "collapsed": false
   },
   "outputs": [],
   "source": [
    "df.reset_index(inplace=True, drop=True)"
   ]
  },
  {
   "cell_type": "code",
   "execution_count": null,
   "metadata": {
    "collapsed": false
   },
   "outputs": [],
   "source": [
    "for index in range(0,len(df)):\n",
    "    users=[]\n",
    "    for tweetid in df['tweetids'][index]:\n",
    "        users.append(month['userId'][tweetid])\n",
    "    if(len(users) < 3):\n",
    "        df.drop(index, inplace=True)\n",
    "df\n",
    "        "
   ]
  },
  {
   "cell_type": "markdown",
   "metadata": {},
   "source": [
    "So now we have that these events are described by at least 5 tweets and at least 3 users. We will now take a look at the position of those tweets and see if they are physical event or just trending tweets."
   ]
  },
  {
   "cell_type": "code",
   "execution_count": null,
   "metadata": {
    "collapsed": false
   },
   "outputs": [],
   "source": [
    "minlongitude = []\n",
    "maxlongitude = []\n",
    "minlatitude = []\n",
    "maxlatitude = []\n",
    "for index in range(0,len(df)):\n",
    "    minlong = 50\n",
    "    minlat = 50\n",
    "    maxlong = 0\n",
    "    maxlat = 0\n",
    "    for tweetid in df['tweetids'][index]:\n",
    "        if(month['longitude'][tweetid] < minlong):\n",
    "            minlong=month['longitude'][tweetid]\n",
    "        if(month['longitude'][tweetid] > maxlong):\n",
    "            maxlong=month['longitude'][tweetid]\n",
    "        if(month['latitude'][tweetid] < minlat):\n",
    "            minlat=month['latitude'][tweetid]\n",
    "        if(month['latitude'][tweetid] > maxlat):\n",
    "            maxlat=month['latitude'][tweetid]\n",
    "        \n",
    "    minlongitude.append(minlong)\n",
    "    maxlongitude.append(maxlong)\n",
    "    minlatitude.append(minlat)\n",
    "    maxlatitude.append(maxlat)\n",
    "\n",
    "df['minlongitude'] = minlongitude\n",
    "df['maxlongitude'] = maxlongitude\n",
    "df['minlatitude'] = minlatitude\n",
    "df['maxlatitude'] = maxlatitude\n",
    "df\n",
    "        "
   ]
  },
  {
   "cell_type": "code",
   "execution_count": null,
   "metadata": {
    "collapsed": false
   },
   "outputs": [],
   "source": [
    "len(df['tweetids'][0])"
   ]
  },
  {
   "cell_type": "code",
   "execution_count": null,
   "metadata": {
    "collapsed": false
   },
   "outputs": [],
   "source": [
    "df['text'][1]"
   ]
  },
  {
   "cell_type": "code",
   "execution_count": null,
   "metadata": {
    "collapsed": true
   },
   "outputs": [],
   "source": [
    "from sklearn.metrics.pairwise import cosine_similarity\n",
    "dist_cosine = 1 - cosine_similarity(ttm)"
   ]
  },
  {
   "cell_type": "code",
   "execution_count": null,
   "metadata": {
    "collapsed": false
   },
   "outputs": [],
   "source": [
    "np.round(dist_cosine, 2)"
   ]
  },
  {
   "cell_type": "code",
   "execution_count": null,
   "metadata": {
    "collapsed": false
   },
   "outputs": [],
   "source": [
    "from scipy.cluster.hierarchy import ward, dendrogram\n",
    "import matplotlib.pyplot as plt\n",
    "\n",
    "linkage_matrix = ward(dist_cosine)\n",
    "\n",
    "dendrogram(linkage_matrix, orientation=\"left\")\n",
    "\n",
    "plt.tight_layout()  # fixes margins\n",
    "\n",
    "plt.show()"
   ]
  },
  {
   "cell_type": "code",
   "execution_count": null,
   "metadata": {
    "collapsed": true
   },
   "outputs": [],
   "source": []
  }
 ],
 "metadata": {
  "anaconda-cloud": {},
  "kernelspec": {
   "display_name": "Python [conda root]",
   "language": "python",
   "name": "conda-root-py"
  },
  "language_info": {
   "codemirror_mode": {
    "name": "ipython",
    "version": 3
   },
   "file_extension": ".py",
   "mimetype": "text/x-python",
   "name": "python",
   "nbconvert_exporter": "python",
   "pygments_lexer": "ipython3",
   "version": "3.5.2"
  }
 },
 "nbformat": 4,
 "nbformat_minor": 1
}
