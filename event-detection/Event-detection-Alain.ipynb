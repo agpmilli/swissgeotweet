{
 "cells": [
  {
   "cell_type": "code",
   "execution_count": 1,
   "metadata": {
    "collapsed": true
   },
   "outputs": [],
   "source": [
    "import pandas as pd\n",
    "import numpy as np\n",
    "import string\n",
    "import nltk\n",
    "import re\n",
    "from nltk.corpus import stopwords"
   ]
  },
  {
   "cell_type": "code",
   "execution_count": 2,
   "metadata": {
    "collapsed": true
   },
   "outputs": [],
   "source": [
    "col_event_split = ['id','userId', 'createdAt', 'text', 'longitude', 'latitude', 'placeId', 'inReplyTo', 'placeLatitude', 'placeLongitude']"
   ]
  },
  {
   "cell_type": "code",
   "execution_count": 3,
   "metadata": {
    "collapsed": true
   },
   "outputs": [],
   "source": [
    "parse_dates = ['createdAt']"
   ]
  },
  {
   "cell_type": "code",
   "execution_count": 4,
   "metadata": {
    "collapsed": false
   },
   "outputs": [],
   "source": [
    "tweets = pd.read_csv('../twitter-swisscom/twex_event_corrected.tsv', sep=\"\\t\", encoding='utf-8', escapechar='\\\\', names=col_event_split, parse_dates=parse_dates, na_values='N', header=None, nrows=100)"
   ]
  },
  {
   "cell_type": "code",
   "execution_count": 5,
   "metadata": {
    "collapsed": false
   },
   "outputs": [
    {
     "data": {
      "text/html": [
       "<div>\n",
       "<table border=\"1\" class=\"dataframe\">\n",
       "  <thead>\n",
       "    <tr style=\"text-align: right;\">\n",
       "      <th></th>\n",
       "      <th>id</th>\n",
       "      <th>userId</th>\n",
       "      <th>createdAt</th>\n",
       "      <th>text</th>\n",
       "      <th>longitude</th>\n",
       "      <th>latitude</th>\n",
       "      <th>placeId</th>\n",
       "      <th>inReplyTo</th>\n",
       "      <th>placeLatitude</th>\n",
       "      <th>placeLongitude</th>\n",
       "    </tr>\n",
       "  </thead>\n",
       "  <tbody>\n",
       "    <tr>\n",
       "      <th>0</th>\n",
       "      <td>9514097914</td>\n",
       "      <td>17341045</td>\n",
       "      <td>2010-02-23 05:55:51</td>\n",
       "      <td>Guuuuten Morgen! :-)</td>\n",
       "      <td>7.43926</td>\n",
       "      <td>46.9489</td>\n",
       "      <td>NaN</td>\n",
       "      <td>NaN</td>\n",
       "      <td>NaN</td>\n",
       "      <td>NaN</td>\n",
       "    </tr>\n",
       "    <tr>\n",
       "      <th>1</th>\n",
       "      <td>9514846412</td>\n",
       "      <td>7198282</td>\n",
       "      <td>2010-02-23 06:22:40</td>\n",
       "      <td>Still the best coffee in town — at La Stanza h...</td>\n",
       "      <td>8.53781</td>\n",
       "      <td>47.3678</td>\n",
       "      <td>NaN</td>\n",
       "      <td>NaN</td>\n",
       "      <td>NaN</td>\n",
       "      <td>NaN</td>\n",
       "    </tr>\n",
       "    <tr>\n",
       "      <th>2</th>\n",
       "      <td>9516574359</td>\n",
       "      <td>14657884</td>\n",
       "      <td>2010-02-23 07:34:25</td>\n",
       "      <td>It has been a week or so.. and today I just co...</td>\n",
       "      <td>6.13396</td>\n",
       "      <td>46.1951</td>\n",
       "      <td>NaN</td>\n",
       "      <td>NaN</td>\n",
       "      <td>NaN</td>\n",
       "      <td>NaN</td>\n",
       "    </tr>\n",
       "    <tr>\n",
       "      <th>3</th>\n",
       "      <td>9516952605</td>\n",
       "      <td>14703863</td>\n",
       "      <td>2010-02-23 07:51:47</td>\n",
       "      <td>Getting ready..  http://twitpic.com/14v8gz</td>\n",
       "      <td>8.81749</td>\n",
       "      <td>47.2288</td>\n",
       "      <td>NaN</td>\n",
       "      <td>NaN</td>\n",
       "      <td>NaN</td>\n",
       "      <td>NaN</td>\n",
       "    </tr>\n",
       "    <tr>\n",
       "      <th>4</th>\n",
       "      <td>9517198943</td>\n",
       "      <td>14393717</td>\n",
       "      <td>2010-02-23 08:02:57</td>\n",
       "      <td>Un peu de réconfort liquide en take away après...</td>\n",
       "      <td>6.63254</td>\n",
       "      <td>46.5199</td>\n",
       "      <td>NaN</td>\n",
       "      <td>NaN</td>\n",
       "      <td>NaN</td>\n",
       "      <td>NaN</td>\n",
       "    </tr>\n",
       "  </tbody>\n",
       "</table>\n",
       "</div>"
      ],
      "text/plain": [
       "           id    userId           createdAt  \\\n",
       "0  9514097914  17341045 2010-02-23 05:55:51   \n",
       "1  9514846412   7198282 2010-02-23 06:22:40   \n",
       "2  9516574359  14657884 2010-02-23 07:34:25   \n",
       "3  9516952605  14703863 2010-02-23 07:51:47   \n",
       "4  9517198943  14393717 2010-02-23 08:02:57   \n",
       "\n",
       "                                                text  longitude  latitude  \\\n",
       "0                               Guuuuten Morgen! :-)    7.43926   46.9489   \n",
       "1  Still the best coffee in town — at La Stanza h...    8.53781   47.3678   \n",
       "2  It has been a week or so.. and today I just co...    6.13396   46.1951   \n",
       "3         Getting ready..  http://twitpic.com/14v8gz    8.81749   47.2288   \n",
       "4  Un peu de réconfort liquide en take away après...    6.63254   46.5199   \n",
       "\n",
       "   placeId  inReplyTo  placeLatitude  placeLongitude  \n",
       "0      NaN        NaN            NaN             NaN  \n",
       "1      NaN        NaN            NaN             NaN  \n",
       "2      NaN        NaN            NaN             NaN  \n",
       "3      NaN        NaN            NaN             NaN  \n",
       "4      NaN        NaN            NaN             NaN  "
      ]
     },
     "execution_count": 5,
     "metadata": {},
     "output_type": "execute_result"
    }
   ],
   "source": [
    "tweets.head()"
   ]
  },
  {
   "cell_type": "markdown",
   "metadata": {},
   "source": [
    "Different informations on the longitude and latitude are given, the columns longitude/latitude are the position of the Tweet as reported by the user or client application. The place longitude/latitude is  indicates that the tweet is associated (but not necessarily originating from) a Place. And as we can see on the head of the table, the place is not always set.\n",
    "\n",
    "We decided to use the longitude/latitude columns to represent the position of a tweet and if they are null we will use the placeLatitude and placeLongitude. If both are null we will have to drop the entry as a tweet without position is not usefull for event detection."
   ]
  },
  {
   "cell_type": "code",
   "execution_count": 7,
   "metadata": {
    "collapsed": false
   },
   "outputs": [
    {
     "name": "stdout",
     "output_type": "stream",
     "text": [
      "(100, 10)\n"
     ]
    },
    {
     "data": {
      "text/plain": [
       "id                         int64\n",
       "userId                     int64\n",
       "createdAt         datetime64[ns]\n",
       "text                      object\n",
       "longitude                float64\n",
       "latitude                 float64\n",
       "placeId                  float64\n",
       "inReplyTo                float64\n",
       "placeLatitude            float64\n",
       "placeLongitude           float64\n",
       "dtype: object"
      ]
     },
     "execution_count": 7,
     "metadata": {},
     "output_type": "execute_result"
    }
   ],
   "source": [
    "print(tweets.shape)\n",
    "tweets.dtypes"
   ]
  },
  {
   "cell_type": "code",
   "execution_count": 8,
   "metadata": {
    "collapsed": false
   },
   "outputs": [],
   "source": [
    "\"\"\"\n",
    "Check if the longitude and latitude are set. \n",
    "If not, check for the place latitude and longitude and replace.\n",
    "If not, drop the row\n",
    "\"\"\"\n",
    "def find_position(row):\n",
    "    if(np.isnan(row['longitude'])) and (not np.isnan(row['placeLongitude'])):\n",
    "        row['longitude'] = row['placeLongitude']\n",
    "    if(not(np.isnan(row['longitude'])) and np.isnan(row['latitude']) and (not np.isnan(row['placeLatitude']))):\n",
    "        row['latitude'] = row['placeLatitude']\n",
    "    return row"
   ]
  },
  {
   "cell_type": "code",
   "execution_count": 9,
   "metadata": {
    "collapsed": false
   },
   "outputs": [
    {
     "name": "stdout",
     "output_type": "stream",
     "text": [
      "(100, 10)\n"
     ]
    }
   ],
   "source": [
    "tweets = tweets.apply(find_position, axis=1)\n",
    "print(tweets.shape)"
   ]
  },
  {
   "cell_type": "code",
   "execution_count": 10,
   "metadata": {
    "collapsed": false
   },
   "outputs": [
    {
     "data": {
      "text/html": [
       "<div>\n",
       "<table border=\"1\" class=\"dataframe\">\n",
       "  <thead>\n",
       "    <tr style=\"text-align: right;\">\n",
       "      <th></th>\n",
       "      <th>id</th>\n",
       "      <th>userId</th>\n",
       "      <th>createdAt</th>\n",
       "      <th>text</th>\n",
       "      <th>longitude</th>\n",
       "      <th>latitude</th>\n",
       "      <th>placeId</th>\n",
       "      <th>inReplyTo</th>\n",
       "      <th>placeLatitude</th>\n",
       "      <th>placeLongitude</th>\n",
       "    </tr>\n",
       "  </thead>\n",
       "  <tbody>\n",
       "    <tr>\n",
       "      <th>0</th>\n",
       "      <td>9514097914</td>\n",
       "      <td>17341045</td>\n",
       "      <td>2010-02-23 05:55:51</td>\n",
       "      <td>Guuuuten Morgen! :-)</td>\n",
       "      <td>7.43926</td>\n",
       "      <td>46.9489</td>\n",
       "      <td>NaN</td>\n",
       "      <td>NaN</td>\n",
       "      <td>NaN</td>\n",
       "      <td>NaN</td>\n",
       "    </tr>\n",
       "    <tr>\n",
       "      <th>1</th>\n",
       "      <td>9514846412</td>\n",
       "      <td>7198282</td>\n",
       "      <td>2010-02-23 06:22:40</td>\n",
       "      <td>Still the best coffee in town — at La Stanza h...</td>\n",
       "      <td>8.53781</td>\n",
       "      <td>47.3678</td>\n",
       "      <td>NaN</td>\n",
       "      <td>NaN</td>\n",
       "      <td>NaN</td>\n",
       "      <td>NaN</td>\n",
       "    </tr>\n",
       "    <tr>\n",
       "      <th>2</th>\n",
       "      <td>9516574359</td>\n",
       "      <td>14657884</td>\n",
       "      <td>2010-02-23 07:34:25</td>\n",
       "      <td>It has been a week or so.. and today I just co...</td>\n",
       "      <td>6.13396</td>\n",
       "      <td>46.1951</td>\n",
       "      <td>NaN</td>\n",
       "      <td>NaN</td>\n",
       "      <td>NaN</td>\n",
       "      <td>NaN</td>\n",
       "    </tr>\n",
       "    <tr>\n",
       "      <th>3</th>\n",
       "      <td>9516952605</td>\n",
       "      <td>14703863</td>\n",
       "      <td>2010-02-23 07:51:47</td>\n",
       "      <td>Getting ready..  http://twitpic.com/14v8gz</td>\n",
       "      <td>8.81749</td>\n",
       "      <td>47.2288</td>\n",
       "      <td>NaN</td>\n",
       "      <td>NaN</td>\n",
       "      <td>NaN</td>\n",
       "      <td>NaN</td>\n",
       "    </tr>\n",
       "    <tr>\n",
       "      <th>4</th>\n",
       "      <td>9517198943</td>\n",
       "      <td>14393717</td>\n",
       "      <td>2010-02-23 08:02:57</td>\n",
       "      <td>Un peu de réconfort liquide en take away après...</td>\n",
       "      <td>6.63254</td>\n",
       "      <td>46.5199</td>\n",
       "      <td>NaN</td>\n",
       "      <td>NaN</td>\n",
       "      <td>NaN</td>\n",
       "      <td>NaN</td>\n",
       "    </tr>\n",
       "  </tbody>\n",
       "</table>\n",
       "</div>"
      ],
      "text/plain": [
       "           id    userId           createdAt  \\\n",
       "0  9514097914  17341045 2010-02-23 05:55:51   \n",
       "1  9514846412   7198282 2010-02-23 06:22:40   \n",
       "2  9516574359  14657884 2010-02-23 07:34:25   \n",
       "3  9516952605  14703863 2010-02-23 07:51:47   \n",
       "4  9517198943  14393717 2010-02-23 08:02:57   \n",
       "\n",
       "                                                text  longitude  latitude  \\\n",
       "0                               Guuuuten Morgen! :-)    7.43926   46.9489   \n",
       "1  Still the best coffee in town — at La Stanza h...    8.53781   47.3678   \n",
       "2  It has been a week or so.. and today I just co...    6.13396   46.1951   \n",
       "3         Getting ready..  http://twitpic.com/14v8gz    8.81749   47.2288   \n",
       "4  Un peu de réconfort liquide en take away après...    6.63254   46.5199   \n",
       "\n",
       "   placeId  inReplyTo  placeLatitude  placeLongitude  \n",
       "0      NaN        NaN            NaN             NaN  \n",
       "1      NaN        NaN            NaN             NaN  \n",
       "2      NaN        NaN            NaN             NaN  \n",
       "3      NaN        NaN            NaN             NaN  \n",
       "4      NaN        NaN            NaN             NaN  "
      ]
     },
     "execution_count": 10,
     "metadata": {},
     "output_type": "execute_result"
    }
   ],
   "source": [
    "tweets.head()"
   ]
  },
  {
   "cell_type": "markdown",
   "metadata": {},
   "source": [
    "We can now drop the columns placeLongitude and placeLatitude as they don't give us anymore informations."
   ]
  },
  {
   "cell_type": "code",
   "execution_count": 11,
   "metadata": {
    "collapsed": false
   },
   "outputs": [],
   "source": [
    "tweets = tweets.drop(['placeLatitude', 'placeLongitude'], axis=1)"
   ]
  },
  {
   "cell_type": "markdown",
   "metadata": {},
   "source": [
    "Then we drop the NaN values in Longitude and Latitude columns as we need a position to detect event."
   ]
  },
  {
   "cell_type": "code",
   "execution_count": 12,
   "metadata": {
    "collapsed": false
   },
   "outputs": [
    {
     "name": "stdout",
     "output_type": "stream",
     "text": [
      "Number of tweets before dropping the one without position :  100\n",
      "Number of tweets before dropping the one without position :  100\n",
      "Percentage of tweets lost :  0.0\n"
     ]
    }
   ],
   "source": [
    "len_before = len(tweets.index)\n",
    "tweets = tweets.dropna(subset=['longitude', 'latitude'])\n",
    "len_after = len(tweets.index)\n",
    "print(\"Number of tweets before dropping the one without position : \", len_before)\n",
    "print(\"Number of tweets before dropping the one without position : \", len_after)\n",
    "print(\"Percentage of tweets lost : \", ((len_before - len_after)/len_before)*100)"
   ]
  },
  {
   "cell_type": "markdown",
   "metadata": {},
   "source": [
    "## Event detection\n",
    "\n",
    "We want to detect the event from the tweets we now extracted. To do so we had to do some assumptions. We decided to work with the text to find event. \n",
    "- Hashtags can be a good estimators of what event were on at the time of the tweets.\n",
    "- Events can take place on several days but we will decide to take tweets day per day."
   ]
  },
  {
   "cell_type": "markdown",
   "metadata": {},
   "source": [
    "As we decided to detect an event by its day of occurence we create a new column that gives us the information of the day."
   ]
  },
  {
   "cell_type": "code",
   "execution_count": 13,
   "metadata": {
    "collapsed": false
   },
   "outputs": [],
   "source": [
    "tweets['date'] = pd.DatetimeIndex(tweets['createdAt']).normalize()"
   ]
  },
  {
   "cell_type": "markdown",
   "metadata": {},
   "source": [
    "TODO : Should we use the hour of the tweets or not ? (if not just delete the column 'createdAt')"
   ]
  },
  {
   "cell_type": "markdown",
   "metadata": {},
   "source": [
    "We decide to remove the stopwords from the tweets' text to keep only words that can describe an event."
   ]
  },
  {
   "cell_type": "code",
   "execution_count": 14,
   "metadata": {
    "collapsed": false
   },
   "outputs": [],
   "source": [
    "stop_words = set(stopwords.words('english'))\n",
    "stop_words.update(stopwords.words('french'))\n",
    "stop_words.update(stopwords.words('german'))\n",
    "stop_words.update(stopwords.words('italian'))\n",
    "stop_words.update(string.punctuation)"
   ]
  },
  {
   "cell_type": "markdown",
   "metadata": {},
   "source": [
    "We remove the stopwords but we also remove the URLs and the @ mentions as they are not useful to detect events"
   ]
  },
  {
   "cell_type": "code",
   "execution_count": 15,
   "metadata": {
    "collapsed": false
   },
   "outputs": [],
   "source": [
    "def text_process(row):\n",
    "    text = row['text']\n",
    "    text = re.sub(r\"http\\S+\", \"\", text)\n",
    "    text = re.sub(r\"@ \\S+\", \"\", text)\n",
    "    text = re.sub(r\"@\\S+\", \"\", text)\n",
    "    text = text.split()\n",
    "    text  = [word for word in text if word.lower() not in stop_words]\n",
    "    row['text'] = text\n",
    "    return row"
   ]
  },
  {
   "cell_type": "code",
   "execution_count": 16,
   "metadata": {
    "collapsed": false
   },
   "outputs": [
    {
     "data": {
      "text/html": [
       "<div>\n",
       "<table border=\"1\" class=\"dataframe\">\n",
       "  <thead>\n",
       "    <tr style=\"text-align: right;\">\n",
       "      <th></th>\n",
       "      <th>id</th>\n",
       "      <th>userId</th>\n",
       "      <th>createdAt</th>\n",
       "      <th>text</th>\n",
       "      <th>longitude</th>\n",
       "      <th>latitude</th>\n",
       "      <th>placeId</th>\n",
       "      <th>inReplyTo</th>\n",
       "      <th>date</th>\n",
       "    </tr>\n",
       "  </thead>\n",
       "  <tbody>\n",
       "    <tr>\n",
       "      <th>0</th>\n",
       "      <td>9514097914</td>\n",
       "      <td>17341045</td>\n",
       "      <td>2010-02-23 05:55:51</td>\n",
       "      <td>[Guuuuten, Morgen!, :-)]</td>\n",
       "      <td>7.43926</td>\n",
       "      <td>46.9489</td>\n",
       "      <td>NaN</td>\n",
       "      <td>NaN</td>\n",
       "      <td>2010-02-23</td>\n",
       "    </tr>\n",
       "    <tr>\n",
       "      <th>1</th>\n",
       "      <td>9514846412</td>\n",
       "      <td>7198282</td>\n",
       "      <td>2010-02-23 06:22:40</td>\n",
       "      <td>[Still, best, coffee, town, —, Stanza]</td>\n",
       "      <td>8.53781</td>\n",
       "      <td>47.3678</td>\n",
       "      <td>NaN</td>\n",
       "      <td>NaN</td>\n",
       "      <td>2010-02-23</td>\n",
       "    </tr>\n",
       "    <tr>\n",
       "      <th>2</th>\n",
       "      <td>9516574359</td>\n",
       "      <td>14657884</td>\n",
       "      <td>2010-02-23 07:34:25</td>\n",
       "      <td>[week, so.., today, couldn't, focus, Sportif, ...</td>\n",
       "      <td>6.13396</td>\n",
       "      <td>46.1951</td>\n",
       "      <td>NaN</td>\n",
       "      <td>NaN</td>\n",
       "      <td>2010-02-23</td>\n",
       "    </tr>\n",
       "    <tr>\n",
       "      <th>3</th>\n",
       "      <td>9516952605</td>\n",
       "      <td>14703863</td>\n",
       "      <td>2010-02-23 07:51:47</td>\n",
       "      <td>[Getting, ready..]</td>\n",
       "      <td>8.81749</td>\n",
       "      <td>47.2288</td>\n",
       "      <td>NaN</td>\n",
       "      <td>NaN</td>\n",
       "      <td>2010-02-23</td>\n",
       "    </tr>\n",
       "    <tr>\n",
       "      <th>4</th>\n",
       "      <td>9517198943</td>\n",
       "      <td>14393717</td>\n",
       "      <td>2010-02-23 08:02:57</td>\n",
       "      <td>[peu, réconfort, liquide, take, away, après, d...</td>\n",
       "      <td>6.63254</td>\n",
       "      <td>46.5199</td>\n",
       "      <td>NaN</td>\n",
       "      <td>NaN</td>\n",
       "      <td>2010-02-23</td>\n",
       "    </tr>\n",
       "  </tbody>\n",
       "</table>\n",
       "</div>"
      ],
      "text/plain": [
       "           id    userId           createdAt  \\\n",
       "0  9514097914  17341045 2010-02-23 05:55:51   \n",
       "1  9514846412   7198282 2010-02-23 06:22:40   \n",
       "2  9516574359  14657884 2010-02-23 07:34:25   \n",
       "3  9516952605  14703863 2010-02-23 07:51:47   \n",
       "4  9517198943  14393717 2010-02-23 08:02:57   \n",
       "\n",
       "                                                text  longitude  latitude  \\\n",
       "0                           [Guuuuten, Morgen!, :-)]    7.43926   46.9489   \n",
       "1             [Still, best, coffee, town, —, Stanza]    8.53781   47.3678   \n",
       "2  [week, so.., today, couldn't, focus, Sportif, ...    6.13396   46.1951   \n",
       "3                                 [Getting, ready..]    8.81749   47.2288   \n",
       "4  [peu, réconfort, liquide, take, away, après, d...    6.63254   46.5199   \n",
       "\n",
       "   placeId  inReplyTo       date  \n",
       "0      NaN        NaN 2010-02-23  \n",
       "1      NaN        NaN 2010-02-23  \n",
       "2      NaN        NaN 2010-02-23  \n",
       "3      NaN        NaN 2010-02-23  \n",
       "4      NaN        NaN 2010-02-23  "
      ]
     },
     "execution_count": 16,
     "metadata": {},
     "output_type": "execute_result"
    }
   ],
   "source": [
    "tweets = tweets.apply(text_process, axis=1)\n",
    "tweets.head()"
   ]
  },
  {
   "cell_type": "markdown",
   "metadata": {},
   "source": [
    "Now that the words should be clean we can find occurences of the same word on the same day and find event from there.\n",
    "We will create list with words still in the 'text' field and we also drop the row where the text is empty."
   ]
  },
  {
   "cell_type": "code",
   "execution_count": 17,
   "metadata": {
    "collapsed": false
   },
   "outputs": [
    {
     "data": {
      "text/html": [
       "<div>\n",
       "<table border=\"1\" class=\"dataframe\">\n",
       "  <thead>\n",
       "    <tr style=\"text-align: right;\">\n",
       "      <th></th>\n",
       "      <th>id</th>\n",
       "      <th>userId</th>\n",
       "      <th>createdAt</th>\n",
       "      <th>text</th>\n",
       "      <th>longitude</th>\n",
       "      <th>latitude</th>\n",
       "      <th>placeId</th>\n",
       "      <th>inReplyTo</th>\n",
       "    </tr>\n",
       "    <tr>\n",
       "      <th>date</th>\n",
       "      <th></th>\n",
       "      <th></th>\n",
       "      <th></th>\n",
       "      <th></th>\n",
       "      <th></th>\n",
       "      <th></th>\n",
       "      <th></th>\n",
       "      <th></th>\n",
       "    </tr>\n",
       "  </thead>\n",
       "  <tbody>\n",
       "    <tr>\n",
       "      <th>2010-02-23</th>\n",
       "      <td>9514097914</td>\n",
       "      <td>17341045</td>\n",
       "      <td>2010-02-23 05:55:51</td>\n",
       "      <td>[Guuuuten, Morgen!, :-)]</td>\n",
       "      <td>7.43926</td>\n",
       "      <td>46.9489</td>\n",
       "      <td>NaN</td>\n",
       "      <td>NaN</td>\n",
       "    </tr>\n",
       "    <tr>\n",
       "      <th>2010-02-23</th>\n",
       "      <td>9514846412</td>\n",
       "      <td>7198282</td>\n",
       "      <td>2010-02-23 06:22:40</td>\n",
       "      <td>[Still, best, coffee, town, —, Stanza]</td>\n",
       "      <td>8.53781</td>\n",
       "      <td>47.3678</td>\n",
       "      <td>NaN</td>\n",
       "      <td>NaN</td>\n",
       "    </tr>\n",
       "    <tr>\n",
       "      <th>2010-02-23</th>\n",
       "      <td>9516574359</td>\n",
       "      <td>14657884</td>\n",
       "      <td>2010-02-23 07:34:25</td>\n",
       "      <td>[week, so.., today, couldn't, focus, Sportif, ...</td>\n",
       "      <td>6.13396</td>\n",
       "      <td>46.1951</td>\n",
       "      <td>NaN</td>\n",
       "      <td>NaN</td>\n",
       "    </tr>\n",
       "    <tr>\n",
       "      <th>2010-02-23</th>\n",
       "      <td>9516952605</td>\n",
       "      <td>14703863</td>\n",
       "      <td>2010-02-23 07:51:47</td>\n",
       "      <td>[Getting, ready..]</td>\n",
       "      <td>8.81749</td>\n",
       "      <td>47.2288</td>\n",
       "      <td>NaN</td>\n",
       "      <td>NaN</td>\n",
       "    </tr>\n",
       "    <tr>\n",
       "      <th>2010-02-23</th>\n",
       "      <td>9517198943</td>\n",
       "      <td>14393717</td>\n",
       "      <td>2010-02-23 08:02:57</td>\n",
       "      <td>[peu, réconfort, liquide, take, away, après, d...</td>\n",
       "      <td>6.63254</td>\n",
       "      <td>46.5199</td>\n",
       "      <td>NaN</td>\n",
       "      <td>NaN</td>\n",
       "    </tr>\n",
       "  </tbody>\n",
       "</table>\n",
       "</div>"
      ],
      "text/plain": [
       "                    id    userId           createdAt  \\\n",
       "date                                                   \n",
       "2010-02-23  9514097914  17341045 2010-02-23 05:55:51   \n",
       "2010-02-23  9514846412   7198282 2010-02-23 06:22:40   \n",
       "2010-02-23  9516574359  14657884 2010-02-23 07:34:25   \n",
       "2010-02-23  9516952605  14703863 2010-02-23 07:51:47   \n",
       "2010-02-23  9517198943  14393717 2010-02-23 08:02:57   \n",
       "\n",
       "                                                         text  longitude  \\\n",
       "date                                                                       \n",
       "2010-02-23                           [Guuuuten, Morgen!, :-)]    7.43926   \n",
       "2010-02-23             [Still, best, coffee, town, —, Stanza]    8.53781   \n",
       "2010-02-23  [week, so.., today, couldn't, focus, Sportif, ...    6.13396   \n",
       "2010-02-23                                 [Getting, ready..]    8.81749   \n",
       "2010-02-23  [peu, réconfort, liquide, take, away, après, d...    6.63254   \n",
       "\n",
       "            latitude  placeId  inReplyTo  \n",
       "date                                      \n",
       "2010-02-23   46.9489      NaN        NaN  \n",
       "2010-02-23   47.3678      NaN        NaN  \n",
       "2010-02-23   46.1951      NaN        NaN  \n",
       "2010-02-23   47.2288      NaN        NaN  \n",
       "2010-02-23   46.5199      NaN        NaN  "
      ]
     },
     "execution_count": 17,
     "metadata": {},
     "output_type": "execute_result"
    }
   ],
   "source": [
    "tweets = tweets.set_index('date')\n",
    "tweets.head()"
   ]
  },
  {
   "cell_type": "code",
   "execution_count": 18,
   "metadata": {
    "collapsed": true
   },
   "outputs": [],
   "source": [
    "tweets.dropna(subset=['text'], inplace=True)"
   ]
  },
  {
   "cell_type": "markdown",
   "metadata": {},
   "source": [
    "Now that the text is pretty much clean we want to get the hashtags from the tweets because they are really helpful to detect the events. So we create a column with the hashtags :"
   ]
  },
  {
   "cell_type": "code",
   "execution_count": 24,
   "metadata": {
    "collapsed": false
   },
   "outputs": [
    {
     "data": {
      "text/plain": [
       "[]"
      ]
     },
     "execution_count": 24,
     "metadata": {},
     "output_type": "execute_result"
    }
   ],
   "source": [
    "#tweets['hashtags']= [word for word in tweets['text'] if (word[0] in '$')]\n",
    "test = [word for word in tweets['text'] if(word[0] in '#')]\n",
    "test"
   ]
  },
  {
   "cell_type": "code",
   "execution_count": null,
   "metadata": {
    "collapsed": true
   },
   "outputs": [],
   "source": []
  },
  {
   "cell_type": "code",
   "execution_count": null,
   "metadata": {
    "collapsed": true
   },
   "outputs": [],
   "source": []
  },
  {
   "cell_type": "code",
   "execution_count": null,
   "metadata": {
    "collapsed": true
   },
   "outputs": [],
   "source": []
  }
 ],
 "metadata": {
  "anaconda-cloud": {},
  "kernelspec": {
   "display_name": "Python [conda root]",
   "language": "python",
   "name": "conda-root-py"
  },
  "language_info": {
   "codemirror_mode": {
    "name": "ipython",
    "version": 3
   },
   "file_extension": ".py",
   "mimetype": "text/x-python",
   "name": "python",
   "nbconvert_exporter": "python",
   "pygments_lexer": "ipython3",
   "version": "3.5.2"
  }
 },
 "nbformat": 4,
 "nbformat_minor": 1
}
