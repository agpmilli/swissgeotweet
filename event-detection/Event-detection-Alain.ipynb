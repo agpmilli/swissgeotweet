{
 "cells": [
  {
   "cell_type": "markdown",
   "metadata": {},
   "source": [
    "# Twitter-Swisscom Project\n",
    "\n",
    "## EVENT DETECTION "
   ]
  },
  {
   "cell_type": "code",
   "execution_count": 1,
   "metadata": {
    "collapsed": false
   },
   "outputs": [],
   "source": [
    "import pandas as pd\n",
    "import numpy as np\n",
    "import matplotlib.pyplot as plt\n",
    "import nltk\n",
    "from utils import *\n",
    "from collections import Counter\n",
    "from sklearn.feature_extraction.text import CountVectorizer\n",
    "from sklearn.metrics.pairwise import euclidean_distances\n",
    "from scipy.cluster.hierarchy import ward, dendrogram,fcluster\n",
    "\n",
    "from sklearn.cluster import DBSCAN\n",
    "from sklearn import metrics\n",
    "\n",
    "import datashader as ds\n",
    "import datashader.transfer_functions as tf"
   ]
  },
  {
   "cell_type": "code",
   "execution_count": 2,
   "metadata": {
    "collapsed": true
   },
   "outputs": [],
   "source": [
    "col_event_split = ['id','userId', 'createdAt', 'text', 'longitude', 'latitude', 'placeId', 'inReplyTo', 'placeLatitude', 'placeLongitude']"
   ]
  },
  {
   "cell_type": "code",
   "execution_count": 3,
   "metadata": {
    "collapsed": true
   },
   "outputs": [],
   "source": [
    "parse_dates = ['createdAt']"
   ]
  },
  {
   "cell_type": "code",
   "execution_count": 4,
   "metadata": {
    "collapsed": false
   },
   "outputs": [],
   "source": [
    "tweets = pd.read_csv('../twitter-swisscom/twex_event_corrected.tsv', sep=\"\\t\", encoding='utf-8', escapechar='\\\\', names=col_event_split, parse_dates=parse_dates, na_values='N', header=None, nrows=10000)"
   ]
  },
  {
   "cell_type": "code",
   "execution_count": 5,
   "metadata": {
    "collapsed": false,
    "scrolled": true
   },
   "outputs": [
    {
     "data": {
      "text/html": [
       "<div>\n",
       "<table border=\"1\" class=\"dataframe\">\n",
       "  <thead>\n",
       "    <tr style=\"text-align: right;\">\n",
       "      <th></th>\n",
       "      <th>id</th>\n",
       "      <th>userId</th>\n",
       "      <th>createdAt</th>\n",
       "      <th>text</th>\n",
       "      <th>longitude</th>\n",
       "      <th>latitude</th>\n",
       "      <th>placeId</th>\n",
       "      <th>inReplyTo</th>\n",
       "      <th>placeLatitude</th>\n",
       "      <th>placeLongitude</th>\n",
       "    </tr>\n",
       "  </thead>\n",
       "  <tbody>\n",
       "    <tr>\n",
       "      <th>0</th>\n",
       "      <td>9514097914</td>\n",
       "      <td>17341045</td>\n",
       "      <td>2010-02-23 05:55:51</td>\n",
       "      <td>Guuuuten Morgen! :-)</td>\n",
       "      <td>7.43926</td>\n",
       "      <td>46.9489</td>\n",
       "      <td>NaN</td>\n",
       "      <td>NaN</td>\n",
       "      <td>NaN</td>\n",
       "      <td>NaN</td>\n",
       "    </tr>\n",
       "    <tr>\n",
       "      <th>1</th>\n",
       "      <td>9514846412</td>\n",
       "      <td>7198282</td>\n",
       "      <td>2010-02-23 06:22:40</td>\n",
       "      <td>Still the best coffee in town — at La Stanza h...</td>\n",
       "      <td>8.53781</td>\n",
       "      <td>47.3678</td>\n",
       "      <td>NaN</td>\n",
       "      <td>NaN</td>\n",
       "      <td>NaN</td>\n",
       "      <td>NaN</td>\n",
       "    </tr>\n",
       "    <tr>\n",
       "      <th>2</th>\n",
       "      <td>9516574359</td>\n",
       "      <td>14657884</td>\n",
       "      <td>2010-02-23 07:34:25</td>\n",
       "      <td>It has been a week or so.. and today I just co...</td>\n",
       "      <td>6.13396</td>\n",
       "      <td>46.1951</td>\n",
       "      <td>NaN</td>\n",
       "      <td>NaN</td>\n",
       "      <td>NaN</td>\n",
       "      <td>NaN</td>\n",
       "    </tr>\n",
       "    <tr>\n",
       "      <th>3</th>\n",
       "      <td>9516952605</td>\n",
       "      <td>14703863</td>\n",
       "      <td>2010-02-23 07:51:47</td>\n",
       "      <td>Getting ready..  http://twitpic.com/14v8gz</td>\n",
       "      <td>8.81749</td>\n",
       "      <td>47.2288</td>\n",
       "      <td>NaN</td>\n",
       "      <td>NaN</td>\n",
       "      <td>NaN</td>\n",
       "      <td>NaN</td>\n",
       "    </tr>\n",
       "    <tr>\n",
       "      <th>4</th>\n",
       "      <td>9517198943</td>\n",
       "      <td>14393717</td>\n",
       "      <td>2010-02-23 08:02:57</td>\n",
       "      <td>Un peu de réconfort liquide en take away après...</td>\n",
       "      <td>6.63254</td>\n",
       "      <td>46.5199</td>\n",
       "      <td>NaN</td>\n",
       "      <td>NaN</td>\n",
       "      <td>NaN</td>\n",
       "      <td>NaN</td>\n",
       "    </tr>\n",
       "  </tbody>\n",
       "</table>\n",
       "</div>"
      ],
      "text/plain": [
       "           id    userId           createdAt  \\\n",
       "0  9514097914  17341045 2010-02-23 05:55:51   \n",
       "1  9514846412   7198282 2010-02-23 06:22:40   \n",
       "2  9516574359  14657884 2010-02-23 07:34:25   \n",
       "3  9516952605  14703863 2010-02-23 07:51:47   \n",
       "4  9517198943  14393717 2010-02-23 08:02:57   \n",
       "\n",
       "                                                text  longitude  latitude  \\\n",
       "0                               Guuuuten Morgen! :-)    7.43926   46.9489   \n",
       "1  Still the best coffee in town — at La Stanza h...    8.53781   47.3678   \n",
       "2  It has been a week or so.. and today I just co...    6.13396   46.1951   \n",
       "3         Getting ready..  http://twitpic.com/14v8gz    8.81749   47.2288   \n",
       "4  Un peu de réconfort liquide en take away après...    6.63254   46.5199   \n",
       "\n",
       "  placeId  inReplyTo  placeLatitude  placeLongitude  \n",
       "0     NaN        NaN            NaN             NaN  \n",
       "1     NaN        NaN            NaN             NaN  \n",
       "2     NaN        NaN            NaN             NaN  \n",
       "3     NaN        NaN            NaN             NaN  \n",
       "4     NaN        NaN            NaN             NaN  "
      ]
     },
     "execution_count": 5,
     "metadata": {},
     "output_type": "execute_result"
    }
   ],
   "source": [
    "tweets.head()"
   ]
  },
  {
   "cell_type": "code",
   "execution_count": 6,
   "metadata": {
    "collapsed": false
   },
   "outputs": [],
   "source": [
    "tweets.drop(['placeId', 'inReplyTo'], inplace=True, axis=1)"
   ]
  },
  {
   "cell_type": "markdown",
   "metadata": {},
   "source": [
    "Different informations on the longitude and latitude are given, the columns longitude/latitude are the position of the Tweet as reported by the user or client application. The place longitude/latitude is  indicates that the tweet is associated (but not necessarily originating from) a Place. And as we can see on the head of the table, the place is not always set.\n",
    "\n",
    "We decided to use the longitude/latitude columns to represent the position of a tweet and if they are null we will use the placeLatitude and placeLongitude. If both are null we will have to drop the entry as a tweet without position is not usefull for event detection."
   ]
  },
  {
   "cell_type": "code",
   "execution_count": 7,
   "metadata": {
    "collapsed": false,
    "scrolled": true
   },
   "outputs": [
    {
     "data": {
      "text/plain": [
       "id                         int64\n",
       "userId                     int64\n",
       "createdAt         datetime64[ns]\n",
       "text                      object\n",
       "longitude                float64\n",
       "latitude                 float64\n",
       "placeLatitude            float64\n",
       "placeLongitude           float64\n",
       "dtype: object"
      ]
     },
     "execution_count": 7,
     "metadata": {},
     "output_type": "execute_result"
    }
   ],
   "source": [
    "tweets.dtypes"
   ]
  },
  {
   "cell_type": "code",
   "execution_count": 8,
   "metadata": {
    "collapsed": false
   },
   "outputs": [],
   "source": [
    "tweets = tweets.apply(replace_position, axis=1)"
   ]
  },
  {
   "cell_type": "code",
   "execution_count": 9,
   "metadata": {
    "collapsed": false
   },
   "outputs": [
    {
     "data": {
      "text/html": [
       "<div>\n",
       "<table border=\"1\" class=\"dataframe\">\n",
       "  <thead>\n",
       "    <tr style=\"text-align: right;\">\n",
       "      <th></th>\n",
       "      <th>id</th>\n",
       "      <th>userId</th>\n",
       "      <th>createdAt</th>\n",
       "      <th>text</th>\n",
       "      <th>longitude</th>\n",
       "      <th>latitude</th>\n",
       "      <th>placeLatitude</th>\n",
       "      <th>placeLongitude</th>\n",
       "    </tr>\n",
       "  </thead>\n",
       "  <tbody>\n",
       "    <tr>\n",
       "      <th>0</th>\n",
       "      <td>9514097914</td>\n",
       "      <td>17341045</td>\n",
       "      <td>2010-02-23 05:55:51</td>\n",
       "      <td>Guuuuten Morgen! :-)</td>\n",
       "      <td>7.43926</td>\n",
       "      <td>46.9489</td>\n",
       "      <td>NaN</td>\n",
       "      <td>NaN</td>\n",
       "    </tr>\n",
       "    <tr>\n",
       "      <th>1</th>\n",
       "      <td>9514846412</td>\n",
       "      <td>7198282</td>\n",
       "      <td>2010-02-23 06:22:40</td>\n",
       "      <td>Still the best coffee in town — at La Stanza h...</td>\n",
       "      <td>8.53781</td>\n",
       "      <td>47.3678</td>\n",
       "      <td>NaN</td>\n",
       "      <td>NaN</td>\n",
       "    </tr>\n",
       "    <tr>\n",
       "      <th>2</th>\n",
       "      <td>9516574359</td>\n",
       "      <td>14657884</td>\n",
       "      <td>2010-02-23 07:34:25</td>\n",
       "      <td>It has been a week or so.. and today I just co...</td>\n",
       "      <td>6.13396</td>\n",
       "      <td>46.1951</td>\n",
       "      <td>NaN</td>\n",
       "      <td>NaN</td>\n",
       "    </tr>\n",
       "    <tr>\n",
       "      <th>3</th>\n",
       "      <td>9516952605</td>\n",
       "      <td>14703863</td>\n",
       "      <td>2010-02-23 07:51:47</td>\n",
       "      <td>Getting ready..  http://twitpic.com/14v8gz</td>\n",
       "      <td>8.81749</td>\n",
       "      <td>47.2288</td>\n",
       "      <td>NaN</td>\n",
       "      <td>NaN</td>\n",
       "    </tr>\n",
       "    <tr>\n",
       "      <th>4</th>\n",
       "      <td>9517198943</td>\n",
       "      <td>14393717</td>\n",
       "      <td>2010-02-23 08:02:57</td>\n",
       "      <td>Un peu de réconfort liquide en take away après...</td>\n",
       "      <td>6.63254</td>\n",
       "      <td>46.5199</td>\n",
       "      <td>NaN</td>\n",
       "      <td>NaN</td>\n",
       "    </tr>\n",
       "  </tbody>\n",
       "</table>\n",
       "</div>"
      ],
      "text/plain": [
       "           id    userId           createdAt  \\\n",
       "0  9514097914  17341045 2010-02-23 05:55:51   \n",
       "1  9514846412   7198282 2010-02-23 06:22:40   \n",
       "2  9516574359  14657884 2010-02-23 07:34:25   \n",
       "3  9516952605  14703863 2010-02-23 07:51:47   \n",
       "4  9517198943  14393717 2010-02-23 08:02:57   \n",
       "\n",
       "                                                text  longitude  latitude  \\\n",
       "0                               Guuuuten Morgen! :-)    7.43926   46.9489   \n",
       "1  Still the best coffee in town — at La Stanza h...    8.53781   47.3678   \n",
       "2  It has been a week or so.. and today I just co...    6.13396   46.1951   \n",
       "3         Getting ready..  http://twitpic.com/14v8gz    8.81749   47.2288   \n",
       "4  Un peu de réconfort liquide en take away après...    6.63254   46.5199   \n",
       "\n",
       "   placeLatitude  placeLongitude  \n",
       "0            NaN             NaN  \n",
       "1            NaN             NaN  \n",
       "2            NaN             NaN  \n",
       "3            NaN             NaN  \n",
       "4            NaN             NaN  "
      ]
     },
     "execution_count": 9,
     "metadata": {},
     "output_type": "execute_result"
    }
   ],
   "source": [
    "tweets.head()"
   ]
  },
  {
   "cell_type": "markdown",
   "metadata": {},
   "source": [
    "We can now drop the columns placeLongitude and placeLatitude as they don't give us anymore informations."
   ]
  },
  {
   "cell_type": "code",
   "execution_count": 10,
   "metadata": {
    "collapsed": false
   },
   "outputs": [],
   "source": [
    "tweets.drop(['placeLatitude', 'placeLongitude'],inplace=True, axis=1)"
   ]
  },
  {
   "cell_type": "markdown",
   "metadata": {},
   "source": [
    "Then we drop the NaN values in Longitude and Latitude columns as we need a position to detect event."
   ]
  },
  {
   "cell_type": "code",
   "execution_count": 11,
   "metadata": {
    "collapsed": false
   },
   "outputs": [
    {
     "name": "stdout",
     "output_type": "stream",
     "text": [
      "Number of tweets before dropping the one without position :  10000\n",
      "Number of tweets before dropping the one without position :  10000\n",
      "Percentage of tweets lost :  0.0\n"
     ]
    }
   ],
   "source": [
    "len_before = len(tweets.index)\n",
    "tweets = tweets.dropna(subset=['longitude', 'latitude'])\n",
    "len_after = len(tweets.index)\n",
    "print(\"Number of tweets before dropping the one without position : \", len_before)\n",
    "print(\"Number of tweets before dropping the one without position : \", len_after)\n",
    "print(\"Percentage of tweets lost : \", ((len_before - len_after)/len_before)*100)"
   ]
  },
  {
   "cell_type": "markdown",
   "metadata": {},
   "source": [
    "As we also base our event detection on the text field we don't want to have nan value in it. So we drop them."
   ]
  },
  {
   "cell_type": "code",
   "execution_count": 12,
   "metadata": {
    "collapsed": false
   },
   "outputs": [
    {
     "name": "stdout",
     "output_type": "stream",
     "text": [
      "Number of tweets before dropping the one without text :  10000\n",
      "Number of tweets before dropping the one without text :  10000\n",
      "Percentage of tweets lost :  0.0\n"
     ]
    }
   ],
   "source": [
    "len_before = len(tweets.index)\n",
    "tweets = tweets.dropna(subset=['text'])\n",
    "len_after = len(tweets.index)\n",
    "print(\"Number of tweets before dropping the one without text : \", len_before)\n",
    "print(\"Number of tweets before dropping the one without text : \", len_after)\n",
    "print(\"Percentage of tweets lost : \", ((len_before - len_after)/len_before)*100)"
   ]
  },
  {
   "cell_type": "markdown",
   "metadata": {},
   "source": [
    "We want to detect the event from the tweets we now extracted. To do so we had to do some assumptions. We decided to work with the text to find event. \n",
    "- Hashtags can be a good estimators of what event were on at the time of the tweets.\n",
    "- Events can take place on several days but we will decide to take tweets day per day."
   ]
  },
  {
   "cell_type": "markdown",
   "metadata": {},
   "source": [
    "As we decided to detect an event by its day of occurence we create a new column that gives us the information of the day."
   ]
  },
  {
   "cell_type": "code",
   "execution_count": 13,
   "metadata": {
    "collapsed": false
   },
   "outputs": [],
   "source": [
    "tweets['day'] = pd.DatetimeIndex(tweets['createdAt']).normalize()"
   ]
  },
  {
   "cell_type": "markdown",
   "metadata": {},
   "source": [
    "We decide to remove the stopwords from the tweets' text to keep only words that can describe an event."
   ]
  },
  {
   "cell_type": "code",
   "execution_count": 14,
   "metadata": {
    "collapsed": false
   },
   "outputs": [],
   "source": [
    "stop_words = stopwords.words('english')\n",
    "stop_words += stopwords.words('french')\n",
    "stop_words += stopwords.words('german')\n",
    "stop_words += stopwords.words('italian')\n",
    "stop_words += string.punctuation\n",
    "stop_words += ['—','/via','i\\'m', '^_^', ':L', ':-/', '>:/', ':S', '>:[', ':@', ':-(', ':[', ':-||', '=L', ':<',\n",
    "':-[', ':-<', '=\\\\', '=/', '>:(', ':(', '>.<', \":'-(\", \":'(\", ':\\\\', ':-c',\n",
    "':c', ':{', '>:\\\\', ';(', ':-)', ':)', ';)','[=o)]', ';-)', ':o)', ':]', ':3', ':c)', ':>', '=]', '8)', '=)', ':}',\n",
    "':^)', ':-D', ':D', '8-D', '8D', 'x-D', 'xD', 'X-D', 'XD', '=-D', '=D',\n",
    "'=-3', '=3', ':-))', \":'-)\", \":')\", ':*', ':^*', '>:P', ':-P', ':P', 'X-P',\n",
    "'x-p', 'xp', 'XP', ':-p', ':p', '=p', ':-b', ':b', '>:)', '>;)', '>:-)',\n",
    "'<3']"
   ]
  },
  {
   "cell_type": "code",
   "execution_count": 15,
   "metadata": {
    "collapsed": true
   },
   "outputs": [],
   "source": [
    "def text_process(row):\n",
    "    text = row['text']\n",
    "    text = re.sub(r\"http\\S+\", \"\", text)\n",
    "    text = re.sub(r\"@ \\S+\", \"\", text)\n",
    "    text = re.sub(r\"@\\S+\", \"\", text)\n",
    "    text = text.split()\n",
    "    text  = [word for word in text if word.lower() not in stop_words]\n",
    "    row['text'] = text\n",
    "    return row"
   ]
  },
  {
   "cell_type": "markdown",
   "metadata": {},
   "source": [
    "We remove the stopwords but we also remove the URLs and the @ mentions as they are not useful to detect events"
   ]
  },
  {
   "cell_type": "code",
   "execution_count": 16,
   "metadata": {
    "collapsed": false
   },
   "outputs": [
    {
     "data": {
      "text/html": [
       "<div>\n",
       "<table border=\"1\" class=\"dataframe\">\n",
       "  <thead>\n",
       "    <tr style=\"text-align: right;\">\n",
       "      <th></th>\n",
       "      <th>id</th>\n",
       "      <th>userId</th>\n",
       "      <th>createdAt</th>\n",
       "      <th>text</th>\n",
       "      <th>longitude</th>\n",
       "      <th>latitude</th>\n",
       "      <th>day</th>\n",
       "    </tr>\n",
       "  </thead>\n",
       "  <tbody>\n",
       "    <tr>\n",
       "      <th>0</th>\n",
       "      <td>9514097914</td>\n",
       "      <td>17341045</td>\n",
       "      <td>2010-02-23 05:55:51</td>\n",
       "      <td>[Guuuuten, Morgen!]</td>\n",
       "      <td>7.43926</td>\n",
       "      <td>46.9489</td>\n",
       "      <td>2010-02-23</td>\n",
       "    </tr>\n",
       "    <tr>\n",
       "      <th>1</th>\n",
       "      <td>9514846412</td>\n",
       "      <td>7198282</td>\n",
       "      <td>2010-02-23 06:22:40</td>\n",
       "      <td>[Still, best, coffee, town, Stanza]</td>\n",
       "      <td>8.53781</td>\n",
       "      <td>47.3678</td>\n",
       "      <td>2010-02-23</td>\n",
       "    </tr>\n",
       "    <tr>\n",
       "      <th>2</th>\n",
       "      <td>9516574359</td>\n",
       "      <td>14657884</td>\n",
       "      <td>2010-02-23 07:34:25</td>\n",
       "      <td>[week, so.., today, couldn't, focus, Sportif, ...</td>\n",
       "      <td>6.13396</td>\n",
       "      <td>46.1951</td>\n",
       "      <td>2010-02-23</td>\n",
       "    </tr>\n",
       "    <tr>\n",
       "      <th>3</th>\n",
       "      <td>9516952605</td>\n",
       "      <td>14703863</td>\n",
       "      <td>2010-02-23 07:51:47</td>\n",
       "      <td>[Getting, ready..]</td>\n",
       "      <td>8.81749</td>\n",
       "      <td>47.2288</td>\n",
       "      <td>2010-02-23</td>\n",
       "    </tr>\n",
       "    <tr>\n",
       "      <th>4</th>\n",
       "      <td>9517198943</td>\n",
       "      <td>14393717</td>\n",
       "      <td>2010-02-23 08:02:57</td>\n",
       "      <td>[peu, réconfort, liquide, take, away, après, d...</td>\n",
       "      <td>6.63254</td>\n",
       "      <td>46.5199</td>\n",
       "      <td>2010-02-23</td>\n",
       "    </tr>\n",
       "  </tbody>\n",
       "</table>\n",
       "</div>"
      ],
      "text/plain": [
       "           id    userId           createdAt  \\\n",
       "0  9514097914  17341045 2010-02-23 05:55:51   \n",
       "1  9514846412   7198282 2010-02-23 06:22:40   \n",
       "2  9516574359  14657884 2010-02-23 07:34:25   \n",
       "3  9516952605  14703863 2010-02-23 07:51:47   \n",
       "4  9517198943  14393717 2010-02-23 08:02:57   \n",
       "\n",
       "                                                text  longitude  latitude  \\\n",
       "0                                [Guuuuten, Morgen!]    7.43926   46.9489   \n",
       "1                [Still, best, coffee, town, Stanza]    8.53781   47.3678   \n",
       "2  [week, so.., today, couldn't, focus, Sportif, ...    6.13396   46.1951   \n",
       "3                                 [Getting, ready..]    8.81749   47.2288   \n",
       "4  [peu, réconfort, liquide, take, away, après, d...    6.63254   46.5199   \n",
       "\n",
       "         day  \n",
       "0 2010-02-23  \n",
       "1 2010-02-23  \n",
       "2 2010-02-23  \n",
       "3 2010-02-23  \n",
       "4 2010-02-23  "
      ]
     },
     "execution_count": 16,
     "metadata": {},
     "output_type": "execute_result"
    }
   ],
   "source": [
    "tweets = tweets.apply(text_process, axis=1)\n",
    "tweets.head()"
   ]
  },
  {
   "cell_type": "markdown",
   "metadata": {},
   "source": [
    "Now that the text is pretty much clean we want to get the hashtags from the tweets because they are really helpful to detect the events. So we create a column with the hashtags :"
   ]
  },
  {
   "cell_type": "code",
   "execution_count": 17,
   "metadata": {
    "collapsed": false,
    "scrolled": true
   },
   "outputs": [],
   "source": [
    "tweets['hashtags'] = tweets['text'].apply(find_hashtags)"
   ]
  },
  {
   "cell_type": "markdown",
   "metadata": {},
   "source": [
    "And in the \"text\" fields we don't want to have '#' anymore."
   ]
  },
  {
   "cell_type": "code",
   "execution_count": 18,
   "metadata": {
    "collapsed": false
   },
   "outputs": [],
   "source": [
    "tweets['text'] = tweets['text'].apply(remove_hashtags)"
   ]
  },
  {
   "cell_type": "markdown",
   "metadata": {},
   "source": [
    "We want to detect event that took place in switzerland so the longitude/latitude should be on the Switzerland land. (Done externally using OSGeo4W)\n",
    "We save our current work to run it on our external pipeline (see directory country-detection)"
   ]
  },
  {
   "cell_type": "code",
   "execution_count": 19,
   "metadata": {
    "collapsed": false
   },
   "outputs": [],
   "source": [
    "tweets.to_csv(\"../twitter-swisscom/twex_event_before_country.csv\", sep=',', encoding='utf-8', index=False)"
   ]
  },
  {
   "cell_type": "markdown",
   "metadata": {},
   "source": [
    "Now that we added the country to it, we open the new csv"
   ]
  },
  {
   "cell_type": "code",
   "execution_count": 20,
   "metadata": {
    "collapsed": false
   },
   "outputs": [],
   "source": [
    "tweets = pd.read_csv(\"../twitter-swisscom/twex_event_country.csv\", sep=',', encoding='utf-8')"
   ]
  },
  {
   "cell_type": "code",
   "execution_count": 21,
   "metadata": {
    "collapsed": false
   },
   "outputs": [
    {
     "data": {
      "text/html": [
       "<div>\n",
       "<table border=\"1\" class=\"dataframe\">\n",
       "  <thead>\n",
       "    <tr style=\"text-align: right;\">\n",
       "      <th></th>\n",
       "      <th>id</th>\n",
       "      <th>userId</th>\n",
       "      <th>createdAt</th>\n",
       "      <th>text</th>\n",
       "      <th>longitude</th>\n",
       "      <th>latitude</th>\n",
       "      <th>day</th>\n",
       "      <th>hashtags</th>\n",
       "      <th>country</th>\n",
       "    </tr>\n",
       "  </thead>\n",
       "  <tbody>\n",
       "    <tr>\n",
       "      <th>0</th>\n",
       "      <td>9514097914</td>\n",
       "      <td>17341045</td>\n",
       "      <td>2010-02-23 05:55:51</td>\n",
       "      <td>['Guuuuten', 'Morgen!']</td>\n",
       "      <td>7.43926</td>\n",
       "      <td>46.9489</td>\n",
       "      <td>2010-02-23 00:00:00</td>\n",
       "      <td>[]</td>\n",
       "      <td>CH</td>\n",
       "    </tr>\n",
       "    <tr>\n",
       "      <th>1</th>\n",
       "      <td>9514846412</td>\n",
       "      <td>7198282</td>\n",
       "      <td>2010-02-23 06:22:40</td>\n",
       "      <td>['Still', 'best', 'coffee', 'town', 'Stanza']</td>\n",
       "      <td>8.53781</td>\n",
       "      <td>47.3678</td>\n",
       "      <td>2010-02-23 00:00:00</td>\n",
       "      <td>[]</td>\n",
       "      <td>CH</td>\n",
       "    </tr>\n",
       "    <tr>\n",
       "      <th>2</th>\n",
       "      <td>9516574359</td>\n",
       "      <td>14657884</td>\n",
       "      <td>2010-02-23 07:34:25</td>\n",
       "      <td>['week', 'so..', 'today', \"couldn't\", 'focus',...</td>\n",
       "      <td>6.13396</td>\n",
       "      <td>46.1951</td>\n",
       "      <td>2010-02-23 00:00:00</td>\n",
       "      <td>[]</td>\n",
       "      <td>CH</td>\n",
       "    </tr>\n",
       "    <tr>\n",
       "      <th>3</th>\n",
       "      <td>9516952605</td>\n",
       "      <td>14703863</td>\n",
       "      <td>2010-02-23 07:51:47</td>\n",
       "      <td>['Getting', 'ready..']</td>\n",
       "      <td>8.81749</td>\n",
       "      <td>47.2288</td>\n",
       "      <td>2010-02-23 00:00:00</td>\n",
       "      <td>[]</td>\n",
       "      <td>CH</td>\n",
       "    </tr>\n",
       "    <tr>\n",
       "      <th>4</th>\n",
       "      <td>9517198943</td>\n",
       "      <td>14393717</td>\n",
       "      <td>2010-02-23 08:02:57</td>\n",
       "      <td>['peu', 'réconfort', 'liquide', 'take', 'away'...</td>\n",
       "      <td>6.63254</td>\n",
       "      <td>46.5199</td>\n",
       "      <td>2010-02-23 00:00:00</td>\n",
       "      <td>[]</td>\n",
       "      <td>CH</td>\n",
       "    </tr>\n",
       "  </tbody>\n",
       "</table>\n",
       "</div>"
      ],
      "text/plain": [
       "           id    userId            createdAt  \\\n",
       "0  9514097914  17341045  2010-02-23 05:55:51   \n",
       "1  9514846412   7198282  2010-02-23 06:22:40   \n",
       "2  9516574359  14657884  2010-02-23 07:34:25   \n",
       "3  9516952605  14703863  2010-02-23 07:51:47   \n",
       "4  9517198943  14393717  2010-02-23 08:02:57   \n",
       "\n",
       "                                                text  longitude  latitude  \\\n",
       "0                            ['Guuuuten', 'Morgen!']    7.43926   46.9489   \n",
       "1      ['Still', 'best', 'coffee', 'town', 'Stanza']    8.53781   47.3678   \n",
       "2  ['week', 'so..', 'today', \"couldn't\", 'focus',...    6.13396   46.1951   \n",
       "3                             ['Getting', 'ready..']    8.81749   47.2288   \n",
       "4  ['peu', 'réconfort', 'liquide', 'take', 'away'...    6.63254   46.5199   \n",
       "\n",
       "                   day hashtags country  \n",
       "0  2010-02-23 00:00:00       []      CH  \n",
       "1  2010-02-23 00:00:00       []      CH  \n",
       "2  2010-02-23 00:00:00       []      CH  \n",
       "3  2010-02-23 00:00:00       []      CH  \n",
       "4  2010-02-23 00:00:00       []      CH  "
      ]
     },
     "execution_count": 21,
     "metadata": {},
     "output_type": "execute_result"
    }
   ],
   "source": [
    "tweets.head()"
   ]
  },
  {
   "cell_type": "markdown",
   "metadata": {},
   "source": [
    "We only keep the tweets that are in Switzerland"
   ]
  },
  {
   "cell_type": "code",
   "execution_count": 22,
   "metadata": {
    "collapsed": false
   },
   "outputs": [
    {
     "name": "stdout",
     "output_type": "stream",
     "text": [
      "Tweets total :  10000\n",
      "Tweets without the tweets out of Switzerland :  8732\n",
      "Loss percentage :  12.680000000000003 %\n"
     ]
    }
   ],
   "source": [
    "len_total = len(tweets)\n",
    "tweets = tweets[tweets.country == 'CH']\n",
    "len_swiss = len(tweets)\n",
    "print(\"Tweets total : \", len_total)\n",
    "print(\"Tweets without the tweets out of Switzerland : \", len_swiss)\n",
    "print(\"Loss percentage : \", (1-(len_swiss/len_total))*100, \"%\")"
   ]
  },
  {
   "cell_type": "code",
   "execution_count": 23,
   "metadata": {
    "collapsed": true
   },
   "outputs": [],
   "source": [
    "if 0:\n",
    "    tweets.to_csv(\"../twitter-swisscom/final_tweets_for_event_detection.csv\", sep=',', encoding='utf-8', index=False)"
   ]
  },
  {
   "cell_type": "markdown",
   "metadata": {},
   "source": [
    "## EVENT  DETECTION\n",
    "\n",
    "Now that our dataframe is clean we want to find the event hidden in all those tweets. Here are our assumptions to find an event :\n",
    "- An event is described by a list of words (hashtags are also used with greater importance than other words)\n",
    "- An event takes place at a certain place described by longitude/latitude (we took around 10km)\n",
    "- An event occurs during a certain  time (we decided to find them day by day)\n",
    "- An event has a minimum number of people talking about it (we took 3) and a minimum of tweets (we took 5)"
   ]
  },
  {
   "cell_type": "markdown",
   "metadata": {},
   "source": [
    "We want to find where the tweets are sent from to imagine where the clusters will be."
   ]
  },
  {
   "cell_type": "code",
   "execution_count": 24,
   "metadata": {
    "collapsed": false
   },
   "outputs": [
    {
     "data": {
      "image/png": "[encoded data removed]",
      "text/plain": [
       "<xarray.Image (y_axis: 800, x_axis: 800)>\n",
       "array([[0, 0, 0, ..., 0, 0, 0],\n",
       "       [0, 0, 0, ..., 0, 0, 0],\n",
       "       [0, 0, 0, ..., 0, 0, 0],\n",
       "       ..., \n",
       "       [0, 0, 0, ..., 0, 0, 0],\n",
       "       [0, 0, 0, ..., 0, 0, 0],\n",
       "       [0, 0, 0, ..., 0, 0, 0]], dtype=uint32)\n",
       "Coordinates:\n",
       "  * y_axis   (y_axis) float64 45.84 45.84 45.84 45.85 45.85 45.85 45.85 ...\n",
       "  * x_axis   (x_axis) float64 5.993 5.998 6.003 6.008 6.013 6.018 6.023 ..."
      ]
     },
     "execution_count": 24,
     "metadata": {},
     "output_type": "execute_result"
    }
   ],
   "source": [
    "cvs = ds.Canvas(plot_width=800, plot_height=800)\n",
    "agg = cvs.points(tweets, 'longitude', 'latitude')\n",
    "tf.shade(agg)"
   ]
  },
  {
   "cell_type": "markdown",
   "metadata": {},
   "source": [
    "We can easily see the map of Switzerland and most users in Switzerland can be found in Geneva, Lausanne and Zürich. There are other regions with some activity too."
   ]
  },
  {
   "cell_type": "markdown",
   "metadata": {},
   "source": [
    "As we want to detect event day per day we will have to go through all the day in our data and for each of them detect the events."
   ]
  },
  {
   "cell_type": "code",
   "execution_count": 25,
   "metadata": {
    "collapsed": false
   },
   "outputs": [
    {
     "name": "stdout",
     "output_type": "stream",
     "text": [
      "161\n"
     ]
    }
   ],
   "source": [
    "days = np.unique(tweets['day'].values)\n",
    "print(len(days))"
   ]
  },
  {
   "cell_type": "markdown",
   "metadata": {},
   "source": [
    "#### One day detection"
   ]
  },
  {
   "cell_type": "code",
   "execution_count": 26,
   "metadata": {
    "collapsed": false
   },
   "outputs": [
    {
     "data": {
      "text/html": [
       "<div>\n",
       "<table border=\"1\" class=\"dataframe\">\n",
       "  <thead>\n",
       "    <tr style=\"text-align: right;\">\n",
       "      <th></th>\n",
       "      <th>id</th>\n",
       "      <th>userId</th>\n",
       "      <th>createdAt</th>\n",
       "      <th>text</th>\n",
       "      <th>longitude</th>\n",
       "      <th>latitude</th>\n",
       "      <th>day</th>\n",
       "      <th>hashtags</th>\n",
       "      <th>country</th>\n",
       "    </tr>\n",
       "  </thead>\n",
       "  <tbody>\n",
       "    <tr>\n",
       "      <th>23</th>\n",
       "      <td>9564394826</td>\n",
       "      <td>17910879</td>\n",
       "      <td>2010-02-24 06:09:23</td>\n",
       "      <td>['Eigentlich', 'möchte', 'heute', 'morgen', 'j...</td>\n",
       "      <td>7.90625</td>\n",
       "      <td>47.3513</td>\n",
       "      <td>2010-02-24 00:00:00</td>\n",
       "      <td>['insider', 'fb']</td>\n",
       "      <td>CH</td>\n",
       "    </tr>\n",
       "    <tr>\n",
       "      <th>24</th>\n",
       "      <td>9564875001</td>\n",
       "      <td>17341045</td>\n",
       "      <td>2010-02-24 06:26:53</td>\n",
       "      <td>['Good', 'morning!', 'Black', 'Eyed', 'Peas', ...</td>\n",
       "      <td>7.44237</td>\n",
       "      <td>46.8958</td>\n",
       "      <td>2010-02-24 00:00:00</td>\n",
       "      <td>[]</td>\n",
       "      <td>CH</td>\n",
       "    </tr>\n",
       "    <tr>\n",
       "      <th>25</th>\n",
       "      <td>9566362388</td>\n",
       "      <td>13199732</td>\n",
       "      <td>2010-02-24 07:26:32</td>\n",
       "      <td>['became', 'mayor', 'Phonak', 'AG']</td>\n",
       "      <td>8.74314</td>\n",
       "      <td>47.2392</td>\n",
       "      <td>2010-02-24 00:00:00</td>\n",
       "      <td>[]</td>\n",
       "      <td>CH</td>\n",
       "    </tr>\n",
       "    <tr>\n",
       "      <th>26</th>\n",
       "      <td>9566536362</td>\n",
       "      <td>14260616</td>\n",
       "      <td>2010-02-24 07:33:49</td>\n",
       "      <td>['Hallo', 'Presse,', 'Blick', 'Co.', 'Wann', '...</td>\n",
       "      <td>8.29933</td>\n",
       "      <td>47.4834</td>\n",
       "      <td>2010-02-24 00:00:00</td>\n",
       "      <td>['Blick']</td>\n",
       "      <td>CH</td>\n",
       "    </tr>\n",
       "    <tr>\n",
       "      <th>27</th>\n",
       "      <td>9567368800</td>\n",
       "      <td>6589882</td>\n",
       "      <td>2010-02-24 08:10:43</td>\n",
       "      <td>['train', 'Genève']</td>\n",
       "      <td>6.37155</td>\n",
       "      <td>46.4742</td>\n",
       "      <td>2010-02-24 00:00:00</td>\n",
       "      <td>[]</td>\n",
       "      <td>CH</td>\n",
       "    </tr>\n",
       "  </tbody>\n",
       "</table>\n",
       "</div>"
      ],
      "text/plain": [
       "            id    userId            createdAt  \\\n",
       "23  9564394826  17910879  2010-02-24 06:09:23   \n",
       "24  9564875001  17341045  2010-02-24 06:26:53   \n",
       "25  9566362388  13199732  2010-02-24 07:26:32   \n",
       "26  9566536362  14260616  2010-02-24 07:33:49   \n",
       "27  9567368800   6589882  2010-02-24 08:10:43   \n",
       "\n",
       "                                                 text  longitude  latitude  \\\n",
       "23  ['Eigentlich', 'möchte', 'heute', 'morgen', 'j...    7.90625   47.3513   \n",
       "24  ['Good', 'morning!', 'Black', 'Eyed', 'Peas', ...    7.44237   46.8958   \n",
       "25                ['became', 'mayor', 'Phonak', 'AG']    8.74314   47.2392   \n",
       "26  ['Hallo', 'Presse,', 'Blick', 'Co.', 'Wann', '...    8.29933   47.4834   \n",
       "27                                ['train', 'Genève']    6.37155   46.4742   \n",
       "\n",
       "                    day           hashtags country  \n",
       "23  2010-02-24 00:00:00  ['insider', 'fb']      CH  \n",
       "24  2010-02-24 00:00:00                 []      CH  \n",
       "25  2010-02-24 00:00:00                 []      CH  \n",
       "26  2010-02-24 00:00:00          ['Blick']      CH  \n",
       "27  2010-02-24 00:00:00                 []      CH  "
      ]
     },
     "execution_count": 26,
     "metadata": {},
     "output_type": "execute_result"
    }
   ],
   "source": [
    "day = tweets[tweets['day']==days[1]]\n",
    "day.head()"
   ]
  },
  {
   "cell_type": "code",
   "execution_count": 27,
   "metadata": {
    "collapsed": false
   },
   "outputs": [],
   "source": [
    "meters = 10000\n",
    "eps = meters / 100000 # meters to degree"
   ]
  },
  {
   "cell_type": "code",
   "execution_count": 28,
   "metadata": {
    "collapsed": false
   },
   "outputs": [],
   "source": [
    "X = day.as_matrix(columns=['latitude', 'longitude'])\n",
    "db = DBSCAN(eps=eps, min_samples=5).fit(X)\n",
    "core_samples_mask = np.zeros_like(db.labels_, dtype=bool)\n",
    "core_samples_mask[db.core_sample_indices_] = True\n",
    "labels = db.labels_"
   ]
  },
  {
   "cell_type": "code",
   "execution_count": 29,
   "metadata": {
    "collapsed": false
   },
   "outputs": [],
   "source": [
    "day = day.assign(cluster=db.labels_)"
   ]
  },
  {
   "cell_type": "code",
   "execution_count": 30,
   "metadata": {
    "collapsed": false
   },
   "outputs": [
    {
     "name": "stdout",
     "output_type": "stream",
     "text": [
      "Estimated number of clusters: 2\n"
     ]
    }
   ],
   "source": [
    "n_clusters_ = len(set(labels)) - (1 if -1 in labels else 0)\n",
    "\n",
    "print('Estimated number of clusters: %d' % n_clusters_)\n"
   ]
  },
  {
   "cell_type": "code",
   "execution_count": 31,
   "metadata": {
    "collapsed": false
   },
   "outputs": [
    {
     "name": "stderr",
     "output_type": "stream",
     "text": [
      "C:\\Users\\Alain\\Anaconda3\\lib\\site-packages\\matplotlib\\lines.py:1145: FutureWarning: comparison to `None` will result in an elementwise object comparison in the future.\n",
      "  if self._markerfacecolor != fc:\n"
     ]
    },
    {
     "data": {
      "image/png": "[encoded data removed]",
      "text/plain": [
       "<matplotlib.figure.Figure at 0x22a0cb511d0>"
      ]
     },
     "metadata": {},
     "output_type": "display_data"
    }
   ],
   "source": [
    "# Black removed and is used for noise instead.\n",
    "unique_labels = set(labels)\n",
    "colors = plt.cm.Spectral(np.linspace(0, 1, len(unique_labels)))\n",
    "for k, col in zip(unique_labels, colors):\n",
    "    if k == -1:\n",
    "        # Black used for noise.\n",
    "        col = 'k'\n",
    "\n",
    "    class_member_mask = (labels == k)\n",
    "\n",
    "    xy = X[class_member_mask & core_samples_mask]\n",
    "    plt.plot(xy[:, 0], xy[:, 1], 'o', markerfacecolor=col,\n",
    "             markeredgecolor='k', markersize=14)\n",
    "\n",
    "    xy = X[class_member_mask & ~core_samples_mask]\n",
    "    plt.plot(xy[:, 0], xy[:, 1], 'o', markerfacecolor=col,\n",
    "             markeredgecolor='k', markersize=6)\n",
    "\n",
    "plt.title('Estimated number of clusters: %d' % n_clusters_)\n",
    "plt.show()"
   ]
  },
  {
   "cell_type": "markdown",
   "metadata": {},
   "source": [
    "## Text analysis to detect events\n",
    "\n",
    "We go through the clusters and find out if the corresponding tweets are linked by an event or not. To do so we first of all create a dataframe that will contain the events. (Event name, Event keywords, Event hashtags, Event longitude/latitude, Number of tweets, Number of people)"
   ]
  },
  {
   "cell_type": "code",
   "execution_count": 55,
   "metadata": {
    "collapsed": true
   },
   "outputs": [],
   "source": [
    "df_event = pd.DataFrame(columns=['name', 'date', 'keywords', 'hashtags', 'longitude', 'latitude', '# of tweets', '# of people', 'tweetids'])"
   ]
  },
  {
   "cell_type": "markdown",
   "metadata": {},
   "source": [
    "Now we want to populate our dataframe with real event. So we go through all the clusters and find out the hashtags, keywords and corresponding event based on these two infos"
   ]
  },
  {
   "cell_type": "code",
   "execution_count": 56,
   "metadata": {
    "collapsed": false
   },
   "outputs": [
    {
     "name": "stdout",
     "output_type": "stream",
     "text": [
      " ------- Event added -------\n",
      " ------- Event added -------\n",
      " ------- Event added -------\n",
      " ------- Event added -------\n",
      " ------- Event added -------\n",
      " ------- Event added -------\n",
      " ------- Event added -------\n",
      " ------- Event added -------\n",
      " ------- Event added -------\n",
      " ------- Event added -------\n",
      " ------- Event added -------\n"
     ]
    }
   ],
   "source": [
    "for day in days:\n",
    "    day_df = tweets[tweets['day']==day]\n",
    "    \n",
    "    X = day_df.as_matrix(columns=['latitude', 'longitude'])\n",
    "    db = DBSCAN(eps=eps, min_samples=5).fit(X)\n",
    "    core_samples_mask = np.zeros_like(db.labels_, dtype=bool)\n",
    "    core_samples_mask[db.core_sample_indices_] = True\n",
    "    labels = db.labels_\n",
    "    \n",
    "    day_df = day_df.assign(cluster=db.labels_)\n",
    "    \n",
    "    #Number of clusters in labels, ignoring noise if present.\n",
    "    n_clusters_ = len(set(labels)) - (1 if -1 in labels else 0)\n",
    "    \n",
    "    for cluster in range(0,n_clusters_-1):\n",
    "        ntweets = len(day_df[day_df['cluster']==cluster])\n",
    "        npeople = len(np.unique(day_df[day_df['cluster']==cluster].userId))\n",
    "        ids = list(day_df[day_df['cluster']==cluster].id.values)\n",
    "        #print(\"Cluster n°\" + str(cluster) + \"( \" + str(ntweets) + \" tweets\" + \" )\")\n",
    "        d_hashtags = dictionnary_from_hashtags(day_df, cluster)\n",
    "        d_keywords = dictionnary_from_keywords(day_df, cluster)\n",
    "\n",
    "        d_hashtags_detection = useful_(d_hashtags, 1/3, ntweets)\n",
    "        d_keywords_detection = useful_(d_keywords, 1/4, ntweets)\n",
    "\n",
    "        if(not any(d_hashtags_detection)):\n",
    "            if(any(d_keywords_detection)):\n",
    "                pass\n",
    "                # TODO only keywords\n",
    "        else:\n",
    "            position = find_position(day_df, cluster, ntweets)\n",
    "            i = len(df_event)\n",
    "            name = \"\"\n",
    "            for elem in d_hashtags_detection.keys(): \n",
    "                name += elem + \" \"\n",
    "            df_event.loc[i] = ([name, day, list(d_keywords_detection.keys()), list(d_hashtags_detection.keys()), position[0], position[1], ntweets, npeople, ids])\n",
    "            print(\" ------- Event added -------\")"
   ]
  },
  {
   "cell_type": "code",
   "execution_count": 57,
   "metadata": {
    "collapsed": false
   },
   "outputs": [
    {
     "data": {
      "text/plain": [
       "11"
      ]
     },
     "execution_count": 57,
     "metadata": {},
     "output_type": "execute_result"
    }
   ],
   "source": [
    "len(df_event)"
   ]
  },
  {
   "cell_type": "markdown",
   "metadata": {},
   "source": [
    "We want to avoid having spam event in our event dataframe. It means that the ratio tweet per user should not be too big. Here we decided to set this ratio to 6."
   ]
  },
  {
   "cell_type": "code",
   "execution_count": 58,
   "metadata": {
    "collapsed": false
   },
   "outputs": [],
   "source": [
    "df_event = df_event[df_event[\"# of tweets\"]/df_event[\"# of people\"] < 6]"
   ]
  },
  {
   "cell_type": "markdown",
   "metadata": {},
   "source": [
    "We also want to have more than 2 people per event and more than 7 tweets."
   ]
  },
  {
   "cell_type": "code",
   "execution_count": 59,
   "metadata": {
    "collapsed": true
   },
   "outputs": [],
   "source": [
    "df_event = df_event[(df_event[\"# of people\"] >= 3) & (df_event[\"# of tweets\"] >= 8)]"
   ]
  },
  {
   "cell_type": "code",
   "execution_count": 60,
   "metadata": {
    "collapsed": false
   },
   "outputs": [
    {
     "data": {
      "text/plain": [
       "8"
      ]
     },
     "execution_count": 60,
     "metadata": {},
     "output_type": "execute_result"
    }
   ],
   "source": [
    "len(df_event)"
   ]
  },
  {
   "cell_type": "code",
   "execution_count": 61,
   "metadata": {
    "collapsed": false
   },
   "outputs": [
    {
     "data": {
      "text/html": [
       "<div>\n",
       "<table border=\"1\" class=\"dataframe\">\n",
       "  <thead>\n",
       "    <tr style=\"text-align: right;\">\n",
       "      <th></th>\n",
       "      <th>name</th>\n",
       "      <th>date</th>\n",
       "      <th>keywords</th>\n",
       "      <th>hashtags</th>\n",
       "      <th>longitude</th>\n",
       "      <th>latitude</th>\n",
       "      <th># of tweets</th>\n",
       "      <th># of people</th>\n",
       "      <th>tweetids</th>\n",
       "    </tr>\n",
       "  </thead>\n",
       "  <tbody>\n",
       "    <tr>\n",
       "      <th>0</th>\n",
       "      <td>zhwahlen2010</td>\n",
       "      <td>2010-03-07 00:00:00</td>\n",
       "      <td>[zhwahlen2010]</td>\n",
       "      <td>[zhwahlen2010]</td>\n",
       "      <td>8.530788</td>\n",
       "      <td>47.371580</td>\n",
       "      <td>10.0</td>\n",
       "      <td>3.0</td>\n",
       "      <td>[10096142854, 10117661003, 10122712301, 101240...</td>\n",
       "    </tr>\n",
       "    <tr>\n",
       "      <th>1</th>\n",
       "      <td>cern lhc</td>\n",
       "      <td>2010-03-30 00:00:00</td>\n",
       "      <td>[7tev, cern, lhc]</td>\n",
       "      <td>[cern, lhc]</td>\n",
       "      <td>6.117434</td>\n",
       "      <td>46.206506</td>\n",
       "      <td>16.0</td>\n",
       "      <td>6.0</td>\n",
       "      <td>[11290380524, 11290576184, 11291387514, 112915...</td>\n",
       "    </tr>\n",
       "    <tr>\n",
       "      <th>3</th>\n",
       "      <td>fb</td>\n",
       "      <td>2010-05-22 00:00:00</td>\n",
       "      <td>[fb]</td>\n",
       "      <td>[fb]</td>\n",
       "      <td>6.141726</td>\n",
       "      <td>46.196613</td>\n",
       "      <td>8.0</td>\n",
       "      <td>4.0</td>\n",
       "      <td>[14473013419, 14477514037, 14477623268, 144796...</td>\n",
       "    </tr>\n",
       "    <tr>\n",
       "      <th>4</th>\n",
       "      <td>gfsc2010</td>\n",
       "      <td>2010-05-29 00:00:00</td>\n",
       "      <td>[gfsc2010]</td>\n",
       "      <td>[gfsc2010]</td>\n",
       "      <td>6.148203</td>\n",
       "      <td>46.209564</td>\n",
       "      <td>11.0</td>\n",
       "      <td>4.0</td>\n",
       "      <td>[14958559754, 14959412920, 14963118521, 149633...</td>\n",
       "    </tr>\n",
       "    <tr>\n",
       "      <th>5</th>\n",
       "      <td>bcbs10</td>\n",
       "      <td>2010-06-05 00:00:00</td>\n",
       "      <td>[bcbs10]</td>\n",
       "      <td>[bcbs10]</td>\n",
       "      <td>9.170459</td>\n",
       "      <td>47.667207</td>\n",
       "      <td>14.0</td>\n",
       "      <td>3.0</td>\n",
       "      <td>[15474249596, 15475025339, 15476055767, 154770...</td>\n",
       "    </tr>\n",
       "    <tr>\n",
       "      <th>7</th>\n",
       "      <td>mcw</td>\n",
       "      <td>2010-06-12 00:00:00</td>\n",
       "      <td>[mcw]</td>\n",
       "      <td>[mcw]</td>\n",
       "      <td>8.534659</td>\n",
       "      <td>47.381571</td>\n",
       "      <td>14.0</td>\n",
       "      <td>6.0</td>\n",
       "      <td>[15989515737, 15990232708, 15990669914, 159936...</td>\n",
       "    </tr>\n",
       "    <tr>\n",
       "      <th>8</th>\n",
       "      <td>worldcup</td>\n",
       "      <td>2010-06-16 00:00:00</td>\n",
       "      <td>[Swiss, worldcup]</td>\n",
       "      <td>[worldcup]</td>\n",
       "      <td>8.294810</td>\n",
       "      <td>47.080213</td>\n",
       "      <td>8.0</td>\n",
       "      <td>3.0</td>\n",
       "      <td>[16285080907, 16301206563, 16305938657, 163098...</td>\n",
       "    </tr>\n",
       "    <tr>\n",
       "      <th>9</th>\n",
       "      <td>swisscrmforum</td>\n",
       "      <td>2010-06-24 00:00:00</td>\n",
       "      <td>[swisscrmforum]</td>\n",
       "      <td>[swisscrmforum]</td>\n",
       "      <td>8.543925</td>\n",
       "      <td>47.402544</td>\n",
       "      <td>43.0</td>\n",
       "      <td>15.0</td>\n",
       "      <td>[16910610939, 16911022902, 16911067954, 169121...</td>\n",
       "    </tr>\n",
       "  </tbody>\n",
       "</table>\n",
       "</div>"
      ],
      "text/plain": [
       "             name                 date           keywords         hashtags  \\\n",
       "0   zhwahlen2010   2010-03-07 00:00:00     [zhwahlen2010]   [zhwahlen2010]   \n",
       "1       cern lhc   2010-03-30 00:00:00  [7tev, cern, lhc]      [cern, lhc]   \n",
       "3             fb   2010-05-22 00:00:00               [fb]             [fb]   \n",
       "4       gfsc2010   2010-05-29 00:00:00         [gfsc2010]       [gfsc2010]   \n",
       "5         bcbs10   2010-06-05 00:00:00           [bcbs10]         [bcbs10]   \n",
       "7            mcw   2010-06-12 00:00:00              [mcw]            [mcw]   \n",
       "8       worldcup   2010-06-16 00:00:00  [Swiss, worldcup]       [worldcup]   \n",
       "9  swisscrmforum   2010-06-24 00:00:00    [swisscrmforum]  [swisscrmforum]   \n",
       "\n",
       "   longitude   latitude  # of tweets  # of people  \\\n",
       "0   8.530788  47.371580         10.0          3.0   \n",
       "1   6.117434  46.206506         16.0          6.0   \n",
       "3   6.141726  46.196613          8.0          4.0   \n",
       "4   6.148203  46.209564         11.0          4.0   \n",
       "5   9.170459  47.667207         14.0          3.0   \n",
       "7   8.534659  47.381571         14.0          6.0   \n",
       "8   8.294810  47.080213          8.0          3.0   \n",
       "9   8.543925  47.402544         43.0         15.0   \n",
       "\n",
       "                                            tweetids  \n",
       "0  [10096142854, 10117661003, 10122712301, 101240...  \n",
       "1  [11290380524, 11290576184, 11291387514, 112915...  \n",
       "3  [14473013419, 14477514037, 14477623268, 144796...  \n",
       "4  [14958559754, 14959412920, 14963118521, 149633...  \n",
       "5  [15474249596, 15475025339, 15476055767, 154770...  \n",
       "7  [15989515737, 15990232708, 15990669914, 159936...  \n",
       "8  [16285080907, 16301206563, 16305938657, 163098...  \n",
       "9  [16910610939, 16911022902, 16911067954, 169121...  "
      ]
     },
     "execution_count": 61,
     "metadata": {},
     "output_type": "execute_result"
    }
   ],
   "source": [
    "df_event"
   ]
  },
  {
   "cell_type": "code",
   "execution_count": 45,
   "metadata": {
    "collapsed": false
   },
   "outputs": [],
   "source": [
    "df_event['date'] = pd.DatetimeIndex(df_event['date']).normalize()"
   ]
  },
  {
   "cell_type": "code",
   "execution_count": 47,
   "metadata": {
    "collapsed": false
   },
   "outputs": [
    {
     "data": {
      "text/html": [
       "<div>\n",
       "<table border=\"1\" class=\"dataframe\">\n",
       "  <thead>\n",
       "    <tr style=\"text-align: right;\">\n",
       "      <th></th>\n",
       "      <th>name</th>\n",
       "      <th>date</th>\n",
       "      <th>keywords</th>\n",
       "      <th>hashtags</th>\n",
       "      <th>longitude</th>\n",
       "      <th>latitude</th>\n",
       "      <th># of tweets</th>\n",
       "      <th># of people</th>\n",
       "      <th>tweetids</th>\n",
       "    </tr>\n",
       "  </thead>\n",
       "  <tbody>\n",
       "    <tr>\n",
       "      <th>0</th>\n",
       "      <td>zhwahlen2010</td>\n",
       "      <td>2010-03-07</td>\n",
       "      <td>zhwahlen2010</td>\n",
       "      <td>zhwahlen2010</td>\n",
       "      <td>8.530788</td>\n",
       "      <td>47.371580</td>\n",
       "      <td>10.0</td>\n",
       "      <td>3.0</td>\n",
       "      <td>[10096142854, 10117661003, 10122712301, 101240...</td>\n",
       "    </tr>\n",
       "    <tr>\n",
       "      <th>1</th>\n",
       "      <td>cern lhc</td>\n",
       "      <td>2010-03-30</td>\n",
       "      <td>7tev, cern, lhc</td>\n",
       "      <td>cern, lhc</td>\n",
       "      <td>6.117434</td>\n",
       "      <td>46.206506</td>\n",
       "      <td>16.0</td>\n",
       "      <td>6.0</td>\n",
       "      <td>[11290380524, 11290576184, 11291387514, 112915...</td>\n",
       "    </tr>\n",
       "    <tr>\n",
       "      <th>2</th>\n",
       "      <td>fb</td>\n",
       "      <td>2010-05-22</td>\n",
       "      <td>fb</td>\n",
       "      <td>fb</td>\n",
       "      <td>6.141726</td>\n",
       "      <td>46.196613</td>\n",
       "      <td>8.0</td>\n",
       "      <td>4.0</td>\n",
       "      <td>[14473013419, 14477514037, 14477623268, 144796...</td>\n",
       "    </tr>\n",
       "    <tr>\n",
       "      <th>3</th>\n",
       "      <td>gfsc2010</td>\n",
       "      <td>2010-05-29</td>\n",
       "      <td>gfsc2010</td>\n",
       "      <td>gfsc2010</td>\n",
       "      <td>6.148203</td>\n",
       "      <td>46.209564</td>\n",
       "      <td>11.0</td>\n",
       "      <td>4.0</td>\n",
       "      <td>[14958559754, 14959412920, 14963118521, 149633...</td>\n",
       "    </tr>\n",
       "    <tr>\n",
       "      <th>4</th>\n",
       "      <td>bcbs10</td>\n",
       "      <td>2010-06-05</td>\n",
       "      <td>bcbs10</td>\n",
       "      <td>bcbs10</td>\n",
       "      <td>9.170459</td>\n",
       "      <td>47.667207</td>\n",
       "      <td>14.0</td>\n",
       "      <td>3.0</td>\n",
       "      <td>[15474249596, 15475025339, 15476055767, 154770...</td>\n",
       "    </tr>\n",
       "    <tr>\n",
       "      <th>5</th>\n",
       "      <td>mcw</td>\n",
       "      <td>2010-06-12</td>\n",
       "      <td>mcw</td>\n",
       "      <td>mcw</td>\n",
       "      <td>8.534659</td>\n",
       "      <td>47.381571</td>\n",
       "      <td>14.0</td>\n",
       "      <td>6.0</td>\n",
       "      <td>[15989515737, 15990232708, 15990669914, 159936...</td>\n",
       "    </tr>\n",
       "    <tr>\n",
       "      <th>6</th>\n",
       "      <td>worldcup</td>\n",
       "      <td>2010-06-16</td>\n",
       "      <td>Swiss, worldcup</td>\n",
       "      <td>worldcup</td>\n",
       "      <td>8.294810</td>\n",
       "      <td>47.080213</td>\n",
       "      <td>8.0</td>\n",
       "      <td>3.0</td>\n",
       "      <td>[16285080907, 16301206563, 16305938657, 163098...</td>\n",
       "    </tr>\n",
       "    <tr>\n",
       "      <th>7</th>\n",
       "      <td>swisscrmforum</td>\n",
       "      <td>2010-06-24</td>\n",
       "      <td>swisscrmforum</td>\n",
       "      <td>swisscrmforum</td>\n",
       "      <td>8.543925</td>\n",
       "      <td>47.402544</td>\n",
       "      <td>43.0</td>\n",
       "      <td>15.0</td>\n",
       "      <td>[16910610939, 16911022902, 16911067954, 169121...</td>\n",
       "    </tr>\n",
       "  </tbody>\n",
       "</table>\n",
       "</div>"
      ],
      "text/plain": [
       "             name       date         keywords       hashtags  longitude  \\\n",
       "0   zhwahlen2010  2010-03-07     zhwahlen2010   zhwahlen2010   8.530788   \n",
       "1       cern lhc  2010-03-30  7tev, cern, lhc      cern, lhc   6.117434   \n",
       "2             fb  2010-05-22               fb             fb   6.141726   \n",
       "3       gfsc2010  2010-05-29         gfsc2010       gfsc2010   6.148203   \n",
       "4         bcbs10  2010-06-05           bcbs10         bcbs10   9.170459   \n",
       "5            mcw  2010-06-12              mcw            mcw   8.534659   \n",
       "6       worldcup  2010-06-16  Swiss, worldcup       worldcup   8.294810   \n",
       "7  swisscrmforum  2010-06-24    swisscrmforum  swisscrmforum   8.543925   \n",
       "\n",
       "    latitude  # of tweets  # of people  \\\n",
       "0  47.371580         10.0          3.0   \n",
       "1  46.206506         16.0          6.0   \n",
       "2  46.196613          8.0          4.0   \n",
       "3  46.209564         11.0          4.0   \n",
       "4  47.667207         14.0          3.0   \n",
       "5  47.381571         14.0          6.0   \n",
       "6  47.080213          8.0          3.0   \n",
       "7  47.402544         43.0         15.0   \n",
       "\n",
       "                                            tweetids  \n",
       "0  [10096142854, 10117661003, 10122712301, 101240...  \n",
       "1  [11290380524, 11290576184, 11291387514, 112915...  \n",
       "2  [14473013419, 14477514037, 14477623268, 144796...  \n",
       "3  [14958559754, 14959412920, 14963118521, 149633...  \n",
       "4  [15474249596, 15475025339, 15476055767, 154770...  \n",
       "5  [15989515737, 15990232708, 15990669914, 159936...  \n",
       "6  [16285080907, 16301206563, 16305938657, 163098...  \n",
       "7  [16910610939, 16911022902, 16911067954, 169121...  "
      ]
     },
     "execution_count": 47,
     "metadata": {},
     "output_type": "execute_result"
    }
   ],
   "source": [
    "df_event"
   ]
  },
  {
   "cell_type": "code",
   "execution_count": 48,
   "metadata": {
    "collapsed": true
   },
   "outputs": [],
   "source": [
    "df_event.to_csv(\"../twitter-swisscom/twex_event_final_events_10000.csv\", sep=',', encoding='utf-8', index=False)"
   ]
  },
  {
   "cell_type": "code",
   "execution_count": 40,
   "metadata": {
    "collapsed": false
   },
   "outputs": [],
   "source": [
    "df_event = pd.read_csv(\"../twitter-swisscom/twex_event_final_events_10000.csv\", sep=',', encoding='utf-8')"
   ]
  },
  {
   "cell_type": "code",
   "execution_count": 41,
   "metadata": {
    "collapsed": true
   },
   "outputs": [],
   "source": [
    "def correct_df(row):\n",
    "    row['keywords'] = row['keywords'][2:-2]\n",
    "    newkeywords = \"\"\n",
    "    for index in range(0, len(row['keywords'])):\n",
    "        if row['keywords'][index]!=\"'\":\n",
    "            newkeywords += row['keywords'][index]\n",
    "    row['keywords'] = newkeywords\n",
    "    \n",
    "    row['hashtags'] = row['hashtags'][2:-2]\n",
    "    newhashtags = \"\"\n",
    "    for index in range(0, len(row['hashtags'])):\n",
    "        if row['hashtags'][index]!=\"'\":\n",
    "            newhashtags += row['hashtags'][index]\n",
    "    row['hashtags'] = newhashtags\n",
    "    return row"
   ]
  },
  {
   "cell_type": "code",
   "execution_count": 42,
   "metadata": {
    "collapsed": false
   },
   "outputs": [],
   "source": [
    "df_event = df_event.apply(correct_df, axis=1)"
   ]
  },
  {
   "cell_type": "code",
   "execution_count": 43,
   "metadata": {
    "collapsed": false
   },
   "outputs": [
    {
     "ename": "ValueError",
     "evalue": "malformed node or string: <_ast.Name object at 0x0000022A0CCFA278>",
     "output_type": "error",
     "traceback": [
      "\u001b[0;31m---------------------------------------------------------------------------\u001b[0m",
      "\u001b[0;31mValueError\u001b[0m                                Traceback (most recent call last)",
      "\u001b[0;32m<ipython-input-43-156cb487e16e>\u001b[0m in \u001b[0;36m<module>\u001b[0;34m()\u001b[0m\n\u001b[1;32m      2\u001b[0m \u001b[1;33m\u001b[0m\u001b[0m\n\u001b[1;32m      3\u001b[0m \u001b[1;32mfor\u001b[0m \u001b[0mindex\u001b[0m \u001b[1;32min\u001b[0m \u001b[0mrange\u001b[0m\u001b[1;33m(\u001b[0m\u001b[1;36m0\u001b[0m\u001b[1;33m,\u001b[0m\u001b[0mlen\u001b[0m\u001b[1;33m(\u001b[0m\u001b[0mdf_event\u001b[0m\u001b[1;33m)\u001b[0m\u001b[1;33m)\u001b[0m\u001b[1;33m:\u001b[0m\u001b[1;33m\u001b[0m\u001b[0m\n\u001b[0;32m----> 4\u001b[0;31m     \u001b[0mnewlist_keywords\u001b[0m \u001b[1;33m=\u001b[0m \u001b[0mliteral_eval\u001b[0m\u001b[1;33m(\u001b[0m\u001b[0mdf_event\u001b[0m\u001b[1;33m.\u001b[0m\u001b[0mkeywords\u001b[0m\u001b[1;33m[\u001b[0m\u001b[0mindex\u001b[0m\u001b[1;33m]\u001b[0m\u001b[1;33m)\u001b[0m\u001b[1;33m\u001b[0m\u001b[0m\n\u001b[0m\u001b[1;32m      5\u001b[0m     \u001b[0mdf_event\u001b[0m\u001b[1;33m.\u001b[0m\u001b[0mkeywords\u001b[0m\u001b[1;33m[\u001b[0m\u001b[0mindex\u001b[0m\u001b[1;33m]\u001b[0m \u001b[1;33m=\u001b[0m \u001b[0mnewlist_keywords\u001b[0m\u001b[1;33m\u001b[0m\u001b[0m\n\u001b[1;32m      6\u001b[0m \u001b[1;33m\u001b[0m\u001b[0m\n",
      "\u001b[0;32mC:\\Users\\Alain\\Anaconda3\\lib\\ast.py\u001b[0m in \u001b[0;36mliteral_eval\u001b[0;34m(node_or_string)\u001b[0m\n\u001b[1;32m     82\u001b[0m                 \u001b[1;32mreturn\u001b[0m \u001b[0mleft\u001b[0m \u001b[1;33m-\u001b[0m \u001b[0mright\u001b[0m\u001b[1;33m\u001b[0m\u001b[0m\n\u001b[1;32m     83\u001b[0m         \u001b[1;32mraise\u001b[0m \u001b[0mValueError\u001b[0m\u001b[1;33m(\u001b[0m\u001b[1;34m'malformed node or string: '\u001b[0m \u001b[1;33m+\u001b[0m \u001b[0mrepr\u001b[0m\u001b[1;33m(\u001b[0m\u001b[0mnode\u001b[0m\u001b[1;33m)\u001b[0m\u001b[1;33m)\u001b[0m\u001b[1;33m\u001b[0m\u001b[0m\n\u001b[0;32m---> 84\u001b[0;31m     \u001b[1;32mreturn\u001b[0m \u001b[0m_convert\u001b[0m\u001b[1;33m(\u001b[0m\u001b[0mnode_or_string\u001b[0m\u001b[1;33m)\u001b[0m\u001b[1;33m\u001b[0m\u001b[0m\n\u001b[0m\u001b[1;32m     85\u001b[0m \u001b[1;33m\u001b[0m\u001b[0m\n\u001b[1;32m     86\u001b[0m \u001b[1;33m\u001b[0m\u001b[0m\n",
      "\u001b[0;32mC:\\Users\\Alain\\Anaconda3\\lib\\ast.py\u001b[0m in \u001b[0;36m_convert\u001b[0;34m(node)\u001b[0m\n\u001b[1;32m     81\u001b[0m             \u001b[1;32melse\u001b[0m\u001b[1;33m:\u001b[0m\u001b[1;33m\u001b[0m\u001b[0m\n\u001b[1;32m     82\u001b[0m                 \u001b[1;32mreturn\u001b[0m \u001b[0mleft\u001b[0m \u001b[1;33m-\u001b[0m \u001b[0mright\u001b[0m\u001b[1;33m\u001b[0m\u001b[0m\n\u001b[0;32m---> 83\u001b[0;31m         \u001b[1;32mraise\u001b[0m \u001b[0mValueError\u001b[0m\u001b[1;33m(\u001b[0m\u001b[1;34m'malformed node or string: '\u001b[0m \u001b[1;33m+\u001b[0m \u001b[0mrepr\u001b[0m\u001b[1;33m(\u001b[0m\u001b[0mnode\u001b[0m\u001b[1;33m)\u001b[0m\u001b[1;33m)\u001b[0m\u001b[1;33m\u001b[0m\u001b[0m\n\u001b[0m\u001b[1;32m     84\u001b[0m     \u001b[1;32mreturn\u001b[0m \u001b[0m_convert\u001b[0m\u001b[1;33m(\u001b[0m\u001b[0mnode_or_string\u001b[0m\u001b[1;33m)\u001b[0m\u001b[1;33m\u001b[0m\u001b[0m\n\u001b[1;32m     85\u001b[0m \u001b[1;33m\u001b[0m\u001b[0m\n",
      "\u001b[0;31mValueError\u001b[0m: malformed node or string: <_ast.Name object at 0x0000022A0CCFA278>"
     ]
    }
   ],
   "source": [
    "from ast import literal_eval\n",
    "\n",
    "for index in range(0,len(df_event)):\n",
    "    newlist_keywords = literal_eval(df_event.keywords[index])\n",
    "    df_event.keywords[index] = newlist_keywords\n",
    "    \n",
    "    newlist_hashtags = literal_eval(df_event.hashtags[index])\n",
    "    df_event.hashtags[index] = newlist_hashtags"
   ]
  },
  {
   "cell_type": "code",
   "execution_count": null,
   "metadata": {
    "collapsed": false,
    "scrolled": false
   },
   "outputs": [],
   "source": [
    "df_event"
   ]
  },
  {
   "cell_type": "code",
   "execution_count": null,
   "metadata": {
    "collapsed": true
   },
   "outputs": [],
   "source": []
  },
  {
   "cell_type": "code",
   "execution_count": null,
   "metadata": {
    "collapsed": true
   },
   "outputs": [],
   "source": [
    "df_event.to_csv(\"../twitter-swisscom/event_detected_final.csv\", sep=',', encoding='utf-8', index=False)"
   ]
  }
 ],
 "metadata": {
  "anaconda-cloud": {},
  "kernelspec": {
   "display_name": "Python [conda root]",
   "language": "python",
   "name": "conda-root-py"
  },
  "language_info": {
   "codemirror_mode": {
    "name": "ipython",
    "version": 3
   },
   "file_extension": ".py",
   "mimetype": "text/x-python",
   "name": "python",
   "nbconvert_exporter": "python",
   "pygments_lexer": "ipython3",
   "version": "3.5.2"
  }
 },
 "nbformat": 4,
 "nbformat_minor": 1
}
