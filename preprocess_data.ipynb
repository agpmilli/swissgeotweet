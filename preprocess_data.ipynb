{
 "cells": [
  {
   "cell_type": "code",
   "execution_count": null,
   "metadata": {
    "collapsed": true
   },
   "outputs": [],
   "source": [
    "#required imports\n",
    "import csv \n",
    "import os"
   ]
  },
  {
   "cell_type": "code",
   "execution_count": null,
   "metadata": {
    "collapsed": false
   },
   "outputs": [],
   "source": [
    "path_before = 'twitter-swisscom/twex_split_1/'\n",
    "path_after = 'twitter-swisscom/twex_split_processed/'"
   ]
  },
  {
   "cell_type": "code",
   "execution_count": null,
   "metadata": {
    "collapsed": true
   },
   "outputs": [],
   "source": [
    "def RepresentsFloat(s):\n",
    "    try: \n",
    "        float(s)\n",
    "        return True\n",
    "    except ValueError:\n",
    "        return False"
   ]
  },
  {
   "cell_type": "code",
   "execution_count": null,
   "metadata": {
    "collapsed": false
   },
   "outputs": [],
   "source": [
    "for filename in os.listdir(path_before):\n",
    "    with open(str(path_before) + str(filename),'r',encoding ='utf8') as tsv:\n",
    "        AoA = [line.strip().split('\\t') for line in tsv]\n",
    "        \n",
    "    file_out = open(str(path_after) + str(filename),'w',encoding ='utf8')\n",
    "    for row in AoA: \n",
    "        if len(row)==20:\n",
    "            if (RepresentsFloat(row[4]) & RepresentsFloat(row[5]) & RepresentsFloat(row[10]) & RepresentsFloat(row[11])) :\n",
    "                for i in [1,2,4,5,6,10,11,19]:\n",
    "                    file_out.write(str(row[i]) + \"\\t\")\n",
    "                file_out.write(\"\\n\")            \n",
    "file_out.close()"
   ]
  },
  {
   "cell_type": "code",
   "execution_count": null,
   "metadata": {
    "collapsed": true
   },
   "outputs": [],
   "source": []
  }
 ],
 "metadata": {
  "anaconda-cloud": {},
  "kernelspec": {
   "display_name": "Python [conda root]",
   "language": "python",
   "name": "conda-root-py"
  },
  "language_info": {
   "codemirror_mode": {
    "name": "ipython",
    "version": 3
   },
   "file_extension": ".py",
   "mimetype": "text/x-python",
   "name": "python",
   "nbconvert_exporter": "python",
   "pygments_lexer": "ipython3",
   "version": "3.5.2"
  }
 },
 "nbformat": 4,
 "nbformat_minor": 1
}
