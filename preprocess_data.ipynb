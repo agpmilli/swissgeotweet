{
 "cells": [
  {
   "cell_type": "code",
   "execution_count": null,
   "metadata": {
    "collapsed": true
   },
   "outputs": [],
   "source": [
    "#required imports\n",
    "import csv \n",
    "import os"
   ]
  },
  {
   "cell_type": "markdown",
   "metadata": {},
   "source": [
    "# Preprocess the data to get a clean dataset to work on\n",
    "\n",
    "We decide to keep only this schema from the initial data :\n",
    "\n",
    "2       userId\n",
    "\n",
    "3       createdAt\n",
    "\n",
    "5       longitude\n",
    "\n",
    "6       latitude\n",
    "\n",
    "7       placeId\n",
    "\n",
    "11      placeLatitude\n",
    "\n",
    "12      placeLongitude\n",
    "\n",
    "20      userLocation\n",
    "\n",
    "We verify that the longitude, latitude, placeLatitude and placeLongitude are either float or '\\N' because sometimes in the text field we get a '\\t' that displace the values of the following columns.\n",
    "\n",
    "\n",
    "## TODO should we correct the fact that some text fields break some lines ?"
   ]
  },
  {
   "cell_type": "code",
   "execution_count": null,
   "metadata": {
    "collapsed": false
   },
   "outputs": [],
   "source": [
    "path_before = 'twitter-swisscom/twex_split_1/'\n",
    "path_after = 'twitter-swisscom/twex_split_processed/'"
   ]
  },
  {
   "cell_type": "code",
   "execution_count": null,
   "metadata": {
    "collapsed": true
   },
   "outputs": [],
   "source": [
    "def RepresentsFloat(s):\n",
    "    try: \n",
    "        float(s)\n",
    "        return True\n",
    "    except ValueError:\n",
    "        return False"
   ]
  },
  {
   "cell_type": "code",
   "execution_count": null,
   "metadata": {
    "collapsed": false
   },
   "outputs": [],
   "source": [
    "for filename in os.listdir(path_before):\n",
    "    with open(str(path_before) + str(filename),'r',encoding ='utf8') as tsv:\n",
    "        AoA = [line.strip().split('\\t') for line in tsv]\n",
    "        #print(filename)\n",
    "        #print(AoA[68])\n",
    "        #print(AoA[69])\n",
    "        #print(AoA[70])\n",
    "        \n",
    "    file_out = open(str(path_after) + str(filename),'w',encoding ='utf8')\n",
    "    for row in AoA:\n",
    "        if len(row)==20:\n",
    "            if ((RepresentsFloat(row[4]) | (row[4]=='\\\\N'))& (RepresentsFloat(row[5]) | (row[5]=='\\\\N')) & (RepresentsFloat(row[10]) | (row[10]=='\\\\N')) & (RepresentsFloat(row[11]) | (row[11]=='\\\\N'))):\n",
    "                for i in [1,2,4,5,6,10,11,19]:\n",
    "                    file_out.write(str(row[i]) + \"\\t\")    \n",
    "                file_out.write(\"\\n\")\n",
    "file_out.close()\n",
    "print(\"DONE\")"
   ]
  },
  {
   "cell_type": "code",
   "execution_count": null,
   "metadata": {
    "collapsed": false
   },
   "outputs": [],
   "source": [
    "with open('twitter-swisscom/twex_location.tsv', 'w', encoding='utf8') as outfile:\n",
    "    for filename in os.listdir(path_after):\n",
    "        with open((str(path_after) + str(filename)), 'r', encoding='utf8') as infile:\n",
    "            for line in infile:\n",
    "                outfile.write(line)\n",
    "print(\"DONE\")"
   ]
  },
  {
   "cell_type": "code",
   "execution_count": null,
   "metadata": {
    "collapsed": false
   },
   "outputs": [],
   "source": [
    "with open('twitter-swisscom/twex_location.tsv', 'r', encoding='utf8') as infile:\n",
    "    with open('twitter-swisscom/twex_location_corrected.tsv',\"w\", encoding='utf8') as outfile:\n",
    "        for row in infile:\n",
    "            outfile.write(str(row[:-2]) + \"\\n\")\n",
    "            outfile.newlines\n",
    "print(\"DONE\")"
   ]
  },
  {
   "cell_type": "code",
   "execution_count": null,
   "metadata": {
    "collapsed": true
   },
   "outputs": [],
   "source": []
  }
 ],
 "metadata": {
  "anaconda-cloud": {},
  "kernelspec": {
   "display_name": "Python [conda root]",
   "language": "python",
   "name": "conda-root-py"
  },
  "language_info": {
   "codemirror_mode": {
    "name": "ipython",
    "version": 3
   },
   "file_extension": ".py",
   "mimetype": "text/x-python",
   "name": "python",
   "nbconvert_exporter": "python",
   "pygments_lexer": "ipython3",
   "version": "3.5.2"
  }
 },
 "nbformat": 4,
 "nbformat_minor": 1
}
