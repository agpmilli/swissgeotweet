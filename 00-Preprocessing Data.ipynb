{
 "cells": [
  {
   "cell_type": "markdown",
   "metadata": {},
   "source": [
    "# Preprocess the data to get a clean dataset to work on\n",
    "\n",
    "We need two different datasets to do the two different tasks we want to achieve :\n",
    "\n",
    "1 - [Mobility Pattern](#mobility)\n",
    "\n",
    "2 - [Event Detection](#event)"
   ]
  },
  {
   "cell_type": "code",
   "execution_count": 1,
   "metadata": {
    "collapsed": true
   },
   "outputs": [],
   "source": [
    "import csv \n",
    "import os\n",
    "import shutil"
   ]
  },
  {
   "cell_type": "code",
   "execution_count": null,
   "metadata": {
    "collapsed": true
   },
   "outputs": [],
   "source": [
    "def RepresentsFloat(s):\n",
    "    try: \n",
    "        float(s)\n",
    "        return True\n",
    "    except ValueError:\n",
    "        return False"
   ]
  },
  {
   "cell_type": "markdown",
   "metadata": {},
   "source": [
    "### 1 - <a id='mobility'>Mobility Pattern</a>\n",
    "\n",
    "Here is the columns we want to keep for mobility pattern detection :\n",
    "\n",
    "    id     \n",
    "    userId\n",
    "    createdAt\n",
    "    longitude\n",
    "    latitude\n",
    "    placeId\n",
    "    placeLatitude\n",
    "    placeLongitude\n",
    "    sourceName \n",
    "    userLocation\n",
    "\n",
    "We verify that the longitude, latitude, placeLatitude and placeLongitude are either float or '\\N' because sometimes in the text field we get a '\\t' that displace the values of the following columns."
   ]
  },
  {
   "cell_type": "markdown",
   "metadata": {},
   "source": [
    "We go through the chunks of the original data and keep only columns we want"
   ]
  },
  {
   "cell_type": "code",
   "execution_count": null,
   "metadata": {
    "collapsed": false
   },
   "outputs": [],
   "source": [
    "path_before = 'twitter-swisscom/twex_split/'\n",
    "path_after = 'twitter-swisscom/twex_split_mobility_processed/'"
   ]
  },
  {
   "cell_type": "code",
   "execution_count": null,
   "metadata": {
    "collapsed": false
   },
   "outputs": [],
   "source": [
    "for filename in os.listdir(path_before):\n",
    "    with open(str(path_before) + str(filename),'r',encoding ='utf8') as tsv:\n",
    "        AoA = [line.strip().split('\\t') for line in tsv]\n",
    "        \n",
    "    file_out = open(str(path_after) + str(filename),'w',encoding ='utf8')\n",
    "    for row in AoA:\n",
    "        if len(row)==20:\n",
    "            if ((RepresentsFloat(row[4]) | (row[4]=='\\\\N'))& (RepresentsFloat(row[5]) | (row[5]=='\\\\N')) & (RepresentsFloat(row[10]) | (row[10]=='\\\\N')) & (RepresentsFloat(row[11]) | (row[11]=='\\\\N'))):\n",
    "                for i in [0,1,2,4,5,6,10,11,12,19]:\n",
    "                    file_out.write(str(row[i]) + \"\\t\")    \n",
    "                file_out.write(\"\\n\")\n",
    "file_out.close()\n",
    "print(\"DONE\")"
   ]
  },
  {
   "cell_type": "markdown",
   "metadata": {},
   "source": [
    "We create the wanted tsv file !"
   ]
  },
  {
   "cell_type": "code",
   "execution_count": null,
   "metadata": {
    "collapsed": false
   },
   "outputs": [],
   "source": [
    "with open('twitter-swisscom/twex_mobility.tsv', 'w', encoding='utf8') as outfile:\n",
    "    for filename in os.listdir(path_after):\n",
    "        with open((str(path_after) + str(filename)), 'r', encoding='utf8') as infile:\n",
    "            for line in infile:\n",
    "                outfile.write(line)\n",
    "print(\"DONE\")"
   ]
  },
  {
   "cell_type": "code",
   "execution_count": null,
   "metadata": {
    "collapsed": true
   },
   "outputs": [],
   "source": [
    "shutil.rmtree('twitter-swisscom/twex_split_mobility_processed')"
   ]
  },
  {
   "cell_type": "code",
   "execution_count": null,
   "metadata": {
    "collapsed": false
   },
   "outputs": [],
   "source": [
    "with open('twitter-swisscom/twex_mobility.tsv', 'r', encoding='utf8') as infile:\n",
    "    with open('twitter-swisscom/mobility/twex_mobility_corrected.tsv',\"w\", encoding='utf8') as outfile:\n",
    "        for row in infile:\n",
    "            outfile.write(str(row[:-2]) + \"\\n\")\n",
    "            outfile.newlines\n",
    "print(\"DONE\")"
   ]
  },
  {
   "cell_type": "code",
   "execution_count": null,
   "metadata": {
    "collapsed": false
   },
   "outputs": [],
   "source": [
    "os.remove('twitter-swisscom/twex_mobility.tsv')"
   ]
  },
  {
   "cell_type": "markdown",
   "metadata": {
    "collapsed": true
   },
   "source": [
    "### 2 - <a id='event'>Event detection<a>\n",
    "\n",
    "Here is the columns we want to keep for Event detection :\n",
    "\n",
    "    id     \n",
    "    userId\n",
    "    createdAt\n",
    "    text     \n",
    "    longitude\n",
    "    latitude\n",
    "    placeId\n",
    "    inReplyTo \n",
    "    placeLatitude\n",
    "    placeLongitude\n",
    "\n",
    "We verify that the longitude, latitude, placeLatitude and placeLongitude are either float or '\\N' because sometimes in the text field we get a '\\t' that displace the values of the following columns."
   ]
  },
  {
   "cell_type": "markdown",
   "metadata": {},
   "source": [
    "We go through the chunks of the original data and keep only columns we want"
   ]
  },
  {
   "cell_type": "code",
   "execution_count": null,
   "metadata": {
    "collapsed": true
   },
   "outputs": [],
   "source": [
    "path_before = 'twitter-swisscom/twex_split/'\n",
    "path_after = 'twitter-swisscom/twex_split_event_processed/'"
   ]
  },
  {
   "cell_type": "code",
   "execution_count": null,
   "metadata": {
    "collapsed": false
   },
   "outputs": [],
   "source": [
    "for filename in os.listdir(path_before):\n",
    "    with open(str(path_before) + str(filename),'r',encoding ='utf8') as tsv:\n",
    "        AoA = [line.strip().split('\\t') for line in tsv]\n",
    "        \n",
    "    file_out = open(str(path_after) + str(filename),'w',encoding ='utf8')\n",
    "    for row in AoA:\n",
    "        if len(row)==20:\n",
    "            if ((RepresentsFloat(row[4]) | (row[4]=='\\\\N'))& (RepresentsFloat(row[5]) | (row[5]=='\\\\N')) & (RepresentsFloat(row[10]) | (row[10]=='\\\\N')) & (RepresentsFloat(row[11]) | (row[11]=='\\\\N'))):\n",
    "                for i in [0,1,2,3,4,5,6,7,10,11]:\n",
    "                    file_out.write(str(row[i]) + \"\\t\")    \n",
    "                file_out.write(\"\\n\")\n",
    "file_out.close()\n",
    "print(\"DONE\")"
   ]
  },
  {
   "cell_type": "markdown",
   "metadata": {},
   "source": [
    "We create the wanted tsv file !"
   ]
  },
  {
   "cell_type": "code",
   "execution_count": null,
   "metadata": {
    "collapsed": false
   },
   "outputs": [],
   "source": [
    "with open('twitter-swisscom/twex_event.tsv', 'w', encoding='utf8') as outfile:\n",
    "    for filename in os.listdir(path_after):\n",
    "        with open((str(path_after) + str(filename)), 'r', encoding='utf8') as infile:\n",
    "            for line in infile:\n",
    "                outfile.write(line)\n",
    "print(\"DONE\")"
   ]
  },
  {
   "cell_type": "code",
   "execution_count": null,
   "metadata": {
    "collapsed": true
   },
   "outputs": [],
   "source": [
    "shutil.rmtree('twitter-swisscom/twex_split_event_processed')"
   ]
  },
  {
   "cell_type": "code",
   "execution_count": null,
   "metadata": {
    "collapsed": false
   },
   "outputs": [],
   "source": [
    "with open('twitter-swisscom/twex_event.tsv', 'r', encoding='utf8') as infile:\n",
    "    with open('twitter-swisscom/twex_event_corrected.tsv',\"w\", encoding='utf8') as outfile:\n",
    "        for row in infile:\n",
    "            outfile.write(str(row[:-2]) + \"\\n\")\n",
    "            outfile.newlines\n",
    "print(\"DONE\")"
   ]
  },
  {
   "cell_type": "code",
   "execution_count": null,
   "metadata": {
    "collapsed": false
   },
   "outputs": [],
   "source": [
    "os.remove('twitter-swisscom/twex_event.tsv')"
   ]
  },
  {
   "cell_type": "code",
   "execution_count": null,
   "metadata": {
    "collapsed": true
   },
   "outputs": [],
   "source": []
  }
 ],
 "metadata": {
  "anaconda-cloud": {},
  "kernelspec": {
   "display_name": "Python [conda root]",
   "language": "python",
   "name": "conda-root-py"
  },
  "language_info": {
   "codemirror_mode": {
    "name": "ipython",
    "version": 3
   },
   "file_extension": ".py",
   "mimetype": "text/x-python",
   "name": "python",
   "nbconvert_exporter": "python",
   "pygments_lexer": "ipython3",
   "version": "3.5.2"
  }
 },
 "nbformat": 4,
 "nbformat_minor": 1
}
